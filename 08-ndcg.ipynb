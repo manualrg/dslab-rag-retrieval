{
 "cells": [
  {
   "cell_type": "code",
   "execution_count": 7,
   "id": "aef92953",
   "metadata": {},
   "outputs": [],
   "source": [
    "import numpy as np\n",
    "from sklearn.metrics import ndcg_score, dcg_score\n",
    "\n",
    "# we have ground-truth relevance of some answers (d1-d5) to a query (q1):\n",
    "true_relevance = np.asarray([\n",
    "        [3, 2, 0, 1, 2]  # q1 answers\n",
    "    ]\n",
    "    )"
   ]
  },
  {
   "cell_type": "code",
   "execution_count": null,
   "id": "40df8cc8",
   "metadata": {},
   "outputs": [],
   "source": [
    "\n",
    "# we have ground-truth relevance of some answers (d1-d5) to a query (q1):\n",
    "true_relevance = np.asarray([\n",
    "        [3, 2, 0, 1, 2]  # q1 answers\n",
    "    ]\n",
    "    )\n",
    "\n",
    "# we predict some scores (relevance) for the answers (d1-d5)\n",
    "pred_scores = np.asarray([\n",
    "    [1, 2, 3, 4, 5]\n",
    "    ])\n"
   ]
  },
  {
   "cell_type": "code",
   "execution_count": 15,
   "id": "7ae9d7ba",
   "metadata": {},
   "outputs": [
    {
     "data": {
      "text/plain": [
       "4.652841291421868"
      ]
     },
     "execution_count": 15,
     "metadata": {},
     "output_type": "execute_result"
    }
   ],
   "source": [
    "dcg_score(true_relevance, pred_scores)"
   ]
  },
  {
   "cell_type": "code",
   "execution_count": 16,
   "id": "5105253a",
   "metadata": {},
   "outputs": [
    {
     "data": {
      "text/plain": [
       "0.8173582456249344"
      ]
     },
     "execution_count": 16,
     "metadata": {},
     "output_type": "execute_result"
    }
   ],
   "source": [
    "ndcg_score(true_relevance, pred_scores)"
   ]
  }
 ],
 "metadata": {
  "kernelspec": {
   "display_name": ".venv",
   "language": "python",
   "name": "python3"
  },
  "language_info": {
   "codemirror_mode": {
    "name": "ipython",
    "version": 3
   },
   "file_extension": ".py",
   "mimetype": "text/x-python",
   "name": "python",
   "nbconvert_exporter": "python",
   "pygments_lexer": "ipython3",
   "version": "3.11.9"
  }
 },
 "nbformat": 4,
 "nbformat_minor": 5
}
