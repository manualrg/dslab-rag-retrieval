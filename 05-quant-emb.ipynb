{
 "cells": [
  {
   "cell_type": "markdown",
   "id": "fa52ce7e",
   "metadata": {},
   "source": [
    "# Embeddings Quantization"
   ]
  },
  {
   "cell_type": "code",
   "execution_count": 2,
   "id": "d80ab1d5",
   "metadata": {},
   "outputs": [],
   "source": [
    "%load_ext autoreload\n",
    "%autoreload 2"
   ]
  },
  {
   "cell_type": "code",
   "execution_count": 3,
   "id": "8c0e5386",
   "metadata": {},
   "outputs": [
    {
     "name": "stderr",
     "output_type": "stream",
     "text": [
      "c:\\Users\\manua\\Documents\\repos\\dslabs\\dslab-rag-retrieval\\.venv\\Lib\\site-packages\\tqdm\\auto.py:21: TqdmWarning: IProgress not found. Please update jupyter and ipywidgets. See https://ipywidgets.readthedocs.io/en/stable/user_install.html\n",
      "  from .autonotebook import tqdm as notebook_tqdm\n"
     ]
    }
   ],
   "source": [
    "import uuid\n",
    "import pandas as pd\n",
    "from datasets import load_dataset\n",
    "from fastembed import TextEmbedding\n",
    "from qdrant_client import models, QdrantClient\n",
    "\n",
    "from src import load_data, embeddings\n"
   ]
  },
  {
   "cell_type": "markdown",
   "id": "4590f8ea",
   "metadata": {},
   "source": [
    "# Params"
   ]
  },
  {
   "cell_type": "code",
   "execution_count": 4,
   "id": "15f1961f",
   "metadata": {},
   "outputs": [],
   "source": [
    "RETRIEVE_K=5\n",
    "SMPL_SIZE = 25  # int or None"
   ]
  },
  {
   "cell_type": "markdown",
   "id": "07654116",
   "metadata": {},
   "source": [
    "# Clients"
   ]
  },
  {
   "cell_type": "code",
   "execution_count": 5,
   "id": "a3ec27d1",
   "metadata": {},
   "outputs": [],
   "source": [
    "client_qdrant = QdrantClient(\":memory:\") \n"
   ]
  },
  {
   "cell_type": "markdown",
   "id": "64054a22",
   "metadata": {},
   "source": [
    "# Load and Prepare Data"
   ]
  },
  {
   "cell_type": "code",
   "execution_count": 6,
   "id": "39c59b84",
   "metadata": {},
   "outputs": [
    {
     "name": "stdout",
     "output_type": "stream",
     "text": [
      "Raw shape: (250, 3)\n",
      "<class 'pandas.core.frame.DataFrame'>\n",
      "RangeIndex: 183 entries, 0 to 182\n",
      "Data columns (total 10 columns):\n",
      " #   Column    Non-Null Count  Dtype \n",
      "---  ------    --------------  ----- \n",
      " 0   index     183 non-null    int64 \n",
      " 1   topic     183 non-null    object\n",
      " 2   variant   183 non-null    object\n",
      " 3   question  183 non-null    object\n",
      " 4   answer    183 non-null    object\n",
      " 5   j         183 non-null    int64 \n",
      " 6   context_  183 non-null    object\n",
      " 7   text_     183 non-null    object\n",
      " 8   link_     183 non-null    object\n",
      " 9   uuid      183 non-null    object\n",
      "dtypes: int64(2), object(8)\n",
      "memory usage: 14.4+ KB\n"
     ]
    }
   ],
   "source": [
    "df_ragquas = load_data.ragquas()\n",
    "df_docs = load_data.prepare_ragquas(df_ragquas)\n",
    "df_docs.info()"
   ]
  },
  {
   "cell_type": "code",
   "execution_count": 7,
   "id": "d76854a2",
   "metadata": {},
   "outputs": [],
   "source": [
    "if SMPL_SIZE:\n",
    "    df_docs_smpl = df_docs.iloc[:SMPL_SIZE]\n",
    "else:\n",
    "    df_docs_smpl = df_docs"
   ]
  },
  {
   "cell_type": "markdown",
   "id": "11c3daa4",
   "metadata": {},
   "source": [
    "# Embeddings"
   ]
  },
  {
   "cell_type": "code",
   "execution_count": 8,
   "id": "3abdd05c",
   "metadata": {},
   "outputs": [
    {
     "name": "stderr",
     "output_type": "stream",
     "text": [
      "C:\\Users\\manua\\AppData\\Local\\Temp\\ipykernel_19224\\315642572.py:1: UserWarning: The model sentence-transformers/paraphrase-multilingual-mpnet-base-v2 now uses mean pooling instead of CLS embedding. In order to preserve the previous behaviour, consider either pinning fastembed version to 0.5.1 or using `add_custom_model` functionality.\n",
      "  encoder = TextEmbedding(\n"
     ]
    },
    {
     "name": "stdout",
     "output_type": "stream",
     "text": [
      "len(dn_embeddings)=25\n",
      "len(dn_embeddings[0])=768\n"
     ]
    }
   ],
   "source": [
    "encoder = TextEmbedding(\n",
    "    model_name=\"sentence-transformers/paraphrase-multilingual-mpnet-base-v2\"\n",
    "    )\n",
    "\n",
    "\n",
    "dn_embeddings = list(encoder.embed(df_docs_smpl['text_']))\n",
    "\n",
    "print(f\"{len(dn_embeddings)=}\")\n",
    "print(f\"{len(dn_embeddings[0])=}\")"
   ]
  },
  {
   "cell_type": "code",
   "execution_count": 9,
   "id": "d554815f",
   "metadata": {},
   "outputs": [
    {
     "name": "stdout",
     "output_type": "stream",
     "text": [
      "len(lst_qdrant_pts)=25\n"
     ]
    }
   ],
   "source": [
    "lst_embeddings = []\n",
    "\n",
    "for idx in range(len(dn_embeddings)):\n",
    "    dn_vec = dn_embeddings[idx]\n",
    "\n",
    "    lst_embeddings.append(\n",
    "        dn_vec.tolist()\n",
    "    )\n",
    "\n",
    "lst_pts = embeddings.create_index_points(\n",
    "    lst_embeddings,\n",
    "    df_docs_smpl,\n",
    ")\n",
    "\n",
    "lst_qdrant_pts = embeddings.convert_to_qdrant_points(lst_pts)\n",
    "\n",
    "print(f\"{len(lst_qdrant_pts)=}\")"
   ]
  },
  {
   "cell_type": "code",
   "execution_count": 10,
   "id": "fa810657",
   "metadata": {},
   "outputs": [
    {
     "data": {
      "text/plain": [
       "UpdateResult(operation_id=0, status=<UpdateStatus.COMPLETED: 'completed'>)"
      ]
     },
     "execution_count": 10,
     "metadata": {},
     "output_type": "execute_result"
    }
   ],
   "source": [
    "client_qdrant.create_collection(\n",
    "    collection_name='raw',\n",
    "    vectors_config=models.VectorParams(\n",
    "            size=encoder.embedding_size, \n",
    "            distance=models.Distance.COSINE,\n",
    "        )\n",
    ")\n",
    "\n",
    "client_qdrant.create_collection(\n",
    "    collection_name='q2',\n",
    "    vectors_config=models.VectorParams(\n",
    "            size=encoder.embedding_size, \n",
    "            distance=models.Distance.COSINE,\n",
    "        ),\n",
    "    quantization_config=models.BinaryQuantization(\n",
    "        binary=models.BinaryQuantizationConfig(\n",
    "            always_ram=True,\n",
    "        ),\n",
    "    ),\n",
    ")\n",
    "\n",
    "client_qdrant.upsert(\n",
    "    collection_name='raw',\n",
    "    points=lst_qdrant_pts\n",
    ")\n",
    "\n",
    "client_qdrant.upsert(\n",
    "    collection_name='q2',\n",
    "    points=lst_qdrant_pts\n",
    ")"
   ]
  },
  {
   "cell_type": "code",
   "execution_count": 11,
   "id": "e8ad67b9",
   "metadata": {},
   "outputs": [
    {
     "data": {
      "text/plain": [
       "UpdateResult(operation_id=0, status=<UpdateStatus.COMPLETED: 'completed'>)"
      ]
     },
     "execution_count": 11,
     "metadata": {},
     "output_type": "execute_result"
    }
   ],
   "source": [
    "\n",
    "\n",
    "client_qdrant.upsert(\n",
    "    collection_name='q2',\n",
    "    points=lst_qdrant_pts\n",
    ")"
   ]
  },
  {
   "cell_type": "code",
   "execution_count": 12,
   "id": "babb478d",
   "metadata": {},
   "outputs": [],
   "source": [
    "_q_text = df_docs_smpl.sample(1)['question']"
   ]
  },
  {
   "cell_type": "code",
   "execution_count": 13,
   "id": "79f7ebb4",
   "metadata": {},
   "outputs": [
    {
     "name": "stdout",
     "output_type": "stream",
     "text": [
      "Question: 18    Hola! ¿Podrías explicarme cuáles son los tres ...\n",
      "Name: question, dtype: object\n",
      "point.id='591405f4-b0f1-4154-808a-c94885f6633e'\n",
      "point.score=0.5694318257579751\n",
      "Doc: Surya Namaskar: la mejor forma de empezar el día\n",
      "\n",
      "El Saludo al Sol o Surya Namaskar es una de las prácticas más conocidas en yoga.\n",
      "\n",
      "Todavía recuerdo cuando lo practiqué por primera vez… ¡vaya lío!\n",
      "\n",
      "Uno tiene que poner a prueba su concentración y estar completamente presente para poder seguir el ritmo (¡y no perderse por el camino!).\n",
      "\n",
      "Eso sí, se aprende rápido y, una vez aprendido, difícilmente se olvida.\n",
      "\n",
      "Además, debo confesar que fue, y sigue siendo, una de mis prácticas de yoga favoritas.\n",
      "¿Qué...\n",
      "idx: 16, j: 3\n",
      "------------------------------\n",
      "point.id='a2ca462e-35a3-4b59-8166-1b170b3198f4'\n",
      "point.score=0.5549750366460964\n",
      "Doc: Saludo al sol o Surya Namaskar\n",
      "Por\n",
      "ManuelMM\n",
      "Saludo-al-sol\n",
      "\n",
      "El Saludo al sol, también llamado Surya Namaskar, es una secuencia de 12 posturas que se repiten varias veces. Cada movimiento está perfectamente sincronizado con la respiración. Además, este uno de los ejercicios del yoga más completos y aporta innumerables beneficios para el cuerpo y la mente.\n",
      "\n",
      "El Saludo al Sol se suele realizar al comienzo de la práctica de yoga, ya que calienta y prepara el cuerpo para continuar con otros ejercicios....\n",
      "idx: 16, j: 2\n",
      "------------------------------\n"
     ]
    }
   ],
   "source": [
    "_q_vec = next(encoder.embed(_q_text))\n",
    "\n",
    "print(f\"Question: {_q_text}\")\n",
    "embeddings.check_query_qdrant(\n",
    "        client_qdrant,\n",
    "        \"raw\",\n",
    "        _q_vec,\n",
    "        retrieve_k=2,\n",
    ")"
   ]
  },
  {
   "cell_type": "code",
   "execution_count": 14,
   "id": "097125ae",
   "metadata": {},
   "outputs": [
    {
     "name": "stdout",
     "output_type": "stream",
     "text": [
      "Question: 18    Hola! ¿Podrías explicarme cuáles son los tres ...\n",
      "Name: question, dtype: object\n",
      "point.id='591405f4-b0f1-4154-808a-c94885f6633e'\n",
      "point.score=0.5694318227618158\n",
      "Doc: Surya Namaskar: la mejor forma de empezar el día\n",
      "\n",
      "El Saludo al Sol o Surya Namaskar es una de las prácticas más conocidas en yoga.\n",
      "\n",
      "Todavía recuerdo cuando lo practiqué por primera vez… ¡vaya lío!\n",
      "\n",
      "Uno tiene que poner a prueba su concentración y estar completamente presente para poder seguir el ritmo (¡y no perderse por el camino!).\n",
      "\n",
      "Eso sí, se aprende rápido y, una vez aprendido, difícilmente se olvida.\n",
      "\n",
      "Además, debo confesar que fue, y sigue siendo, una de mis prácticas de yoga favoritas.\n",
      "¿Qué...\n",
      "idx: 16, j: 3\n",
      "------------------------------\n",
      "point.id='a2ca462e-35a3-4b59-8166-1b170b3198f4'\n",
      "point.score=0.5549750365408745\n",
      "Doc: Saludo al sol o Surya Namaskar\n",
      "Por\n",
      "ManuelMM\n",
      "Saludo-al-sol\n",
      "\n",
      "El Saludo al sol, también llamado Surya Namaskar, es una secuencia de 12 posturas que se repiten varias veces. Cada movimiento está perfectamente sincronizado con la respiración. Además, este uno de los ejercicios del yoga más completos y aporta innumerables beneficios para el cuerpo y la mente.\n",
      "\n",
      "El Saludo al Sol se suele realizar al comienzo de la práctica de yoga, ya que calienta y prepara el cuerpo para continuar con otros ejercicios....\n",
      "idx: 16, j: 2\n",
      "------------------------------\n"
     ]
    }
   ],
   "source": [
    "_q_vec = next(encoder.embed(_q_text))\n",
    "\n",
    "print(f\"Question: {_q_text}\")\n",
    "embeddings.check_query_qdrant(\n",
    "        client_qdrant,\n",
    "        \"q2\",\n",
    "        _q_vec,\n",
    "        retrieve_k=2,\n",
    ")"
   ]
  },
  {
   "cell_type": "code",
   "execution_count": null,
   "id": "0b73b32b",
   "metadata": {},
   "outputs": [],
   "source": []
  }
 ],
 "metadata": {
  "kernelspec": {
   "display_name": ".venv",
   "language": "python",
   "name": "python3"
  },
  "language_info": {
   "codemirror_mode": {
    "name": "ipython",
    "version": 3
   },
   "file_extension": ".py",
   "mimetype": "text/x-python",
   "name": "python",
   "nbconvert_exporter": "python",
   "pygments_lexer": "ipython3",
   "version": "3.11.9"
  }
 },
 "nbformat": 4,
 "nbformat_minor": 5
}
