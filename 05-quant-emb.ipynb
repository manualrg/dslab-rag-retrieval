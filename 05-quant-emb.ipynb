{
 "cells": [
  {
   "cell_type": "markdown",
   "id": "fa52ce7e",
   "metadata": {},
   "source": [
    "# Embeddings Quantization"
   ]
  },
  {
   "cell_type": "code",
   "execution_count": 1,
   "id": "d80ab1d5",
   "metadata": {},
   "outputs": [],
   "source": [
    "%load_ext autoreload\n",
    "%autoreload 2"
   ]
  },
  {
   "cell_type": "code",
   "execution_count": 2,
   "id": "8c0e5386",
   "metadata": {},
   "outputs": [
    {
     "name": "stderr",
     "output_type": "stream",
     "text": [
      "c:\\Users\\manua\\Documents\\repos\\dslabs\\dslab-rag-retrieval\\.venv\\Lib\\site-packages\\tqdm\\auto.py:21: TqdmWarning: IProgress not found. Please update jupyter and ipywidgets. See https://ipywidgets.readthedocs.io/en/stable/user_install.html\n",
      "  from .autonotebook import tqdm as notebook_tqdm\n"
     ]
    }
   ],
   "source": [
    "import uuid\n",
    "import pandas as pd\n",
    "from datasets import load_dataset\n",
    "from fastembed import TextEmbedding\n",
    "from qdrant_client import models, QdrantClient\n",
    "\n",
    "from src import load_data, embeddings\n"
   ]
  },
  {
   "cell_type": "markdown",
   "id": "4590f8ea",
   "metadata": {},
   "source": [
    "# Params"
   ]
  },
  {
   "cell_type": "code",
   "execution_count": 3,
   "id": "15f1961f",
   "metadata": {},
   "outputs": [],
   "source": [
    "RETRIEVE_K=5\n",
    "SMPL_SIZE = 25  # int or None"
   ]
  },
  {
   "cell_type": "markdown",
   "id": "07654116",
   "metadata": {},
   "source": [
    "# Clients"
   ]
  },
  {
   "cell_type": "code",
   "execution_count": 4,
   "id": "a3ec27d1",
   "metadata": {},
   "outputs": [],
   "source": [
    "client_qdrant = QdrantClient(\":memory:\") \n"
   ]
  },
  {
   "cell_type": "markdown",
   "id": "64054a22",
   "metadata": {},
   "source": [
    "# Load and Prepare Data"
   ]
  },
  {
   "cell_type": "code",
   "execution_count": 5,
   "id": "39c59b84",
   "metadata": {},
   "outputs": [
    {
     "name": "stdout",
     "output_type": "stream",
     "text": [
      "Raw shape: (250, 3)\n",
      "<class 'pandas.core.frame.DataFrame'>\n",
      "RangeIndex: 183 entries, 0 to 182\n",
      "Data columns (total 10 columns):\n",
      " #   Column    Non-Null Count  Dtype \n",
      "---  ------    --------------  ----- \n",
      " 0   index     183 non-null    int64 \n",
      " 1   topic     183 non-null    object\n",
      " 2   variant   183 non-null    object\n",
      " 3   question  183 non-null    object\n",
      " 4   answer    183 non-null    object\n",
      " 5   j         183 non-null    int64 \n",
      " 6   context_  183 non-null    object\n",
      " 7   text_     183 non-null    object\n",
      " 8   link_     183 non-null    object\n",
      " 9   uuid      183 non-null    object\n",
      "dtypes: int64(2), object(8)\n",
      "memory usage: 14.4+ KB\n"
     ]
    }
   ],
   "source": [
    "df_ragquas = load_data.ragquas()\n",
    "df_docs = load_data.prepare_ragquas(df_ragquas)\n",
    "df_docs.info()"
   ]
  },
  {
   "cell_type": "code",
   "execution_count": 6,
   "id": "d76854a2",
   "metadata": {},
   "outputs": [],
   "source": [
    "if SMPL_SIZE:\n",
    "    df_docs_smpl = df_docs.iloc[:SMPL_SIZE]\n",
    "else:\n",
    "    df_docs_smpl = df_docs"
   ]
  },
  {
   "cell_type": "markdown",
   "id": "11c3daa4",
   "metadata": {},
   "source": [
    "# Encode"
   ]
  },
  {
   "cell_type": "code",
   "execution_count": 7,
   "id": "3abdd05c",
   "metadata": {},
   "outputs": [
    {
     "name": "stderr",
     "output_type": "stream",
     "text": [
      "C:\\Users\\manua\\AppData\\Local\\Temp\\ipykernel_8780\\315642572.py:1: UserWarning: The model sentence-transformers/paraphrase-multilingual-mpnet-base-v2 now uses mean pooling instead of CLS embedding. In order to preserve the previous behaviour, consider either pinning fastembed version to 0.5.1 or using `add_custom_model` functionality.\n",
      "  encoder = TextEmbedding(\n"
     ]
    },
    {
     "name": "stdout",
     "output_type": "stream",
     "text": [
      "len(dn_embeddings)=25\n",
      "len(dn_embeddings[0])=768\n"
     ]
    }
   ],
   "source": [
    "encoder = TextEmbedding(\n",
    "    model_name=\"sentence-transformers/paraphrase-multilingual-mpnet-base-v2\"\n",
    "    )\n",
    "\n",
    "\n",
    "dn_embeddings = list(encoder.embed(df_docs_smpl['text_']))\n",
    "\n",
    "print(f\"{len(dn_embeddings)=}\")\n",
    "print(f\"{len(dn_embeddings[0])=}\")"
   ]
  },
  {
   "cell_type": "code",
   "execution_count": 8,
   "id": "d554815f",
   "metadata": {},
   "outputs": [
    {
     "name": "stdout",
     "output_type": "stream",
     "text": [
      "len(lst_qdrant_pts)=25\n"
     ]
    }
   ],
   "source": [
    "lst_embeddings = []\n",
    "\n",
    "for idx in range(len(dn_embeddings)):\n",
    "    dn_vec = dn_embeddings[idx]\n",
    "\n",
    "    lst_embeddings.append(\n",
    "        dn_vec.tolist()\n",
    "    )\n",
    "\n",
    "lst_pts = embeddings.create_index_points(\n",
    "    lst_embeddings,\n",
    "    df_docs_smpl,\n",
    ")\n",
    "\n",
    "lst_qdrant_pts = embeddings.convert_to_qdrant_points(lst_pts)\n",
    "\n",
    "print(f\"{len(lst_qdrant_pts)=}\")"
   ]
  },
  {
   "cell_type": "markdown",
   "id": "1d3c72d5",
   "metadata": {},
   "source": [
    "# Index"
   ]
  },
  {
   "cell_type": "code",
   "execution_count": 9,
   "id": "fa810657",
   "metadata": {},
   "outputs": [
    {
     "data": {
      "text/plain": [
       "UpdateResult(operation_id=0, status=<UpdateStatus.COMPLETED: 'completed'>)"
      ]
     },
     "execution_count": 9,
     "metadata": {},
     "output_type": "execute_result"
    }
   ],
   "source": [
    "client_qdrant.create_collection(\n",
    "    collection_name='raw',\n",
    "    vectors_config=models.VectorParams(\n",
    "            size=encoder.embedding_size, \n",
    "            distance=models.Distance.COSINE,\n",
    "        )\n",
    ")\n",
    "\n",
    "client_qdrant.create_collection(\n",
    "    collection_name='q2',\n",
    "    vectors_config=models.VectorParams(\n",
    "            size=encoder.embedding_size, \n",
    "            distance=models.Distance.COSINE,\n",
    "        ),\n",
    "    quantization_config=models.BinaryQuantization(\n",
    "        binary=models.BinaryQuantizationConfig(\n",
    "            always_ram=True,\n",
    "        ),\n",
    "    ),\n",
    ")\n",
    "\n",
    "client_qdrant.upsert(\n",
    "    collection_name='raw',\n",
    "    points=lst_qdrant_pts\n",
    ")\n",
    "\n",
    "client_qdrant.upsert(\n",
    "    collection_name='q2',\n",
    "    points=lst_qdrant_pts\n",
    ")"
   ]
  },
  {
   "cell_type": "code",
   "execution_count": 10,
   "id": "e8ad67b9",
   "metadata": {},
   "outputs": [
    {
     "data": {
      "text/plain": [
       "UpdateResult(operation_id=0, status=<UpdateStatus.COMPLETED: 'completed'>)"
      ]
     },
     "execution_count": 10,
     "metadata": {},
     "output_type": "execute_result"
    }
   ],
   "source": [
    "\n",
    "\n",
    "client_qdrant.upsert(\n",
    "    collection_name='q2',\n",
    "    points=lst_qdrant_pts\n",
    ")"
   ]
  },
  {
   "cell_type": "markdown",
   "id": "adb5f0ee",
   "metadata": {},
   "source": [
    "# Query"
   ]
  },
  {
   "cell_type": "code",
   "execution_count": 11,
   "id": "f69888c4",
   "metadata": {},
   "outputs": [
    {
     "data": {
      "text/plain": [
       "16    cómo puedo restaurar un mueble antiguo?\n",
       "Name: question, dtype: object"
      ]
     },
     "execution_count": 11,
     "metadata": {},
     "output_type": "execute_result"
    }
   ],
   "source": [
    "_q_text = df_docs_smpl.sample(1)['question']\n",
    "_q_text"
   ]
  },
  {
   "cell_type": "code",
   "execution_count": 12,
   "id": "79f7ebb4",
   "metadata": {},
   "outputs": [
    {
     "name": "stdout",
     "output_type": "stream",
     "text": [
      "Question: 16    cómo puedo restaurar un mueble antiguo?\n",
      "Name: question, dtype: object\n",
      "point.id='2258c0c5-03b4-432d-9812-e0b2b65be551'\n",
      "point.score=0.5079803612463201\n",
      "Doc: Cómo restaurar muebles antiguos\n",
      "En todas las casas hay muebles antiguos que se pueden restaurar. Ya sea porque se compraron y tienen demasiado tiempo o porque se heredaron y simplemente son demasiado viejos. Por norma general suelen terminar empolvados en un sótano, pero esto no tiene porqué ser así. Existen multitud de opciones para aprovechar estas antigüedades, así que hoy os explicamos cómo restaurar muebles antiguos usando varias técnicas.\n",
      "Lo mejor de todo, es que aparte de recuperar tus mu...\n",
      "idx: 12, j: 4\n",
      "------------------------------\n",
      "point.id='85b507ca-a5d0-4e63-afb2-80a56376b1e8'\n",
      "point.score=0.3735876041151713\n",
      "Doc: Cómo restaurar muebles antiguos\n",
      "Si tenéis un mueble antiguo en casa al que le queréis dar un aspecto más renovado, no os podéis perder el paso a paso de cómo restaurar muebles antiguos.\n",
      "\n",
      "Siguiendo este tutorial podréis restaurar cualquier mueble de madera de vuestro hogar.\n",
      "\n",
      "Además, en el ejemplo que os vamos a mostrar también vemos cómo tratar correctamente una pieza de madera que está afectada por la carcoma. ¡Toma nota!\n",
      "Antes de empezar a restaurar muebles, debemos realizar un estudio de los d...\n",
      "idx: 12, j: 5\n",
      "------------------------------\n"
     ]
    }
   ],
   "source": [
    "_q_vec = next(encoder.embed(_q_text))\n",
    "\n",
    "print(f\"Question: {_q_text}\")\n",
    "embeddings.check_query_qdrant(\n",
    "        client_qdrant,\n",
    "        \"raw\",\n",
    "        _q_vec,\n",
    "        retrieve_k=2,\n",
    ")"
   ]
  },
  {
   "cell_type": "code",
   "execution_count": 13,
   "id": "097125ae",
   "metadata": {},
   "outputs": [
    {
     "name": "stdout",
     "output_type": "stream",
     "text": [
      "Question: 16    cómo puedo restaurar un mueble antiguo?\n",
      "Name: question, dtype: object\n",
      "point.id='2258c0c5-03b4-432d-9812-e0b2b65be551'\n",
      "point.score=0.5079803619941992\n",
      "Doc: Cómo restaurar muebles antiguos\n",
      "En todas las casas hay muebles antiguos que se pueden restaurar. Ya sea porque se compraron y tienen demasiado tiempo o porque se heredaron y simplemente son demasiado viejos. Por norma general suelen terminar empolvados en un sótano, pero esto no tiene porqué ser así. Existen multitud de opciones para aprovechar estas antigüedades, así que hoy os explicamos cómo restaurar muebles antiguos usando varias técnicas.\n",
      "Lo mejor de todo, es que aparte de recuperar tus mu...\n",
      "idx: 12, j: 4\n",
      "------------------------------\n",
      "point.id='85b507ca-a5d0-4e63-afb2-80a56376b1e8'\n",
      "point.score=0.3735875827518051\n",
      "Doc: Cómo restaurar muebles antiguos\n",
      "Si tenéis un mueble antiguo en casa al que le queréis dar un aspecto más renovado, no os podéis perder el paso a paso de cómo restaurar muebles antiguos.\n",
      "\n",
      "Siguiendo este tutorial podréis restaurar cualquier mueble de madera de vuestro hogar.\n",
      "\n",
      "Además, en el ejemplo que os vamos a mostrar también vemos cómo tratar correctamente una pieza de madera que está afectada por la carcoma. ¡Toma nota!\n",
      "Antes de empezar a restaurar muebles, debemos realizar un estudio de los d...\n",
      "idx: 12, j: 5\n",
      "------------------------------\n"
     ]
    }
   ],
   "source": [
    "_q_vec = next(encoder.embed(_q_text))\n",
    "\n",
    "print(f\"Question: {_q_text}\")\n",
    "embeddings.check_query_qdrant(\n",
    "        client_qdrant,\n",
    "        \"q2\",\n",
    "        _q_vec,\n",
    "        retrieve_k=2,\n",
    ")"
   ]
  },
  {
   "cell_type": "code",
   "execution_count": null,
   "id": "0b73b32b",
   "metadata": {},
   "outputs": [],
   "source": []
  }
 ],
 "metadata": {
  "kernelspec": {
   "display_name": ".venv",
   "language": "python",
   "name": "python3"
  },
  "language_info": {
   "codemirror_mode": {
    "name": "ipython",
    "version": 3
   },
   "file_extension": ".py",
   "mimetype": "text/x-python",
   "name": "python",
   "nbconvert_exporter": "python",
   "pygments_lexer": "ipython3",
   "version": "3.11.9"
  }
 },
 "nbformat": 4,
 "nbformat_minor": 5
}
