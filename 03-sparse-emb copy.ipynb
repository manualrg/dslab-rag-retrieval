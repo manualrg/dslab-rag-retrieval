{
 "cells": [
  {
   "cell_type": "markdown",
   "id": "6bee68bf",
   "metadata": {},
   "source": [
    "# Sparse Embeddings"
   ]
  },
  {
   "cell_type": "code",
   "execution_count": 4,
   "id": "d80ab1d5",
   "metadata": {},
   "outputs": [
    {
     "name": "stdout",
     "output_type": "stream",
     "text": [
      "The autoreload extension is already loaded. To reload it, use:\n",
      "  %reload_ext autoreload\n"
     ]
    }
   ],
   "source": [
    "%load_ext autoreload\n",
    "%autoreload 2"
   ]
  },
  {
   "cell_type": "code",
   "execution_count": 29,
   "id": "8c0e5386",
   "metadata": {},
   "outputs": [],
   "source": [
    "import os\n",
    "from dotenv import load_dotenv\n",
    "import pandas as pd\n",
    "from datasets import load_dataset\n",
    "from qdrant_client import models, QdrantClient\n",
    "from fastembed import SparseTextEmbedding\n",
    "\n",
    "from src import load_data, embeddings\n"
   ]
  },
  {
   "cell_type": "code",
   "execution_count": null,
   "id": "c9efaa29",
   "metadata": {},
   "outputs": [
    {
     "name": "stderr",
     "output_type": "stream",
     "text": [
      "Fetching 18 files:   0%|          | 0/18 [00:00<?, ?it/s]\n",
      "c:\\Users\\manua\\Documents\\repos\\dslabs\\dslab-rag-retrieval\\.venv\\Lib\\site-packages\\huggingface_hub\\file_download.py:143: UserWarning: `huggingface_hub` cache-system uses symlinks by default to efficiently store duplicated files but your machine does not support them in C:\\Users\\manua\\AppData\\Local\\Temp\\fastembed_cache\\models--Qdrant--bm25. Caching files will still work but in a degraded version that might require more space on your disk. This warning can be disabled by setting the `HF_HUB_DISABLE_SYMLINKS_WARNING` environment variable. For more details, see https://huggingface.co/docs/huggingface_hub/how-to-cache#limitations.\n",
      "To support symlinks on Windows, you either need to activate Developer Mode or to run Python as an administrator. In order to activate developer mode, see this article: https://docs.microsoft.com/en-us/windows/apps/get-started/enable-your-device-for-development\n",
      "  warnings.warn(message)\n",
      "\u001b[32m2025-09-03 16:35:58.053\u001b[0m | \u001b[31m\u001b[1mERROR   \u001b[0m | \u001b[36mfastembed.common.model_management\u001b[0m:\u001b[36mdownload_model\u001b[0m:\u001b[36m430\u001b[0m - \u001b[31m\u001b[1mCould not download model from HuggingFace: [WinError 1314] El cliente no dispone de un privilegio requerido: '..\\\\..\\\\blobs\\\\ee3a26e793f8ab69a44b30332708cc122b258b51' -> 'C:\\\\Users\\\\manua\\\\AppData\\\\Local\\\\Temp\\\\fastembed_cache\\\\models--Qdrant--bm25\\\\snapshots\\\\e499a1f8d6bec960aab5533a0941bf914e70faf9\\\\arabic.txt' Falling back to other sources.\u001b[0m\n",
      "\u001b[32m2025-09-03 16:35:58.053\u001b[0m | \u001b[31m\u001b[1mERROR   \u001b[0m | \u001b[36mfastembed.common.model_management\u001b[0m:\u001b[36mdownload_model\u001b[0m:\u001b[36m452\u001b[0m - \u001b[31m\u001b[1mCould not download model from either source, sleeping for 3.0 seconds, 2 retries left.\u001b[0m\n",
      "Fetching 18 files: 100%|██████████| 18/18 [00:00<00:00, 46.64it/s]\n"
     ]
    }
   ],
   "source": []
  },
  {
   "cell_type": "markdown",
   "id": "5bbc9ac7",
   "metadata": {},
   "source": [
    "# Params"
   ]
  },
  {
   "cell_type": "code",
   "execution_count": 7,
   "id": "2a92dcd2",
   "metadata": {},
   "outputs": [],
   "source": [
    "INDEX = \"ragquas-sparse-01\"\n",
    "RETRIEVE_K=5"
   ]
  },
  {
   "cell_type": "markdown",
   "id": "5320c420",
   "metadata": {},
   "source": [
    "# Environment variables"
   ]
  },
  {
   "cell_type": "code",
   "execution_count": 8,
   "id": "086f2414",
   "metadata": {},
   "outputs": [
    {
     "data": {
      "text/plain": [
       "True"
      ]
     },
     "execution_count": 8,
     "metadata": {},
     "output_type": "execute_result"
    }
   ],
   "source": [
    "load_dotenv()\n"
   ]
  },
  {
   "cell_type": "markdown",
   "id": "24dd54ed",
   "metadata": {},
   "source": [
    "# Clients"
   ]
  },
  {
   "cell_type": "code",
   "execution_count": 9,
   "id": "d23e1d98",
   "metadata": {},
   "outputs": [],
   "source": [
    "client_qdrant = QdrantClient(\":memory:\") \n"
   ]
  },
  {
   "cell_type": "markdown",
   "id": "64054a22",
   "metadata": {},
   "source": [
    "# Load Data"
   ]
  },
  {
   "cell_type": "code",
   "execution_count": 11,
   "id": "722b9759",
   "metadata": {},
   "outputs": [
    {
     "name": "stderr",
     "output_type": "stream",
     "text": [
      "Generating test split: 100%|██████████| 201/201 [00:00<00:00, 7550.54 examples/s]\n"
     ]
    },
    {
     "data": {
      "text/html": [
       "<div>\n",
       "<style scoped>\n",
       "    .dataframe tbody tr th:only-of-type {\n",
       "        vertical-align: middle;\n",
       "    }\n",
       "\n",
       "    .dataframe tbody tr th {\n",
       "        vertical-align: top;\n",
       "    }\n",
       "\n",
       "    .dataframe thead th {\n",
       "        text-align: right;\n",
       "    }\n",
       "</style>\n",
       "<table border=\"1\" class=\"dataframe\">\n",
       "  <thead>\n",
       "    <tr style=\"text-align: right;\">\n",
       "      <th></th>\n",
       "      <th>topic</th>\n",
       "      <th>answer</th>\n",
       "      <th>question</th>\n",
       "      <th>variant</th>\n",
       "      <th>context_1</th>\n",
       "      <th>context_2</th>\n",
       "      <th>context_3</th>\n",
       "      <th>context_4</th>\n",
       "      <th>context_5</th>\n",
       "      <th>link_1</th>\n",
       "      <th>link_2</th>\n",
       "      <th>link_3</th>\n",
       "      <th>link_4</th>\n",
       "      <th>link_5</th>\n",
       "      <th>text_1</th>\n",
       "      <th>text_2</th>\n",
       "      <th>text_3</th>\n",
       "      <th>text_4</th>\n",
       "      <th>text_5</th>\n",
       "    </tr>\n",
       "  </thead>\n",
       "  <tbody>\n",
       "    <tr>\n",
       "      <th>0</th>\n",
       "      <td>reclamaciones</td>\n",
       "      <td>La opción más fácil y eficaz para reclamar una...</td>\n",
       "      <td>¿Cuál es la forma más fácil de reclamar cuando...</td>\n",
       "      <td>question_1</td>\n",
       "      <td>#1. Airhelp\\n\\nLa empresa Airhelp fue fundada ...</td>\n",
       "      <td>En AirHelp hemos ayudado a más de 16 millones ...</td>\n",
       "      <td>MYFLYRIGHT, expertos en derechos de los viajer...</td>\n",
       "      <td></td>\n",
       "      <td></td>\n",
       "      <td>https://www.businessinsider.es/mejores-paginas...</td>\n",
       "      <td>https://www.airhelp.com/es/retrasos-de-vuelos/</td>\n",
       "      <td>https://myflyright.com/es/servicios/vuelo-retr...</td>\n",
       "      <td></td>\n",
       "      <td></td>\n",
       "      <td>5 páginas donde poder reclamar tus vuelos por ...</td>\n",
       "      <td>Conoce las compensaciones cuando se retrasa tu...</td>\n",
       "      <td>Indemnización retraso vuelo\\n\\nNavegación por ...</td>\n",
       "      <td></td>\n",
       "      <td></td>\n",
       "    </tr>\n",
       "    <tr>\n",
       "      <th>1</th>\n",
       "      <td>reclamaciones</td>\n",
       "      <td>La opción más fácil y eficaz para reclamar una...</td>\n",
       "      <td>hola mi vuelo a Alemania se ha retrasado mucho...</td>\n",
       "      <td>question_2</td>\n",
       "      <td>#1. Airhelp\\n\\nLa empresa Airhelp fue fundada ...</td>\n",
       "      <td>En AirHelp hemos ayudado a más de 16 millones ...</td>\n",
       "      <td>MYFLYRIGHT, expertos en derechos de los viajer...</td>\n",
       "      <td></td>\n",
       "      <td></td>\n",
       "      <td>https://www.businessinsider.es/mejores-paginas...</td>\n",
       "      <td>https://www.airhelp.com/es/retrasos-de-vuelos/</td>\n",
       "      <td>https://myflyright.com/es/servicios/vuelo-retr...</td>\n",
       "      <td></td>\n",
       "      <td></td>\n",
       "      <td>5 páginas donde poder reclamar tus vuelos por ...</td>\n",
       "      <td>Conoce las compensaciones cuando se retrasa tu...</td>\n",
       "      <td>Indemnización retraso vuelo\\n\\nNavegación por ...</td>\n",
       "      <td></td>\n",
       "      <td></td>\n",
       "    </tr>\n",
       "  </tbody>\n",
       "</table>\n",
       "</div>"
      ],
      "text/plain": [
       "           topic                                             answer  \\\n",
       "0  reclamaciones  La opción más fácil y eficaz para reclamar una...   \n",
       "1  reclamaciones  La opción más fácil y eficaz para reclamar una...   \n",
       "\n",
       "                                            question     variant  \\\n",
       "0  ¿Cuál es la forma más fácil de reclamar cuando...  question_1   \n",
       "1  hola mi vuelo a Alemania se ha retrasado mucho...  question_2   \n",
       "\n",
       "                                           context_1  \\\n",
       "0  #1. Airhelp\\n\\nLa empresa Airhelp fue fundada ...   \n",
       "1  #1. Airhelp\\n\\nLa empresa Airhelp fue fundada ...   \n",
       "\n",
       "                                           context_2  \\\n",
       "0  En AirHelp hemos ayudado a más de 16 millones ...   \n",
       "1  En AirHelp hemos ayudado a más de 16 millones ...   \n",
       "\n",
       "                                           context_3 context_4 context_5  \\\n",
       "0  MYFLYRIGHT, expertos en derechos de los viajer...                       \n",
       "1  MYFLYRIGHT, expertos en derechos de los viajer...                       \n",
       "\n",
       "                                              link_1  \\\n",
       "0  https://www.businessinsider.es/mejores-paginas...   \n",
       "1  https://www.businessinsider.es/mejores-paginas...   \n",
       "\n",
       "                                           link_2  \\\n",
       "0  https://www.airhelp.com/es/retrasos-de-vuelos/   \n",
       "1  https://www.airhelp.com/es/retrasos-de-vuelos/   \n",
       "\n",
       "                                              link_3 link_4 link_5  \\\n",
       "0  https://myflyright.com/es/servicios/vuelo-retr...                 \n",
       "1  https://myflyright.com/es/servicios/vuelo-retr...                 \n",
       "\n",
       "                                              text_1  \\\n",
       "0  5 páginas donde poder reclamar tus vuelos por ...   \n",
       "1  5 páginas donde poder reclamar tus vuelos por ...   \n",
       "\n",
       "                                              text_2  \\\n",
       "0  Conoce las compensaciones cuando se retrasa tu...   \n",
       "1  Conoce las compensaciones cuando se retrasa tu...   \n",
       "\n",
       "                                              text_3 text_4 text_5  \n",
       "0  Indemnización retraso vuelo\\n\\nNavegación por ...                \n",
       "1  Indemnización retraso vuelo\\n\\nNavegación por ...                "
      ]
     },
     "execution_count": 11,
     "metadata": {},
     "output_type": "execute_result"
    }
   ],
   "source": [
    "df_ragquas = load_data.ragquas()\n",
    "df_ragquas.head(2)"
   ]
  },
  {
   "cell_type": "code",
   "execution_count": 12,
   "id": "77be9640",
   "metadata": {},
   "outputs": [
    {
     "name": "stdout",
     "output_type": "stream",
     "text": [
      "Raw shape: (250, 3)\n",
      "<class 'pandas.core.frame.DataFrame'>\n",
      "RangeIndex: 183 entries, 0 to 182\n",
      "Data columns (total 10 columns):\n",
      " #   Column    Non-Null Count  Dtype \n",
      "---  ------    --------------  ----- \n",
      " 0   index     183 non-null    int64 \n",
      " 1   topic     183 non-null    object\n",
      " 2   variant   183 non-null    object\n",
      " 3   question  183 non-null    object\n",
      " 4   answer    183 non-null    object\n",
      " 5   j         183 non-null    int64 \n",
      " 6   context_  183 non-null    object\n",
      " 7   text_     183 non-null    object\n",
      " 8   link_     183 non-null    object\n",
      " 9   uuid      183 non-null    object\n",
      "dtypes: int64(2), object(8)\n",
      "memory usage: 14.4+ KB\n"
     ]
    }
   ],
   "source": [
    "df_docs = load_data.prepare_ragquas(df_ragquas)\n",
    "df_docs.info()"
   ]
  },
  {
   "cell_type": "code",
   "execution_count": null,
   "id": "c7fed6d5",
   "metadata": {},
   "outputs": [
    {
     "name": "stdout",
     "output_type": "stream",
     "text": [
      "embeddings[0].values=array([1.67868852, 1.67868852, 1.67868852])\n",
      "embeddings[0].indices=array([1881538586,  150760872, 1932363795])\n"
     ]
    }
   ],
   "source": [
    "documents = [\n",
    "    \"You should stay, study and sprint.\",\n",
    "    \"History can only prepare us to be surprised yet again.\",\n",
    "]\n",
    "\n",
    "encoder = SparseTextEmbedding(model_name=\"Qdrant/bm25\")\n",
    "sp_embeddings = list(encoder.embed(documents))\n",
    "\n",
    "\n",
    "print(f\"{sp_embeddings[0].values=}\")\n",
    "print(f\"{sp_embeddings[0].indices=}\")"
   ]
  },
  {
   "cell_type": "code",
   "execution_count": 25,
   "id": "0684a981",
   "metadata": {},
   "outputs": [
    {
     "data": {
      "text/plain": [
       "fastembed.sparse.sparse_embedding_base.SparseEmbedding"
      ]
     },
     "execution_count": 25,
     "metadata": {},
     "output_type": "execute_result"
    }
   ],
   "source": [
    "type(embeddings[0])"
   ]
  },
  {
   "cell_type": "code",
   "execution_count": 26,
   "id": "3f1f9d14",
   "metadata": {},
   "outputs": [
    {
     "name": "stdout",
     "output_type": "stream",
     "text": [
      "len(lst_embeddings)=183\n"
     ]
    }
   ],
   "source": [
    "lst_embeddings = []\n",
    "\n",
    "corpus_encoded = list(encoder.embed(df_docs['text_']))\n",
    "\n",
    "for idx in range(len(corpus_encoded)):\n",
    "    sp_vec = corpus_encoded[idx]\n",
    "    lst_embeddings.append({\n",
    "        \"sparse\": models.SparseVector(\n",
    "            indices=sp_vec.indices,\n",
    "            values=sp_vec.values\n",
    "            )\n",
    "        }\n",
    "    )\n",
    "\n",
    "print(f\"{len(lst_embeddings)=}\")"
   ]
  },
  {
   "cell_type": "code",
   "execution_count": 30,
   "id": "3fc2c86b",
   "metadata": {},
   "outputs": [
    {
     "name": "stdout",
     "output_type": "stream",
     "text": [
      "len(lst_pts)=183\n"
     ]
    }
   ],
   "source": [
    "lst_pts = embeddings.create_index_points(\n",
    "    lst_embeddings,\n",
    "    df_docs,\n",
    ")\n",
    "print(f\"{len(lst_pts)=}\")"
   ]
  },
  {
   "cell_type": "code",
   "execution_count": 31,
   "id": "dc6d4528",
   "metadata": {},
   "outputs": [
    {
     "name": "stdout",
     "output_type": "stream",
     "text": [
      "len(lst_qdrant_pts)=183\n"
     ]
    }
   ],
   "source": [
    "lst_qdrant_pts = embeddings.convert_to_qdrant_points(lst_pts)\n",
    "print(f\"{len(lst_qdrant_pts)=}\")"
   ]
  },
  {
   "cell_type": "code",
   "execution_count": 35,
   "id": "66525791",
   "metadata": {},
   "outputs": [
    {
     "data": {
      "text/plain": [
       "UpdateResult(operation_id=0, status=<UpdateStatus.COMPLETED: 'completed'>)"
      ]
     },
     "execution_count": 35,
     "metadata": {},
     "output_type": "execute_result"
    }
   ],
   "source": [
    "client_qdrant.create_collection(\n",
    "    collection_name=INDEX,\n",
    "    vectors_config={},\n",
    "    sparse_vectors_config={\n",
    "        \"sparse\": models.SparseVectorParams(),\n",
    "        }\n",
    ")\n",
    "\n",
    "client_qdrant.upsert(\n",
    "    collection_name=INDEX,\n",
    "    points=lst_qdrant_pts\n",
    ")"
   ]
  },
  {
   "cell_type": "code",
   "execution_count": 37,
   "id": "7e14b135",
   "metadata": {},
   "outputs": [
    {
     "data": {
      "text/plain": [
       "SparseEmbedding(values=array([1.67868852, 1.67868852, 1.67868852]), indices=array([1881538586,  150760872, 1932363795]))"
      ]
     },
     "execution_count": 37,
     "metadata": {},
     "output_type": "execute_result"
    }
   ],
   "source": [
    "_q_text = df_docs.iloc[0:1]['question']\n",
    "\n",
    "list(encoder.embed(documents))[0]\n"
   ]
  },
  {
   "cell_type": "code",
   "execution_count": null,
   "id": "91bf38be",
   "metadata": {},
   "outputs": [
    {
     "name": "stdout",
     "output_type": "stream",
     "text": [
      "Question: 0    ¿Cuál es la forma más fácil de reclamar cuando...\n",
      "Name: question, dtype: object\n",
      "point.id='6b60567f-c238-46a4-bcc4-ca0ddf7ba48d'\n",
      "point.score=0.24995039403438568\n",
      "Doc: ¿Quieres estudiar japonés pero no puedes ir a una academia o tomar lecciones con un profesor particular? No te desanimes, porque en la actualidad hay muchos recursos para estudiar japonés de manera autodidacta. Así que guárdate este artículo en tu lista de favoritos para ir avanzando en el estudio del japonés.\n",
      "\n",
      "Desde libros de gramática a páginas web con contenido gratuito y aplicaciones móviles para el estudio de kanji o vocabulario, las opciones son muchas y variadas. Por eso, a continuación t...\n",
      "idx: 69, j: 1\n",
      "------------------------------\n"
     ]
    }
   ],
   "source": [
    "_q_text = df_docs.iloc[0:1]['question']\n",
    "\n",
    "_q_encoded = next(encoder.embed(_q_text))\n",
    "\n",
    "\n",
    "\n",
    "_q_vec = models.SparseVector(\n",
    "    indices=_q_encoded.indices,\n",
    "    values=_q_encoded.values\n",
    "    )\n",
    "\n",
    "print(f\"Question: {_q_text}\")\n",
    "embeddings.check_query_qdrant(\n",
    "        client_qdrant,\n",
    "        INDEX,\n",
    "        _q_vec,\n",
    "        retrieve_k=3,\n",
    "        using='sparse'  # passed by *args, **kwargs to query_points()\n",
    ")\n",
    "\n"
   ]
  }
 ],
 "metadata": {
  "kernelspec": {
   "display_name": ".venv",
   "language": "python",
   "name": "python3"
  },
  "language_info": {
   "codemirror_mode": {
    "name": "ipython",
    "version": 3
   },
   "file_extension": ".py",
   "mimetype": "text/x-python",
   "name": "python",
   "nbconvert_exporter": "python",
   "pygments_lexer": "ipython3",
   "version": "3.11.9"
  }
 },
 "nbformat": 4,
 "nbformat_minor": 5
}
