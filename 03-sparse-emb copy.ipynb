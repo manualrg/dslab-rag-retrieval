{
 "cells": [
  {
   "cell_type": "code",
   "execution_count": 1,
   "id": "d80ab1d5",
   "metadata": {},
   "outputs": [],
   "source": [
    "%load_ext autoreload\n",
    "%autoreload 2"
   ]
  },
  {
   "cell_type": "code",
   "execution_count": 2,
   "id": "8c0e5386",
   "metadata": {},
   "outputs": [
    {
     "name": "stderr",
     "output_type": "stream",
     "text": [
      "c:\\Users\\manuelalberto.romero\\Documents\\repos\\dslabs\\dslab-rag-retrieval\\.venv\\lib\\site-packages\\tqdm\\auto.py:21: TqdmWarning: IProgress not found. Please update jupyter and ipywidgets. See https://ipywidgets.readthedocs.io/en/stable/user_install.html\n",
      "  from .autonotebook import tqdm as notebook_tqdm\n"
     ]
    },
    {
     "ename": "ImportError",
     "evalue": "DLL load failed while importing onnxruntime_pybind11_state: Error en una rutina de inicialización de biblioteca de vínculos dinámicos (DLL).",
     "output_type": "error",
     "traceback": [
      "\u001b[1;31m---------------------------------------------------------------------------\u001b[0m",
      "\u001b[1;31mImportError\u001b[0m                               Traceback (most recent call last)",
      "Cell \u001b[1;32mIn[2], line 6\u001b[0m\n\u001b[0;32m      4\u001b[0m \u001b[38;5;28;01mfrom\u001b[39;00m\u001b[38;5;250m \u001b[39m\u001b[38;5;21;01mdatasets\u001b[39;00m\u001b[38;5;250m \u001b[39m\u001b[38;5;28;01mimport\u001b[39;00m load_dataset\n\u001b[0;32m      5\u001b[0m \u001b[38;5;28;01mfrom\u001b[39;00m\u001b[38;5;250m \u001b[39m\u001b[38;5;21;01mqdrant_client\u001b[39;00m\u001b[38;5;250m \u001b[39m\u001b[38;5;28;01mimport\u001b[39;00m models, QdrantClient\n\u001b[1;32m----> 6\u001b[0m \u001b[38;5;28;01mfrom\u001b[39;00m\u001b[38;5;250m \u001b[39m\u001b[38;5;21;01mfastembed\u001b[39;00m\u001b[38;5;250m \u001b[39m\u001b[38;5;28;01mimport\u001b[39;00m SparseTextEmbedding\n\u001b[0;32m      8\u001b[0m \u001b[38;5;28;01mfrom\u001b[39;00m\u001b[38;5;250m \u001b[39m\u001b[38;5;21;01msrc\u001b[39;00m\u001b[38;5;250m \u001b[39m\u001b[38;5;28;01mimport\u001b[39;00m load_data, embeddings\n",
      "File \u001b[1;32mc:\\Users\\manuelalberto.romero\\Documents\\repos\\dslabs\\dslab-rag-retrieval\\.venv\\lib\\site-packages\\fastembed\\__init__.py:3\u001b[0m\n\u001b[0;32m      1\u001b[0m \u001b[38;5;28;01mimport\u001b[39;00m\u001b[38;5;250m \u001b[39m\u001b[38;5;21;01mimportlib\u001b[39;00m\u001b[38;5;21;01m.\u001b[39;00m\u001b[38;5;21;01mmetadata\u001b[39;00m\n\u001b[1;32m----> 3\u001b[0m \u001b[38;5;28;01mfrom\u001b[39;00m\u001b[38;5;250m \u001b[39m\u001b[38;5;21;01mfastembed\u001b[39;00m\u001b[38;5;21;01m.\u001b[39;00m\u001b[38;5;21;01mimage\u001b[39;00m\u001b[38;5;250m \u001b[39m\u001b[38;5;28;01mimport\u001b[39;00m ImageEmbedding\n\u001b[0;32m      4\u001b[0m \u001b[38;5;28;01mfrom\u001b[39;00m\u001b[38;5;250m \u001b[39m\u001b[38;5;21;01mfastembed\u001b[39;00m\u001b[38;5;21;01m.\u001b[39;00m\u001b[38;5;21;01mlate_interaction\u001b[39;00m\u001b[38;5;250m \u001b[39m\u001b[38;5;28;01mimport\u001b[39;00m LateInteractionTextEmbedding\n\u001b[0;32m      5\u001b[0m \u001b[38;5;28;01mfrom\u001b[39;00m\u001b[38;5;250m \u001b[39m\u001b[38;5;21;01mfastembed\u001b[39;00m\u001b[38;5;21;01m.\u001b[39;00m\u001b[38;5;21;01mlate_interaction_multimodal\u001b[39;00m\u001b[38;5;250m \u001b[39m\u001b[38;5;28;01mimport\u001b[39;00m LateInteractionMultimodalEmbedding\n",
      "File \u001b[1;32mc:\\Users\\manuelalberto.romero\\Documents\\repos\\dslabs\\dslab-rag-retrieval\\.venv\\lib\\site-packages\\fastembed\\image\\__init__.py:1\u001b[0m\n\u001b[1;32m----> 1\u001b[0m \u001b[38;5;28;01mfrom\u001b[39;00m\u001b[38;5;250m \u001b[39m\u001b[38;5;21;01mfastembed\u001b[39;00m\u001b[38;5;21;01m.\u001b[39;00m\u001b[38;5;21;01mimage\u001b[39;00m\u001b[38;5;21;01m.\u001b[39;00m\u001b[38;5;21;01mimage_embedding\u001b[39;00m\u001b[38;5;250m \u001b[39m\u001b[38;5;28;01mimport\u001b[39;00m ImageEmbedding\n\u001b[0;32m      3\u001b[0m __all__ \u001b[38;5;241m=\u001b[39m [\u001b[38;5;124m\"\u001b[39m\u001b[38;5;124mImageEmbedding\u001b[39m\u001b[38;5;124m\"\u001b[39m]\n",
      "File \u001b[1;32mc:\\Users\\manuelalberto.romero\\Documents\\repos\\dslabs\\dslab-rag-retrieval\\.venv\\lib\\site-packages\\fastembed\\image\\image_embedding.py:7\u001b[0m\n\u001b[0;32m      5\u001b[0m \u001b[38;5;28;01mfrom\u001b[39;00m\u001b[38;5;250m \u001b[39m\u001b[38;5;21;01mfastembed\u001b[39;00m\u001b[38;5;21;01m.\u001b[39;00m\u001b[38;5;21;01mcommon\u001b[39;00m\u001b[38;5;250m \u001b[39m\u001b[38;5;28;01mimport\u001b[39;00m ImageInput, OnnxProvider\n\u001b[0;32m      6\u001b[0m \u001b[38;5;28;01mfrom\u001b[39;00m\u001b[38;5;250m \u001b[39m\u001b[38;5;21;01mfastembed\u001b[39;00m\u001b[38;5;21;01m.\u001b[39;00m\u001b[38;5;21;01mimage\u001b[39;00m\u001b[38;5;21;01m.\u001b[39;00m\u001b[38;5;21;01mimage_embedding_base\u001b[39;00m\u001b[38;5;250m \u001b[39m\u001b[38;5;28;01mimport\u001b[39;00m ImageEmbeddingBase\n\u001b[1;32m----> 7\u001b[0m \u001b[38;5;28;01mfrom\u001b[39;00m\u001b[38;5;250m \u001b[39m\u001b[38;5;21;01mfastembed\u001b[39;00m\u001b[38;5;21;01m.\u001b[39;00m\u001b[38;5;21;01mimage\u001b[39;00m\u001b[38;5;21;01m.\u001b[39;00m\u001b[38;5;21;01monnx_embedding\u001b[39;00m\u001b[38;5;250m \u001b[39m\u001b[38;5;28;01mimport\u001b[39;00m OnnxImageEmbedding\n\u001b[0;32m      8\u001b[0m \u001b[38;5;28;01mfrom\u001b[39;00m\u001b[38;5;250m \u001b[39m\u001b[38;5;21;01mfastembed\u001b[39;00m\u001b[38;5;21;01m.\u001b[39;00m\u001b[38;5;21;01mcommon\u001b[39;00m\u001b[38;5;21;01m.\u001b[39;00m\u001b[38;5;21;01mmodel_description\u001b[39;00m\u001b[38;5;250m \u001b[39m\u001b[38;5;28;01mimport\u001b[39;00m DenseModelDescription\n\u001b[0;32m     11\u001b[0m \u001b[38;5;28;01mclass\u001b[39;00m\u001b[38;5;250m \u001b[39m\u001b[38;5;21;01mImageEmbedding\u001b[39;00m(ImageEmbeddingBase):\n",
      "File \u001b[1;32mc:\\Users\\manuelalberto.romero\\Documents\\repos\\dslabs\\dslab-rag-retrieval\\.venv\\lib\\site-packages\\fastembed\\image\\onnx_embedding.py:6\u001b[0m\n\u001b[0;32m      4\u001b[0m \u001b[38;5;28;01mfrom\u001b[39;00m\u001b[38;5;250m \u001b[39m\u001b[38;5;21;01mfastembed\u001b[39;00m\u001b[38;5;21;01m.\u001b[39;00m\u001b[38;5;21;01mcommon\u001b[39;00m\u001b[38;5;21;01m.\u001b[39;00m\u001b[38;5;21;01mtypes\u001b[39;00m\u001b[38;5;250m \u001b[39m\u001b[38;5;28;01mimport\u001b[39;00m NumpyArray\n\u001b[0;32m      5\u001b[0m \u001b[38;5;28;01mfrom\u001b[39;00m\u001b[38;5;250m \u001b[39m\u001b[38;5;21;01mfastembed\u001b[39;00m\u001b[38;5;21;01m.\u001b[39;00m\u001b[38;5;21;01mcommon\u001b[39;00m\u001b[38;5;250m \u001b[39m\u001b[38;5;28;01mimport\u001b[39;00m ImageInput, OnnxProvider\n\u001b[1;32m----> 6\u001b[0m \u001b[38;5;28;01mfrom\u001b[39;00m\u001b[38;5;250m \u001b[39m\u001b[38;5;21;01mfastembed\u001b[39;00m\u001b[38;5;21;01m.\u001b[39;00m\u001b[38;5;21;01mcommon\u001b[39;00m\u001b[38;5;21;01m.\u001b[39;00m\u001b[38;5;21;01monnx_model\u001b[39;00m\u001b[38;5;250m \u001b[39m\u001b[38;5;28;01mimport\u001b[39;00m OnnxOutputContext\n\u001b[0;32m      7\u001b[0m \u001b[38;5;28;01mfrom\u001b[39;00m\u001b[38;5;250m \u001b[39m\u001b[38;5;21;01mfastembed\u001b[39;00m\u001b[38;5;21;01m.\u001b[39;00m\u001b[38;5;21;01mcommon\u001b[39;00m\u001b[38;5;21;01m.\u001b[39;00m\u001b[38;5;21;01mutils\u001b[39;00m\u001b[38;5;250m \u001b[39m\u001b[38;5;28;01mimport\u001b[39;00m define_cache_dir, normalize\n\u001b[0;32m      8\u001b[0m \u001b[38;5;28;01mfrom\u001b[39;00m\u001b[38;5;250m \u001b[39m\u001b[38;5;21;01mfastembed\u001b[39;00m\u001b[38;5;21;01m.\u001b[39;00m\u001b[38;5;21;01mimage\u001b[39;00m\u001b[38;5;21;01m.\u001b[39;00m\u001b[38;5;21;01mimage_embedding_base\u001b[39;00m\u001b[38;5;250m \u001b[39m\u001b[38;5;28;01mimport\u001b[39;00m ImageEmbeddingBase\n",
      "File \u001b[1;32mc:\\Users\\manuelalberto.romero\\Documents\\repos\\dslabs\\dslab-rag-retrieval\\.venv\\lib\\site-packages\\fastembed\\common\\onnx_model.py:7\u001b[0m\n\u001b[0;32m      4\u001b[0m \u001b[38;5;28;01mfrom\u001b[39;00m\u001b[38;5;250m \u001b[39m\u001b[38;5;21;01mtyping\u001b[39;00m\u001b[38;5;250m \u001b[39m\u001b[38;5;28;01mimport\u001b[39;00m Any, Generic, Iterable, Optional, Sequence, Type, TypeVar\n\u001b[0;32m      6\u001b[0m \u001b[38;5;28;01mimport\u001b[39;00m\u001b[38;5;250m \u001b[39m\u001b[38;5;21;01mnumpy\u001b[39;00m\u001b[38;5;250m \u001b[39m\u001b[38;5;28;01mas\u001b[39;00m\u001b[38;5;250m \u001b[39m\u001b[38;5;21;01mnp\u001b[39;00m\n\u001b[1;32m----> 7\u001b[0m \u001b[38;5;28;01mimport\u001b[39;00m\u001b[38;5;250m \u001b[39m\u001b[38;5;21;01monnxruntime\u001b[39;00m\u001b[38;5;250m \u001b[39m\u001b[38;5;28;01mas\u001b[39;00m\u001b[38;5;250m \u001b[39m\u001b[38;5;21;01mort\u001b[39;00m\n\u001b[0;32m      9\u001b[0m \u001b[38;5;28;01mfrom\u001b[39;00m\u001b[38;5;250m \u001b[39m\u001b[38;5;21;01mnumpy\u001b[39;00m\u001b[38;5;21;01m.\u001b[39;00m\u001b[38;5;21;01mtyping\u001b[39;00m\u001b[38;5;250m \u001b[39m\u001b[38;5;28;01mimport\u001b[39;00m NDArray\n\u001b[0;32m     10\u001b[0m \u001b[38;5;28;01mfrom\u001b[39;00m\u001b[38;5;250m \u001b[39m\u001b[38;5;21;01mtokenizers\u001b[39;00m\u001b[38;5;250m \u001b[39m\u001b[38;5;28;01mimport\u001b[39;00m Tokenizer\n",
      "File \u001b[1;32mc:\\Users\\manuelalberto.romero\\Documents\\repos\\dslabs\\dslab-rag-retrieval\\.venv\\lib\\site-packages\\onnxruntime\\__init__.py:61\u001b[0m\n\u001b[0;32m     58\u001b[0m \u001b[38;5;28;01mfrom\u001b[39;00m\u001b[38;5;250m \u001b[39m\u001b[38;5;21;01monnxruntime\u001b[39;00m\u001b[38;5;21;01m.\u001b[39;00m\u001b[38;5;21;01mcapi\u001b[39;00m\u001b[38;5;250m \u001b[39m\u001b[38;5;28;01mimport\u001b[39;00m onnxruntime_validation\n\u001b[0;32m     60\u001b[0m \u001b[38;5;28;01mif\u001b[39;00m import_capi_exception:\n\u001b[1;32m---> 61\u001b[0m     \u001b[38;5;28;01mraise\u001b[39;00m import_capi_exception\n\u001b[0;32m     63\u001b[0m \u001b[38;5;28;01mfrom\u001b[39;00m\u001b[38;5;250m \u001b[39m\u001b[38;5;21;01monnxruntime\u001b[39;00m\u001b[38;5;21;01m.\u001b[39;00m\u001b[38;5;21;01mcapi\u001b[39;00m\u001b[38;5;21;01m.\u001b[39;00m\u001b[38;5;21;01monnxruntime_inference_collection\u001b[39;00m\u001b[38;5;250m \u001b[39m\u001b[38;5;28;01mimport\u001b[39;00m (\n\u001b[0;32m     64\u001b[0m     AdapterFormat,  \u001b[38;5;66;03m# noqa: F401\u001b[39;00m\n\u001b[0;32m     65\u001b[0m     InferenceSession,  \u001b[38;5;66;03m# noqa: F401\u001b[39;00m\n\u001b[1;32m   (...)\u001b[0m\n\u001b[0;32m     69\u001b[0m     SparseTensor,  \u001b[38;5;66;03m# noqa: F401\u001b[39;00m\n\u001b[0;32m     70\u001b[0m )\n\u001b[0;32m     72\u001b[0m \u001b[38;5;66;03m# TODO: thiagofc: Temporary experimental namespace for new PyTorch front-end\u001b[39;00m\n",
      "File \u001b[1;32mc:\\Users\\manuelalberto.romero\\Documents\\repos\\dslabs\\dslab-rag-retrieval\\.venv\\lib\\site-packages\\onnxruntime\\__init__.py:24\u001b[0m\n\u001b[0;32m     14\u001b[0m \u001b[38;5;66;03m# we need to do device version validation (for example to check Cuda version for an onnxruntime-training package).\u001b[39;00m\n\u001b[0;32m     15\u001b[0m \u001b[38;5;66;03m# in order to know whether the onnxruntime package is for training it needs\u001b[39;00m\n\u001b[0;32m     16\u001b[0m \u001b[38;5;66;03m# to do import onnxruntime.training.ortmodule first.\u001b[39;00m\n\u001b[1;32m   (...)\u001b[0m\n\u001b[0;32m     21\u001b[0m \u001b[38;5;66;03m# meaningful messages to the user.\u001b[39;00m\n\u001b[0;32m     22\u001b[0m \u001b[38;5;66;03m# the saved exception is raised after device version validation.\u001b[39;00m\n\u001b[0;32m     23\u001b[0m \u001b[38;5;28;01mtry\u001b[39;00m:\n\u001b[1;32m---> 24\u001b[0m     \u001b[38;5;28;01mfrom\u001b[39;00m\u001b[38;5;250m \u001b[39m\u001b[38;5;21;01monnxruntime\u001b[39;00m\u001b[38;5;21;01m.\u001b[39;00m\u001b[38;5;21;01mcapi\u001b[39;00m\u001b[38;5;21;01m.\u001b[39;00m\u001b[38;5;21;01m_pybind_state\u001b[39;00m\u001b[38;5;250m \u001b[39m\u001b[38;5;28;01mimport\u001b[39;00m (\n\u001b[0;32m     25\u001b[0m         ExecutionMode,  \u001b[38;5;66;03m# noqa: F401\u001b[39;00m\n\u001b[0;32m     26\u001b[0m         ExecutionOrder,  \u001b[38;5;66;03m# noqa: F401\u001b[39;00m\n\u001b[0;32m     27\u001b[0m         GraphOptimizationLevel,  \u001b[38;5;66;03m# noqa: F401\u001b[39;00m\n\u001b[0;32m     28\u001b[0m         LoraAdapter,  \u001b[38;5;66;03m# noqa: F401\u001b[39;00m\n\u001b[0;32m     29\u001b[0m         ModelMetadata,  \u001b[38;5;66;03m# noqa: F401\u001b[39;00m\n\u001b[0;32m     30\u001b[0m         NodeArg,  \u001b[38;5;66;03m# noqa: F401\u001b[39;00m\n\u001b[0;32m     31\u001b[0m         OrtAllocatorType,  \u001b[38;5;66;03m# noqa: F401\u001b[39;00m\n\u001b[0;32m     32\u001b[0m         OrtArenaCfg,  \u001b[38;5;66;03m# noqa: F401\u001b[39;00m\n\u001b[0;32m     33\u001b[0m         OrtMemoryInfo,  \u001b[38;5;66;03m# noqa: F401\u001b[39;00m\n\u001b[0;32m     34\u001b[0m         OrtMemType,  \u001b[38;5;66;03m# noqa: F401\u001b[39;00m\n\u001b[0;32m     35\u001b[0m         OrtSparseFormat,  \u001b[38;5;66;03m# noqa: F401\u001b[39;00m\n\u001b[0;32m     36\u001b[0m         RunOptions,  \u001b[38;5;66;03m# noqa: F401\u001b[39;00m\n\u001b[0;32m     37\u001b[0m         SessionIOBinding,  \u001b[38;5;66;03m# noqa: F401\u001b[39;00m\n\u001b[0;32m     38\u001b[0m         SessionOptions,  \u001b[38;5;66;03m# noqa: F401\u001b[39;00m\n\u001b[0;32m     39\u001b[0m         create_and_register_allocator,  \u001b[38;5;66;03m# noqa: F401\u001b[39;00m\n\u001b[0;32m     40\u001b[0m         create_and_register_allocator_v2,  \u001b[38;5;66;03m# noqa: F401\u001b[39;00m\n\u001b[0;32m     41\u001b[0m         disable_telemetry_events,  \u001b[38;5;66;03m# noqa: F401\u001b[39;00m\n\u001b[0;32m     42\u001b[0m         enable_telemetry_events,  \u001b[38;5;66;03m# noqa: F401\u001b[39;00m\n\u001b[0;32m     43\u001b[0m         get_all_providers,  \u001b[38;5;66;03m# noqa: F401\u001b[39;00m\n\u001b[0;32m     44\u001b[0m         get_available_providers,  \u001b[38;5;66;03m# noqa: F401\u001b[39;00m\n\u001b[0;32m     45\u001b[0m         get_build_info,  \u001b[38;5;66;03m# noqa: F401\u001b[39;00m\n\u001b[0;32m     46\u001b[0m         get_device,  \u001b[38;5;66;03m# noqa: F401\u001b[39;00m\n\u001b[0;32m     47\u001b[0m         get_version_string,  \u001b[38;5;66;03m# noqa: F401\u001b[39;00m\n\u001b[0;32m     48\u001b[0m         has_collective_ops,  \u001b[38;5;66;03m# noqa: F401\u001b[39;00m\n\u001b[0;32m     49\u001b[0m         set_default_logger_severity,  \u001b[38;5;66;03m# noqa: F401\u001b[39;00m\n\u001b[0;32m     50\u001b[0m         set_default_logger_verbosity,  \u001b[38;5;66;03m# noqa: F401\u001b[39;00m\n\u001b[0;32m     51\u001b[0m         set_seed,  \u001b[38;5;66;03m# noqa: F401\u001b[39;00m\n\u001b[0;32m     52\u001b[0m     )\n\u001b[0;32m     54\u001b[0m     import_capi_exception \u001b[38;5;241m=\u001b[39m \u001b[38;5;28;01mNone\u001b[39;00m\n\u001b[0;32m     55\u001b[0m \u001b[38;5;28;01mexcept\u001b[39;00m \u001b[38;5;167;01mException\u001b[39;00m \u001b[38;5;28;01mas\u001b[39;00m e:\n",
      "File \u001b[1;32mc:\\Users\\manuelalberto.romero\\Documents\\repos\\dslabs\\dslab-rag-retrieval\\.venv\\lib\\site-packages\\onnxruntime\\capi\\_pybind_state.py:32\u001b[0m\n\u001b[0;32m     24\u001b[0m         \u001b[38;5;28;01mif\u001b[39;00m \u001b[38;5;129;01mnot\u001b[39;00m os\u001b[38;5;241m.\u001b[39mpath\u001b[38;5;241m.\u001b[39misfile(os\u001b[38;5;241m.\u001b[39mpath\u001b[38;5;241m.\u001b[39mjoin(system_root, \u001b[38;5;124m\"\u001b[39m\u001b[38;5;124mSystem32\u001b[39m\u001b[38;5;124m\"\u001b[39m, \u001b[38;5;124m\"\u001b[39m\u001b[38;5;124mvcruntime140_1.dll\u001b[39m\u001b[38;5;124m\"\u001b[39m)):\n\u001b[0;32m     25\u001b[0m             warnings\u001b[38;5;241m.\u001b[39mwarn(\u001b[38;5;124m\"\u001b[39m\u001b[38;5;124mPlease install the 2019 Visual C++ runtime and then try again. \u001b[39m\u001b[38;5;124m\"\u001b[39m\n\u001b[0;32m     26\u001b[0m                           \u001b[38;5;124m\"\u001b[39m\u001b[38;5;124mIf you\u001b[39m\u001b[38;5;124m'\u001b[39m\u001b[38;5;124mve installed the runtime in a non-standard location \u001b[39m\u001b[38;5;124m\"\u001b[39m\n\u001b[0;32m     27\u001b[0m                           \u001b[38;5;124m\"\u001b[39m\u001b[38;5;124m(other than \u001b[39m\u001b[38;5;124m%\u001b[39m\u001b[38;5;124mSystemRoot\u001b[39m\u001b[38;5;124m%\u001b[39m\u001b[38;5;130;01m\\\\\u001b[39;00m\u001b[38;5;124mSystem32), \u001b[39m\u001b[38;5;124m\"\u001b[39m\n\u001b[0;32m     28\u001b[0m                           \u001b[38;5;124m\"\u001b[39m\u001b[38;5;124mmake sure it can be found by setting the correct path.\u001b[39m\u001b[38;5;124m\"\u001b[39m)\n\u001b[1;32m---> 32\u001b[0m \u001b[38;5;28;01mfrom\u001b[39;00m\u001b[38;5;250m \u001b[39m\u001b[38;5;21;01m.\u001b[39;00m\u001b[38;5;21;01monnxruntime_pybind11_state\u001b[39;00m\u001b[38;5;250m \u001b[39m\u001b[38;5;28;01mimport\u001b[39;00m \u001b[38;5;241m*\u001b[39m  \u001b[38;5;66;03m# noqa\u001b[39;00m\n",
      "\u001b[1;31mImportError\u001b[0m: DLL load failed while importing onnxruntime_pybind11_state: Error en una rutina de inicialización de biblioteca de vínculos dinámicos (DLL)."
     ]
    }
   ],
   "source": [
    "import os\n",
    "from dotenv import load_dotenv\n",
    "import pandas as pd\n",
    "from datasets import load_dataset\n",
    "from qdrant_client import models, QdrantClient\n",
    "from fastembed import SparseTextEmbedding\n",
    "\n",
    "from src import load_data, embeddings\n"
   ]
  },
  {
   "cell_type": "code",
   "execution_count": null,
   "id": "c9efaa29",
   "metadata": {},
   "outputs": [],
   "source": [
    "documents = [\n",
    "    \"You should stay, study and sprint.\",\n",
    "    \"History can only prepare us to be surprised yet again.\",\n",
    "]\n",
    "\n",
    "model = SparseTextEmbedding(model_name=\"Qdrant/bm25\")\n",
    "embeddings = list(model.embed(documents))\n"
   ]
  },
  {
   "cell_type": "markdown",
   "id": "5bbc9ac7",
   "metadata": {},
   "source": [
    "# Params"
   ]
  },
  {
   "cell_type": "code",
   "execution_count": 3,
   "id": "2a92dcd2",
   "metadata": {},
   "outputs": [],
   "source": [
    "INDEX = \"ragquas-sparse-01\"\n",
    "RETRIEVE_K=5"
   ]
  },
  {
   "cell_type": "markdown",
   "id": "5320c420",
   "metadata": {},
   "source": [
    "# Environment variables"
   ]
  },
  {
   "cell_type": "code",
   "execution_count": 4,
   "id": "086f2414",
   "metadata": {},
   "outputs": [],
   "source": [
    "load_dotenv()\n",
    "\n",
    "OPENAI_API_KEY = os.environ['OPENAI_API_KEY']\n"
   ]
  },
  {
   "cell_type": "markdown",
   "id": "24dd54ed",
   "metadata": {},
   "source": [
    "# Clients"
   ]
  },
  {
   "cell_type": "code",
   "execution_count": 5,
   "id": "d23e1d98",
   "metadata": {},
   "outputs": [],
   "source": [
    "client_qdrant = QdrantClient(\":memory:\") \n"
   ]
  },
  {
   "cell_type": "markdown",
   "id": "64054a22",
   "metadata": {},
   "source": [
    "# Load Data"
   ]
  },
  {
   "cell_type": "code",
   "execution_count": 6,
   "id": "722b9759",
   "metadata": {},
   "outputs": [
    {
     "data": {
      "text/html": [
       "<div>\n",
       "<style scoped>\n",
       "    .dataframe tbody tr th:only-of-type {\n",
       "        vertical-align: middle;\n",
       "    }\n",
       "\n",
       "    .dataframe tbody tr th {\n",
       "        vertical-align: top;\n",
       "    }\n",
       "\n",
       "    .dataframe thead th {\n",
       "        text-align: right;\n",
       "    }\n",
       "</style>\n",
       "<table border=\"1\" class=\"dataframe\">\n",
       "  <thead>\n",
       "    <tr style=\"text-align: right;\">\n",
       "      <th></th>\n",
       "      <th>topic</th>\n",
       "      <th>answer</th>\n",
       "      <th>question</th>\n",
       "      <th>variant</th>\n",
       "      <th>context_1</th>\n",
       "      <th>context_2</th>\n",
       "      <th>context_3</th>\n",
       "      <th>context_4</th>\n",
       "      <th>context_5</th>\n",
       "      <th>link_1</th>\n",
       "      <th>link_2</th>\n",
       "      <th>link_3</th>\n",
       "      <th>link_4</th>\n",
       "      <th>link_5</th>\n",
       "      <th>text_1</th>\n",
       "      <th>text_2</th>\n",
       "      <th>text_3</th>\n",
       "      <th>text_4</th>\n",
       "      <th>text_5</th>\n",
       "    </tr>\n",
       "  </thead>\n",
       "  <tbody>\n",
       "    <tr>\n",
       "      <th>0</th>\n",
       "      <td>reclamaciones</td>\n",
       "      <td>La opción más fácil y eficaz para reclamar una...</td>\n",
       "      <td>¿Cuál es la forma más fácil de reclamar cuando...</td>\n",
       "      <td>question_1</td>\n",
       "      <td>#1. Airhelp\\n\\nLa empresa Airhelp fue fundada ...</td>\n",
       "      <td>En AirHelp hemos ayudado a más de 16 millones ...</td>\n",
       "      <td>MYFLYRIGHT, expertos en derechos de los viajer...</td>\n",
       "      <td></td>\n",
       "      <td></td>\n",
       "      <td>https://www.businessinsider.es/mejores-paginas...</td>\n",
       "      <td>https://www.airhelp.com/es/retrasos-de-vuelos/</td>\n",
       "      <td>https://myflyright.com/es/servicios/vuelo-retr...</td>\n",
       "      <td></td>\n",
       "      <td></td>\n",
       "      <td>5 páginas donde poder reclamar tus vuelos por ...</td>\n",
       "      <td>Conoce las compensaciones cuando se retrasa tu...</td>\n",
       "      <td>Indemnización retraso vuelo\\n\\nNavegación por ...</td>\n",
       "      <td></td>\n",
       "      <td></td>\n",
       "    </tr>\n",
       "    <tr>\n",
       "      <th>1</th>\n",
       "      <td>reclamaciones</td>\n",
       "      <td>La opción más fácil y eficaz para reclamar una...</td>\n",
       "      <td>hola mi vuelo a Alemania se ha retrasado mucho...</td>\n",
       "      <td>question_2</td>\n",
       "      <td>#1. Airhelp\\n\\nLa empresa Airhelp fue fundada ...</td>\n",
       "      <td>En AirHelp hemos ayudado a más de 16 millones ...</td>\n",
       "      <td>MYFLYRIGHT, expertos en derechos de los viajer...</td>\n",
       "      <td></td>\n",
       "      <td></td>\n",
       "      <td>https://www.businessinsider.es/mejores-paginas...</td>\n",
       "      <td>https://www.airhelp.com/es/retrasos-de-vuelos/</td>\n",
       "      <td>https://myflyright.com/es/servicios/vuelo-retr...</td>\n",
       "      <td></td>\n",
       "      <td></td>\n",
       "      <td>5 páginas donde poder reclamar tus vuelos por ...</td>\n",
       "      <td>Conoce las compensaciones cuando se retrasa tu...</td>\n",
       "      <td>Indemnización retraso vuelo\\n\\nNavegación por ...</td>\n",
       "      <td></td>\n",
       "      <td></td>\n",
       "    </tr>\n",
       "  </tbody>\n",
       "</table>\n",
       "</div>"
      ],
      "text/plain": [
       "           topic                                             answer  \\\n",
       "0  reclamaciones  La opción más fácil y eficaz para reclamar una...   \n",
       "1  reclamaciones  La opción más fácil y eficaz para reclamar una...   \n",
       "\n",
       "                                            question     variant  \\\n",
       "0  ¿Cuál es la forma más fácil de reclamar cuando...  question_1   \n",
       "1  hola mi vuelo a Alemania se ha retrasado mucho...  question_2   \n",
       "\n",
       "                                           context_1  \\\n",
       "0  #1. Airhelp\\n\\nLa empresa Airhelp fue fundada ...   \n",
       "1  #1. Airhelp\\n\\nLa empresa Airhelp fue fundada ...   \n",
       "\n",
       "                                           context_2  \\\n",
       "0  En AirHelp hemos ayudado a más de 16 millones ...   \n",
       "1  En AirHelp hemos ayudado a más de 16 millones ...   \n",
       "\n",
       "                                           context_3 context_4 context_5  \\\n",
       "0  MYFLYRIGHT, expertos en derechos de los viajer...                       \n",
       "1  MYFLYRIGHT, expertos en derechos de los viajer...                       \n",
       "\n",
       "                                              link_1  \\\n",
       "0  https://www.businessinsider.es/mejores-paginas...   \n",
       "1  https://www.businessinsider.es/mejores-paginas...   \n",
       "\n",
       "                                           link_2  \\\n",
       "0  https://www.airhelp.com/es/retrasos-de-vuelos/   \n",
       "1  https://www.airhelp.com/es/retrasos-de-vuelos/   \n",
       "\n",
       "                                              link_3 link_4 link_5  \\\n",
       "0  https://myflyright.com/es/servicios/vuelo-retr...                 \n",
       "1  https://myflyright.com/es/servicios/vuelo-retr...                 \n",
       "\n",
       "                                              text_1  \\\n",
       "0  5 páginas donde poder reclamar tus vuelos por ...   \n",
       "1  5 páginas donde poder reclamar tus vuelos por ...   \n",
       "\n",
       "                                              text_2  \\\n",
       "0  Conoce las compensaciones cuando se retrasa tu...   \n",
       "1  Conoce las compensaciones cuando se retrasa tu...   \n",
       "\n",
       "                                              text_3 text_4 text_5  \n",
       "0  Indemnización retraso vuelo\\n\\nNavegación por ...                \n",
       "1  Indemnización retraso vuelo\\n\\nNavegación por ...                "
      ]
     },
     "execution_count": 6,
     "metadata": {},
     "output_type": "execute_result"
    }
   ],
   "source": [
    "df_ragquas = load_data.ragquas()\n",
    "df_ragquas.head(2)"
   ]
  },
  {
   "cell_type": "code",
   "execution_count": 7,
   "id": "77be9640",
   "metadata": {},
   "outputs": [
    {
     "name": "stdout",
     "output_type": "stream",
     "text": [
      "Raw shape: (250, 3)\n",
      "<class 'pandas.core.frame.DataFrame'>\n",
      "RangeIndex: 183 entries, 0 to 182\n",
      "Data columns (total 10 columns):\n",
      " #   Column    Non-Null Count  Dtype \n",
      "---  ------    --------------  ----- \n",
      " 0   index     183 non-null    int64 \n",
      " 1   topic     183 non-null    object\n",
      " 2   variant   183 non-null    object\n",
      " 3   question  183 non-null    object\n",
      " 4   answer    183 non-null    object\n",
      " 5   j         183 non-null    int64 \n",
      " 6   context_  183 non-null    object\n",
      " 7   text_     183 non-null    object\n",
      " 8   link_     183 non-null    object\n",
      " 9   uuid      183 non-null    object\n",
      "dtypes: int64(2), object(8)\n",
      "memory usage: 14.4+ KB\n"
     ]
    }
   ],
   "source": [
    "df_docs = load_data.prepare_ragquas(df_ragquas)\n",
    "df_docs.info()"
   ]
  },
  {
   "cell_type": "code",
   "execution_count": 30,
   "id": "c3b5dffe",
   "metadata": {},
   "outputs": [
    {
     "name": "stderr",
     "output_type": "stream",
     "text": [
      "c:\\Users\\manuelalberto.romero\\Documents\\repos\\dslabs\\dslab-rag-retrieval\\.venv\\lib\\site-packages\\sklearn\\feature_extraction\\text.py:517: UserWarning: The parameter 'token_pattern' will not be used since 'tokenizer' is not None'\n",
      "  warnings.warn(\n"
     ]
    }
   ],
   "source": [
    "from src import bm25\n",
    "\n",
    "corpus = df_docs['text_'].tolist()\n",
    "\n",
    "encoder = bm25.BM25Vectorizer(k1=1.2, b=0.75).fit(corpus)\n",
    "corpus_encoded = encoder.transform(corpus) "
   ]
  },
  {
   "cell_type": "code",
   "execution_count": 42,
   "id": "3f1f9d14",
   "metadata": {},
   "outputs": [
    {
     "name": "stdout",
     "output_type": "stream",
     "text": [
      "len(lst_embeddings)=183\n"
     ]
    }
   ],
   "source": [
    "lst_embeddings = []\n",
    "for idx in range(corpus_encoded.shape[0]):\n",
    "    sp_vec = corpus_encoded[idx]\n",
    "    lst_embeddings.append({\n",
    "        \"text\": models.SparseVector(\n",
    "            indices=sp_vec.indices,\n",
    "            values=sp_vec.data\n",
    "            )\n",
    "        }\n",
    "    )\n",
    "\n",
    "print(f\"{len(lst_embeddings)=}\")"
   ]
  },
  {
   "cell_type": "code",
   "execution_count": 43,
   "id": "3fc2c86b",
   "metadata": {},
   "outputs": [
    {
     "name": "stdout",
     "output_type": "stream",
     "text": [
      "len(lst_pts)=183\n"
     ]
    }
   ],
   "source": [
    "lst_pts = embeddings.create_index_points(\n",
    "    lst_embeddings,\n",
    "    df_docs,\n",
    ")\n",
    "print(f\"{len(lst_pts)=}\")"
   ]
  },
  {
   "cell_type": "code",
   "execution_count": 44,
   "id": "dc6d4528",
   "metadata": {},
   "outputs": [
    {
     "name": "stdout",
     "output_type": "stream",
     "text": [
      "len(lst_qdrant_pts)=183\n"
     ]
    }
   ],
   "source": [
    "lst_qdrant_pts = embeddings.convert_to_qdrant_points(lst_pts)\n",
    "print(f\"{len(lst_qdrant_pts)=}\")"
   ]
  },
  {
   "cell_type": "code",
   "execution_count": 45,
   "id": "66525791",
   "metadata": {},
   "outputs": [
    {
     "data": {
      "text/plain": [
       "UpdateResult(operation_id=0, status=<UpdateStatus.COMPLETED: 'completed'>)"
      ]
     },
     "execution_count": 45,
     "metadata": {},
     "output_type": "execute_result"
    }
   ],
   "source": [
    "client_qdrant.create_collection(\n",
    "    collection_name=INDEX,\n",
    "    vectors_config={},\n",
    "    sparse_vectors_config={\n",
    "        \"text\": models.SparseVectorParams(),\n",
    "        }\n",
    ")\n",
    "\n",
    "client_qdrant.upsert(\n",
    "    collection_name=INDEX,\n",
    "    points=lst_qdrant_pts\n",
    ")"
   ]
  },
  {
   "cell_type": "code",
   "execution_count": 47,
   "id": "91bf38be",
   "metadata": {},
   "outputs": [
    {
     "name": "stdout",
     "output_type": "stream",
     "text": [
      "Question: 0    ¿Cuál es la forma más fácil de reclamar cuando...\n",
      "Name: question, dtype: object\n",
      "point.id='ada9d109-3f17-4980-81b7-4d537fd44e5f'\n",
      "point.score=86.91446685791016\n",
      "Doc: Indemnización retraso vuelo\n",
      "\n",
      "Navegación por el Retraso en el vuelo\n",
      "\n",
      "    La indemnización por retraso de vuelo y los derechos en breve\n",
      "    ¿Tu vuelo se ha retrasado? Condiciones de indemnización\n",
      "    Indemnización por retraso de vuelo: Derechos de los pasajeros de la UE\n",
      "    Indemnización por retraso de vuelo: Paquete y viaje de negocios\n",
      "    Retraso del vuelo: Cómo reclamar una indemnización\n",
      "    Estado de los vuelos: Estadísticas de la UE sobre retrasos\n",
      "\n",
      "Indemnizaciones y derechos en caso de retras...\n",
      "idx: 0, j: 3\n",
      "------------------------------\n",
      "point.id='9444be4a-e047-4c1b-97d9-4b5ef6681381'\n",
      "point.score=83.19611358642578\n",
      "Doc: Conoce las compensaciones cuando se retrasa tu vuelo\n",
      "\n",
      "Llegas al aeropuerto y tu vuelo va con retraso, ¿conoces cuáles son tus derechos y si puedes pedir reclamar una compensación? Desde AirHelp te ayudamos con los trámites para que tu viaje no se convierta en una pesadilla y puedas conocer todos los casos en los que puedes hacer una reclamación y el plazo para realizar los reclamos. ¡Te ayudaremos a reclamar tu indemnización por si tu vuelo se retrasa!\n",
      "\n",
      "Desplazarse en avión es para muchas person...\n",
      "idx: 0, j: 2\n",
      "------------------------------\n",
      "point.id='0cf1dfb0-bc56-4246-bfe7-4ce655eae4ce'\n",
      "point.score=81.80880737304688\n",
      "Doc: 5 páginas donde poder reclamar tus vuelos por retraso o cancelación de manera gratuita\n",
      "Irina Pérez\n",
      "\n",
      "    En muchas ocasiones no se realiza la reclamación de un vuelo por retraso o cancelación, porque se desconocen los derechos como pasajeros y la manera de realizar el trámite. \n",
      "    Por ello, aquí van 5 reclamadores online que te ayudarán a conseguir una indemnización por tu vuelo, sin que tengas que desplazarte ni hacer papeleos.\n",
      "    Descubre más historias en Business Insider España.\n",
      "\n",
      "Volar es si...\n",
      "idx: 0, j: 1\n",
      "------------------------------\n"
     ]
    }
   ],
   "source": [
    "_q_text = df_docs.iloc[0:1]['question']\n",
    "\n",
    "_q_encoded = encoder.transform(_q_text)[0]\n",
    "\n",
    "_q_vec = models.SparseVector(\n",
    "    indices=_q_encoded.indices,\n",
    "    values=_q_encoded.data\n",
    "    )\n",
    "\n",
    "print(f\"Question: {_q_text}\")\n",
    "embeddings.check_query_qdrant(\n",
    "        client_qdrant,\n",
    "        INDEX,\n",
    "        _q_vec,\n",
    "        retrieve_k=3,\n",
    "        using='text'  # passed by *args, **kwargs to query_points()\n",
    ")\n",
    "\n"
   ]
  },
  {
   "cell_type": "code",
   "execution_count": null,
   "id": "cf7e86a6",
   "metadata": {},
   "outputs": [],
   "source": []
  }
 ],
 "metadata": {
  "kernelspec": {
   "display_name": ".venv",
   "language": "python",
   "name": "python3"
  },
  "language_info": {
   "codemirror_mode": {
    "name": "ipython",
    "version": 3
   },
   "file_extension": ".py",
   "mimetype": "text/x-python",
   "name": "python",
   "nbconvert_exporter": "python",
   "pygments_lexer": "ipython3",
   "version": "3.10.9"
  }
 },
 "nbformat": 4,
 "nbformat_minor": 5
}
