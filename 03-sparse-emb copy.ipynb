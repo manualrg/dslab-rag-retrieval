{
 "cells": [
  {
   "cell_type": "markdown",
   "id": "6bee68bf",
   "metadata": {},
   "source": [
    "# Sparse Embeddings"
   ]
  },
  {
   "cell_type": "code",
   "execution_count": null,
   "id": "d80ab1d5",
   "metadata": {},
   "outputs": [],
   "source": [
    "%load_ext autoreload\n",
    "%autoreload 2"
   ]
  },
  {
   "cell_type": "code",
   "execution_count": null,
   "id": "8c0e5386",
   "metadata": {},
   "outputs": [],
   "source": [
    "import os\n",
    "from dotenv import load_dotenv\n",
    "import pandas as pd\n",
    "from datasets import load_dataset\n",
    "from qdrant_client import models, QdrantClient\n",
    "from fastembed import SparseTextEmbedding\n",
    "\n",
    "from src import load_data, embeddings\n"
   ]
  },
  {
   "cell_type": "markdown",
   "id": "5bbc9ac7",
   "metadata": {},
   "source": [
    "# Params"
   ]
  },
  {
   "cell_type": "code",
   "execution_count": null,
   "id": "2a92dcd2",
   "metadata": {},
   "outputs": [],
   "source": [
    "INDEX = \"ragquas-sparse-01\"\n",
    "RETRIEVE_K=5"
   ]
  },
  {
   "cell_type": "markdown",
   "id": "5320c420",
   "metadata": {},
   "source": [
    "# Environment variables"
   ]
  },
  {
   "cell_type": "code",
   "execution_count": null,
   "id": "086f2414",
   "metadata": {},
   "outputs": [],
   "source": [
    "load_dotenv()\n"
   ]
  },
  {
   "cell_type": "markdown",
   "id": "24dd54ed",
   "metadata": {},
   "source": [
    "# Clients"
   ]
  },
  {
   "cell_type": "code",
   "execution_count": null,
   "id": "d23e1d98",
   "metadata": {},
   "outputs": [],
   "source": [
    "client_qdrant = QdrantClient(\":memory:\") \n"
   ]
  },
  {
   "cell_type": "markdown",
   "id": "64054a22",
   "metadata": {},
   "source": [
    "# Load Data"
   ]
  },
  {
   "cell_type": "code",
   "execution_count": null,
   "id": "722b9759",
   "metadata": {},
   "outputs": [],
   "source": [
    "df_ragquas = load_data.ragquas()\n",
    "df_ragquas.head(2)"
   ]
  },
  {
   "cell_type": "code",
   "execution_count": null,
   "id": "77be9640",
   "metadata": {},
   "outputs": [],
   "source": [
    "df_docs = load_data.prepare_ragquas(df_ragquas)\n",
    "df_docs.info()"
   ]
  },
  {
   "cell_type": "markdown",
   "id": "9ce4bbab",
   "metadata": {},
   "source": [
    "# How Sparse Vectors Works "
   ]
  },
  {
   "cell_type": "code",
   "execution_count": 10,
   "id": "c7fed6d5",
   "metadata": {},
   "outputs": [
    {
     "name": "stdout",
     "output_type": "stream",
     "text": [
      "sp_embeddings[0].values=array([1.67868852, 1.67868852, 1.67868852])\n",
      "sp_embeddings[0].indices=array([1881538586,  150760872, 1932363795])\n"
     ]
    }
   ],
   "source": [
    "documents = [\n",
    "    \"You should stay, study and sprint.\",\n",
    "    \"History can only prepare us to be surprised yet again.\",\n",
    "]\n",
    "\n",
    "encoder = SparseTextEmbedding(model_name=\"Qdrant/bm25\")\n",
    "sp_embeddings = list(encoder.embed(documents))\n",
    "\n",
    "\n",
    "print(f\"{sp_embeddings[0].values=}\")\n",
    "print(f\"{sp_embeddings[0].indices=}\")"
   ]
  },
  {
   "cell_type": "code",
   "execution_count": 12,
   "id": "0684a981",
   "metadata": {},
   "outputs": [
    {
     "data": {
      "text/plain": [
       "fastembed.sparse.sparse_embedding_base.SparseEmbedding"
      ]
     },
     "execution_count": 12,
     "metadata": {},
     "output_type": "execute_result"
    }
   ],
   "source": [
    "type(sp_embeddings[0])"
   ]
  },
  {
   "cell_type": "markdown",
   "id": "0c5545a8",
   "metadata": {},
   "source": [
    "# Index"
   ]
  },
  {
   "cell_type": "code",
   "execution_count": 13,
   "id": "3f1f9d14",
   "metadata": {},
   "outputs": [
    {
     "name": "stdout",
     "output_type": "stream",
     "text": [
      "len(lst_embeddings)=183\n"
     ]
    }
   ],
   "source": [
    "lst_embeddings = []\n",
    "\n",
    "corpus_encoded = list(encoder.embed(df_docs['text_']))\n",
    "\n",
    "for idx in range(len(corpus_encoded)):\n",
    "    sp_vec = corpus_encoded[idx]\n",
    "    lst_embeddings.append({\n",
    "        \"sparse\": models.SparseVector(\n",
    "            indices=sp_vec.indices,\n",
    "            values=sp_vec.values\n",
    "            )\n",
    "        }\n",
    "    )\n",
    "\n",
    "print(f\"{len(lst_embeddings)=}\")"
   ]
  },
  {
   "cell_type": "code",
   "execution_count": 14,
   "id": "3fc2c86b",
   "metadata": {},
   "outputs": [
    {
     "name": "stdout",
     "output_type": "stream",
     "text": [
      "len(lst_pts)=183\n"
     ]
    }
   ],
   "source": [
    "lst_pts = embeddings.create_index_points(\n",
    "    lst_embeddings,\n",
    "    df_docs,\n",
    ")\n",
    "print(f\"{len(lst_pts)=}\")"
   ]
  },
  {
   "cell_type": "code",
   "execution_count": 15,
   "id": "dc6d4528",
   "metadata": {},
   "outputs": [
    {
     "name": "stdout",
     "output_type": "stream",
     "text": [
      "len(lst_qdrant_pts)=183\n"
     ]
    }
   ],
   "source": [
    "lst_qdrant_pts = embeddings.convert_to_qdrant_points(lst_pts)\n",
    "print(f\"{len(lst_qdrant_pts)=}\")"
   ]
  },
  {
   "cell_type": "code",
   "execution_count": 16,
   "id": "66525791",
   "metadata": {},
   "outputs": [
    {
     "data": {
      "text/plain": [
       "UpdateResult(operation_id=0, status=<UpdateStatus.COMPLETED: 'completed'>)"
      ]
     },
     "execution_count": 16,
     "metadata": {},
     "output_type": "execute_result"
    }
   ],
   "source": [
    "client_qdrant.create_collection(\n",
    "    collection_name=INDEX,\n",
    "    vectors_config={},\n",
    "    sparse_vectors_config={\n",
    "        \"sparse\": models.SparseVectorParams(),\n",
    "        }\n",
    ")\n",
    "\n",
    "client_qdrant.upsert(\n",
    "    collection_name=INDEX,\n",
    "    points=lst_qdrant_pts\n",
    ")"
   ]
  },
  {
   "cell_type": "code",
   "execution_count": 17,
   "id": "7e14b135",
   "metadata": {},
   "outputs": [
    {
     "data": {
      "text/plain": [
       "SparseEmbedding(values=array([1.67868852, 1.67868852, 1.67868852]), indices=array([1881538586,  150760872, 1932363795]))"
      ]
     },
     "execution_count": 17,
     "metadata": {},
     "output_type": "execute_result"
    }
   ],
   "source": [
    "_q_text = df_docs.iloc[0:1]['question']\n",
    "\n",
    "list(encoder.embed(documents))[0]\n"
   ]
  },
  {
   "cell_type": "code",
   "execution_count": 18,
   "id": "91bf38be",
   "metadata": {},
   "outputs": [
    {
     "name": "stdout",
     "output_type": "stream",
     "text": [
      "Question: 0    ¿Cuál es la forma más fácil de reclamar cuando...\n",
      "Name: question, dtype: object\n",
      "point.id='83fe5701-ef07-42e0-86cb-db59f61bafa5'\n",
      "point.score=31.911108016967773\n",
      "Doc: Conoce las compensaciones cuando se retrasa tu vuelo\n",
      "\n",
      "Llegas al aeropuerto y tu vuelo va con retraso, ¿conoces cuáles son tus derechos y si puedes pedir reclamar una compensación? Desde AirHelp te ayudamos con los trámites para que tu viaje no se convierta en una pesadilla y puedas conocer todos los casos en los que puedes hacer una reclamación y el plazo para realizar los reclamos. ¡Te ayudaremos a reclamar tu indemnización por si tu vuelo se retrasa!\n",
      "\n",
      "Desplazarse en avión es para muchas person...\n",
      "idx: 0, j: 2\n",
      "------------------------------\n",
      "point.id='a25e57b8-a961-47ab-bc6c-fc20067ef63a'\n",
      "point.score=31.027894973754883\n",
      "Doc: 5 páginas donde poder reclamar tus vuelos por retraso o cancelación de manera gratuita\n",
      "Irina Pérez\n",
      "\n",
      "    En muchas ocasiones no se realiza la reclamación de un vuelo por retraso o cancelación, porque se desconocen los derechos como pasajeros y la manera de realizar el trámite. \n",
      "    Por ello, aquí van 5 reclamadores online que te ayudarán a conseguir una indemnización por tu vuelo, sin que tengas que desplazarte ni hacer papeleos.\n",
      "    Descubre más historias en Business Insider España.\n",
      "\n",
      "Volar es si...\n",
      "idx: 0, j: 1\n",
      "------------------------------\n",
      "point.id='15042dcd-7bdd-4210-b210-1f01ce535d9f'\n",
      "point.score=30.961042404174805\n",
      "Doc: Indemnización retraso vuelo\n",
      "\n",
      "Navegación por el Retraso en el vuelo\n",
      "\n",
      "    La indemnización por retraso de vuelo y los derechos en breve\n",
      "    ¿Tu vuelo se ha retrasado? Condiciones de indemnización\n",
      "    Indemnización por retraso de vuelo: Derechos de los pasajeros de la UE\n",
      "    Indemnización por retraso de vuelo: Paquete y viaje de negocios\n",
      "    Retraso del vuelo: Cómo reclamar una indemnización\n",
      "    Estado de los vuelos: Estadísticas de la UE sobre retrasos\n",
      "\n",
      "Indemnizaciones y derechos en caso de retras...\n",
      "idx: 0, j: 3\n",
      "------------------------------\n"
     ]
    }
   ],
   "source": [
    "_q_text = df_docs.iloc[0:1]['question']\n",
    "\n",
    "_q_encoded = next(encoder.embed(_q_text))\n",
    "\n",
    "\n",
    "\n",
    "_q_vec = models.SparseVector(\n",
    "    indices=_q_encoded.indices,\n",
    "    values=_q_encoded.values\n",
    "    )\n",
    "\n",
    "print(f\"Question: {_q_text}\")\n",
    "embeddings.check_query_qdrant(\n",
    "        client_qdrant,\n",
    "        INDEX,\n",
    "        _q_vec,\n",
    "        retrieve_k=3,\n",
    "        using='sparse'  # passed by *args, **kwargs to query_points()\n",
    ")\n",
    "\n"
   ]
  },
  {
   "cell_type": "code",
   "execution_count": null,
   "id": "e51b0d32",
   "metadata": {},
   "outputs": [],
   "source": []
  }
 ],
 "metadata": {
  "kernelspec": {
   "display_name": ".venv",
   "language": "python",
   "name": "python3"
  },
  "language_info": {
   "codemirror_mode": {
    "name": "ipython",
    "version": 3
   },
   "file_extension": ".py",
   "mimetype": "text/x-python",
   "name": "python",
   "nbconvert_exporter": "python",
   "pygments_lexer": "ipython3",
   "version": "3.11.9"
  }
 },
 "nbformat": 4,
 "nbformat_minor": 5
}
