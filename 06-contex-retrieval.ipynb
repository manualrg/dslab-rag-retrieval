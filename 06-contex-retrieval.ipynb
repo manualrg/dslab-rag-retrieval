{
 "cells": [
  {
   "cell_type": "markdown",
   "id": "fa52ce7e",
   "metadata": {},
   "source": [
    "# Contextual Retrieval\n",
    "\n",
    "Based on Anthropic blog:\n",
    "\n",
    "[Introducing Contextual Retrieval](https://www.anthropic.com/news/contextual-retrieval)\n",
    "\n",
    "And [anthropic-cookbook](anthropic-cookbook)\n",
    "\n"
   ]
  },
  {
   "cell_type": "code",
   "execution_count": 1,
   "id": "d80ab1d5",
   "metadata": {},
   "outputs": [],
   "source": [
    "%load_ext autoreload\n",
    "%autoreload 2"
   ]
  },
  {
   "cell_type": "code",
   "execution_count": 2,
   "id": "8c0e5386",
   "metadata": {},
   "outputs": [],
   "source": [
    "import os\n",
    "from dotenv import load_dotenv\n",
    "from openai import OpenAI\n"
   ]
  },
  {
   "cell_type": "markdown",
   "id": "4590f8ea",
   "metadata": {},
   "source": [
    "# Params"
   ]
  },
  {
   "cell_type": "code",
   "execution_count": 3,
   "id": "15f1961f",
   "metadata": {},
   "outputs": [],
   "source": [
    "LLM = \"gpt-4.1-mini-2025-04-14\"  # 1M token context, better than gpt-4o in structured output\n",
    "EMB_MODEL = \"text-embedding-3-small\""
   ]
  },
  {
   "cell_type": "markdown",
   "id": "d2ab6fd2",
   "metadata": {},
   "source": [
    "# Environment variables"
   ]
  },
  {
   "cell_type": "code",
   "execution_count": 4,
   "id": "10841bd9",
   "metadata": {},
   "outputs": [],
   "source": [
    "load_dotenv()\n",
    "\n",
    "OPENAI_API_KEY = os.environ['OPENAI_API_KEY']\n"
   ]
  },
  {
   "cell_type": "markdown",
   "id": "07654116",
   "metadata": {},
   "source": [
    "# Clients"
   ]
  },
  {
   "cell_type": "code",
   "execution_count": 5,
   "id": "a3ec27d1",
   "metadata": {},
   "outputs": [],
   "source": [
    "client_openai = OpenAI(\n",
    "    api_key=OPENAI_API_KEY\n",
    ")"
   ]
  },
  {
   "cell_type": "markdown",
   "id": "64054a22",
   "metadata": {},
   "source": [
    "# Example Chunks\n",
    "\n",
    "![The problem of lost context](https://jina-ai-gmbh.ghost.io/content/images/2024/08/image-3.png)\n",
    "[source: Late Chunking in Long-Context Embedding Models](https://jina.ai/news/late-chunking-in-long-context-embedding-models/)"
   ]
  },
  {
   "cell_type": "code",
   "execution_count": 6,
   "id": "e367728f",
   "metadata": {},
   "outputs": [],
   "source": [
    "lst_chunks = [\n",
    "\"Berlin is the capital and largest city of Germany, both by area and by population.\",\n",
    "\"Its more than 3.85 million inhabitants make it the European Union's most populous city, as measured by population within city limits.\",\n",
    "\"The city is also one of the states of Germany, and is the third smallest state in the country in terms of area.\"\n",
    "]\n",
    "\n",
    "full_text = \"\\n\".join(lst_chunks)\n"
   ]
  },
  {
   "cell_type": "markdown",
   "id": "2c20b071",
   "metadata": {},
   "source": [
    "# Get Chunk Contexts"
   ]
  },
  {
   "cell_type": "code",
   "execution_count": 7,
   "id": "441feadc",
   "metadata": {},
   "outputs": [],
   "source": [
    "CHUNK_CONTEXT_PROMPT = \"\"\"\n",
    "   This is the document where the chunk comes from:\n",
    "    <document>\n",
    "    {doc_content}\n",
    "    </document>\n",
    "\n",
    "    Here is the chunk we want to situate within the whole document\n",
    "    <chunk>\n",
    "    {chunk_content}\n",
    "    </chunk>\n",
    "\n",
    "    Please give a short succinct context to situate this chunk within the overall document for the purposes of improving search retrieval of the chunk.\n",
    "    \"\"\"\n",
    "\n",
    "SYSTEM_PROMPT = \"Your task is provide a proper and succint context for a given `chunk` with the point of view of the whole `document`.\\\n",
    "             That context should ADD information to the `chunk` for the `documment` for better understanding the `chunk`\\\n",
    "             Do not rewrite the chunk, just generate a very succint context\\\n",
    "             Follow this example:\\\n",
    "             <document>\\\n",
    "             Paris is the capital and most populous city of France.\\\n",
    "             It is situated along the Seine River in the north-central part of the country.\\\n",
    "             The city has a population of over 2.1 million residents within its administrative limits, making it one of Europe's major population centers.\\\n",
    "             </document>\\\n",
    "             <chunk>\\\n",
    "             It is situated along the Seine River in the north-central part of the country.\\\n",
    "             </chunk>\\\n",
    "             Answer: The mentioned city is Paris, which is the capital of France\\\n",
    "             \"\n",
    "\n",
    "lst_responses = []\n",
    "\n",
    "for chunk in lst_chunks:\n",
    "    response = client_openai.responses.create(\n",
    "        model=LLM,\n",
    "        input=[\n",
    "            {\n",
    "                \"role\": \"system\",\n",
    "                \"content\": SYSTEM_PROMPT\n",
    "            },\n",
    "            {\n",
    "                \"role\": \"user\",\n",
    "                \"content\": CHUNK_CONTEXT_PROMPT.format(\n",
    "                    doc_content=full_text,\n",
    "                    chunk_content=chunk\n",
    "                ),\n",
    "            },\n",
    "        ]\n",
    "    )\n",
    "\n",
    "    lst_responses.append(response)"
   ]
  },
  {
   "cell_type": "code",
   "execution_count": 8,
   "id": "1b85bbcc",
   "metadata": {},
   "outputs": [
    {
     "name": "stdout",
     "output_type": "stream",
     "text": [
      "i=0\n",
      "Chunk context: response.output_text=\"The chunk introduces Berlin's political and demographic significance, which is further detailed in the document by its population size, status as an EU city, and its unique position as both a city and a small German state.\"\n",
      "raw_chunk='Berlin is the capital and largest city of Germany, both by area and by population.'\n",
      "i=1\n",
      "Chunk context: response.output_text=\"The subject of the population figure is Berlin, which is not only Germany's capital but also its largest city by area and population.\"\n",
      "raw_chunk=\"Its more than 3.85 million inhabitants make it the European Union's most populous city, as measured by population within city limits.\"\n",
      "i=2\n",
      "Chunk context: response.output_text=\"The city referred to is Berlin, which is Germany's capital and largest city by both population and area.\"\n",
      "raw_chunk='The city is also one of the states of Germany, and is the third smallest state in the country in terms of area.'\n"
     ]
    }
   ],
   "source": [
    "for i, (raw_chunk, response) in enumerate(zip(lst_chunks,lst_responses)):\n",
    "    print(f\"{i=}\")\n",
    "    print(f\"Chunk context: {response.output_text=}\")\n",
    "    print(f\"{raw_chunk=}\")\n",
    "\n"
   ]
  },
  {
   "cell_type": "markdown",
   "id": "488423ef",
   "metadata": {},
   "source": [
    "# Embbed context + chunk"
   ]
  },
  {
   "cell_type": "code",
   "execution_count": 9,
   "id": "02d275a5",
   "metadata": {},
   "outputs": [],
   "source": [
    "lst_corpus = []\n",
    "\n",
    "for i, (raw_chunk, response) in enumerate(zip(lst_chunks,lst_responses)):\n",
    "    text = f\"<<<Context: {response.output_text}>>>\" + \"\\n\\n\" + raw_chunk\n",
    "    lst_corpus.append(text)"
   ]
  },
  {
   "cell_type": "code",
   "execution_count": 10,
   "id": "7e22327b",
   "metadata": {},
   "outputs": [],
   "source": [
    "response_raw = client_openai.embeddings.create(\n",
    "    input=lst_chunks,\n",
    "    model=EMB_MODEL\n",
    ")\n",
    "\n",
    "response_ctxt = client_openai.embeddings.create(\n",
    "    input=lst_corpus,\n",
    "    model=EMB_MODEL\n",
    ")"
   ]
  },
  {
   "cell_type": "markdown",
   "id": "cd1d71c3",
   "metadata": {},
   "source": [
    "# Visualize the embeddings\n",
    "\n",
    "* Contextualization includes some meaninfull terms that in same cases ENABLE the dense search\n",
    "* However, the context maybe redundant, which makes the embeddings be closer to each other (as a similar piece of text has been artificially added)\n",
    "* It is a good practice to visualize the raw and contextualized embeddings and check this effect\n",
    "* This will allow us to craft a more refined contextualizing prompt"
   ]
  },
  {
   "cell_type": "code",
   "execution_count": null,
   "id": "6a62b06a",
   "metadata": {},
   "outputs": [
    {
     "name": "stderr",
     "output_type": "stream",
     "text": [
      "c:\\Users\\manua\\Documents\\repos\\dslabs\\dslab-rag-retrieval\\.venv\\Lib\\site-packages\\tqdm\\auto.py:21: TqdmWarning: IProgress not found. Please update jupyter and ipywidgets. See https://ipywidgets.readthedocs.io/en/stable/user_install.html\n",
      "  from .autonotebook import tqdm as notebook_tqdm\n",
      "c:\\Users\\manua\\Documents\\repos\\dslabs\\dslab-rag-retrieval\\.venv\\Lib\\site-packages\\umap\\umap_.py:1952: UserWarning: n_jobs value 1 overridden to 1 by setting random_state. Use no seed for parallelism.\n",
      "  warn(\n",
      "c:\\Users\\manua\\Documents\\repos\\dslabs\\dslab-rag-retrieval\\.venv\\Lib\\site-packages\\umap\\umap_.py:2462: UserWarning: n_neighbors is larger than the dataset size; truncating to X.shape[0] - 1\n",
      "  warn(\n"
     ]
    }
   ],
   "source": [
    "import numpy as np\n",
    "import umap\n",
    "import matplotlib.pyplot as plt\n",
    "\n",
    "\n",
    "viz_embeddings = np.array([emb.embedding for emb in response_raw.data + response_ctxt.data], dtype=\"float32\")  # 1536 d\n",
    "\n",
    "reducer = umap.UMAP(random_state=123)\n",
    "embeddings_2d = reducer.fit_transform(viz_embeddings) # 2 d\n",
    "\n"
   ]
  },
  {
   "cell_type": "code",
   "execution_count": 12,
   "id": "6d650ba8",
   "metadata": {},
   "outputs": [
    {
     "data": {
      "image/png": "[encoded data removed]",
      "text/plain": [
       "<Figure size 800x600 with 1 Axes>"
      ]
     },
     "metadata": {},
     "output_type": "display_data"
    }
   ],
   "source": [
    "plt.figure(figsize=(8,6))\n",
    "plt.scatter(embeddings_2d[:,0], embeddings_2d[:,1], c=['b', 'b', 'b', 'r', 'r', 'r'], s=50)\n",
    "\n",
    "# Legend workaround\n",
    "plt.scatter([], [], c='b', label='raw')\n",
    "plt.scatter([], [], c='r', label='ctxt')\n",
    "plt.legend(title=\"Embeddings\")\n",
    "\n",
    "plt.title(\"2D UMAP projection of text embeddings\")\n",
    "plt.show()"
   ]
  },
  {
   "cell_type": "markdown",
   "id": "ab55d932",
   "metadata": {},
   "source": [
    "# Quick check with FAISS\n",
    "\n",
    "Is the lost context problem solved?"
   ]
  },
  {
   "cell_type": "code",
   "execution_count": 13,
   "id": "6146743d",
   "metadata": {},
   "outputs": [
    {
     "data": {
      "text/plain": [
       "array([[0, 1, 2]], dtype=int64)"
      ]
     },
     "execution_count": 13,
     "metadata": {},
     "output_type": "execute_result"
    }
   ],
   "source": [
    "import faiss\n",
    "\n",
    "\n",
    "dim = len(viz_embeddings[0])\n",
    "index_raw = faiss.IndexFlatL2(dim)\n",
    "index_raw.add(\n",
    "    np.array([x.embedding for x in response_raw.data], dtype=\"float32\")\n",
    "    )\n",
    "\n",
    "_q = \"Which is the population of Berlin\"\n",
    "_q_vec = client_openai.embeddings.create(\n",
    "    model=EMB_MODEL,\n",
    "    input=_q\n",
    ").data[0].embedding\n",
    "\n",
    "distances, indices = index_raw.search(\n",
    "    np.array([_q_vec], dtype=\"float32\"),  # 2d array\n",
    "    k=3\n",
    ")\n",
    "\n",
    "indices"
   ]
  },
  {
   "cell_type": "code",
   "execution_count": 14,
   "id": "0ce1daf9",
   "metadata": {},
   "outputs": [
    {
     "data": {
      "text/plain": [
       "'Berlin is the capital and largest city of Germany, both by area and by population.'"
      ]
     },
     "execution_count": 14,
     "metadata": {},
     "output_type": "execute_result"
    }
   ],
   "source": [
    "lst_chunks[indices[0][0]]"
   ]
  },
  {
   "cell_type": "code",
   "execution_count": 15,
   "id": "156c3061",
   "metadata": {},
   "outputs": [
    {
     "data": {
      "text/plain": [
       "array([[1, 0, 2]], dtype=int64)"
      ]
     },
     "execution_count": 15,
     "metadata": {},
     "output_type": "execute_result"
    }
   ],
   "source": [
    "index_ctxt = faiss.IndexFlatL2(dim)\n",
    "index_ctxt.add(\n",
    "    np.array([x.embedding for x in response_ctxt.data], dtype=\"float32\")\n",
    "    )\n",
    "\n",
    "_q = \"Which is the population of Berlin\"\n",
    "_q_vec = client_openai.embeddings.create(\n",
    "    model=EMB_MODEL,\n",
    "    input=_q\n",
    ").data[0].embedding\n",
    "\n",
    "distances, indices = index_ctxt.search(\n",
    "    np.array([_q_vec], dtype=\"float32\"),  \n",
    "    k=3\n",
    ")\n",
    "\n",
    "indices"
   ]
  },
  {
   "cell_type": "code",
   "execution_count": 16,
   "id": "f232344a",
   "metadata": {},
   "outputs": [
    {
     "data": {
      "text/plain": [
       "\"Its more than 3.85 million inhabitants make it the European Union's most populous city, as measured by population within city limits.\""
      ]
     },
     "execution_count": 16,
     "metadata": {},
     "output_type": "execute_result"
    }
   ],
   "source": [
    "lst_chunks[indices[0][0]]"
   ]
  },
  {
   "cell_type": "markdown",
   "id": "097bd2a8",
   "metadata": {},
   "source": [
    "# Prompt Caching\n",
    "\n",
    "* Minimun of 1024 tokens\n",
    "* Incremental caching of +128 tokens\n",
    "* In general, a prompt is cached during 5-10 min\n",
    "![OpenAI implicit caching](https://openaidevs.retool.com/api/file/8593d9bb-4edb-4eb6-bed9-62bfb98db5ee)"
   ]
  },
  {
   "cell_type": "code",
   "execution_count": 17,
   "id": "8f849b97",
   "metadata": {},
   "outputs": [
    {
     "data": {
      "text/plain": [
       "347"
      ]
     },
     "execution_count": 17,
     "metadata": {},
     "output_type": "execute_result"
    }
   ],
   "source": [
    "lst_responses[0].usage.input_tokens"
   ]
  },
  {
   "cell_type": "code",
   "execution_count": 18,
   "id": "5b14ba59",
   "metadata": {},
   "outputs": [
    {
     "data": {
      "text/plain": [
       "InputTokensDetails(cached_tokens=0)"
      ]
     },
     "execution_count": 18,
     "metadata": {},
     "output_type": "execute_result"
    }
   ],
   "source": [
    "lst_responses[0].usage.input_tokens_details"
   ]
  },
  {
   "cell_type": "code",
   "execution_count": 19,
   "id": "aa4eafe2",
   "metadata": {},
   "outputs": [
    {
     "data": {
      "text/plain": [
       "InputTokensDetails(cached_tokens=0)"
      ]
     },
     "execution_count": 19,
     "metadata": {},
     "output_type": "execute_result"
    }
   ],
   "source": [
    "lst_responses[1].usage.input_tokens_details"
   ]
  },
  {
   "cell_type": "code",
   "execution_count": 20,
   "id": "abdb0620",
   "metadata": {},
   "outputs": [
    {
     "data": {
      "text/plain": [
       "InputTokensDetails(cached_tokens=0)"
      ]
     },
     "execution_count": 20,
     "metadata": {},
     "output_type": "execute_result"
    }
   ],
   "source": [
    "lst_responses[2].usage.input_tokens_details"
   ]
  },
  {
   "cell_type": "code",
   "execution_count": null,
   "id": "805a1197",
   "metadata": {},
   "outputs": [],
   "source": []
  }
 ],
 "metadata": {
  "kernelspec": {
   "display_name": ".venv",
   "language": "python",
   "name": "python3"
  },
  "language_info": {
   "codemirror_mode": {
    "name": "ipython",
    "version": 3
   },
   "file_extension": ".py",
   "mimetype": "text/x-python",
   "name": "python",
   "nbconvert_exporter": "python",
   "pygments_lexer": "ipython3",
   "version": "3.11.9"
  }
 },
 "nbformat": 4,
 "nbformat_minor": 5
}
