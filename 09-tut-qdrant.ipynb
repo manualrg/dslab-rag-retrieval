{
 "cells": [
  {
   "cell_type": "markdown",
   "id": "cf06defd",
   "metadata": {},
   "source": [
    "# Qdrant tutorial\n",
    "\n",
    "* Written in Rust\n",
    "* xAI\n",
    "* [Benchmark](https://qdrant.tech/benchmarks/)\n",
    "\n",
    "![HNSW](https://qdrant.tech/docs/gettingstarted/vector-search.png)"
   ]
  },
  {
   "cell_type": "code",
   "execution_count": 2,
   "id": "57d7e6a3",
   "metadata": {},
   "outputs": [],
   "source": [
    "%load_ext autoreload\n",
    "%autoreload 2"
   ]
  },
  {
   "cell_type": "code",
   "execution_count": 3,
   "id": "a409e1fd",
   "metadata": {},
   "outputs": [
    {
     "name": "stderr",
     "output_type": "stream",
     "text": [
      "c:\\Users\\manua\\Documents\\repos\\dslabs\\dslab-rag-retrieval\\.venv\\Lib\\site-packages\\tqdm\\auto.py:21: TqdmWarning: IProgress not found. Please update jupyter and ipywidgets. See https://ipywidgets.readthedocs.io/en/stable/user_install.html\n",
      "  from .autonotebook import tqdm as notebook_tqdm\n"
     ]
    }
   ],
   "source": [
    "import uuid\n",
    "from qdrant_client import models, QdrantClient\n"
   ]
  },
  {
   "cell_type": "code",
   "execution_count": 4,
   "id": "da733532",
   "metadata": {},
   "outputs": [],
   "source": [
    "client_qdrant = QdrantClient(\":memory:\") # QdrantClient(\"http://localhost:6333\")\n"
   ]
  },
  {
   "cell_type": "code",
   "execution_count": 27,
   "id": "a2a6d20d",
   "metadata": {},
   "outputs": [
    {
     "name": "stderr",
     "output_type": "stream",
     "text": [
      "C:\\Users\\manua\\AppData\\Local\\Temp\\ipykernel_19116\\952019761.py:1: UserWarning: Failed to obtain server version. Unable to check client-server compatibility. Set check_compatibility=False to skip version check.\n",
      "  client_qdrant_remote = QdrantClient(\"https://e0634f57-b3c9-4193-8355-cf7e48c8e247.europe-west3-0.gcp.cloud.qdrant.io\")\n"
     ]
    }
   ],
   "source": [
    "client_qdrant_remote = QdrantClient(\"https://e0634f57-b3c9-4193-8355-cf7e48c8e247.europe-west3-0.gcp.cloud.qdrant.io\")"
   ]
  },
  {
   "cell_type": "markdown",
   "id": "429ec45a",
   "metadata": {},
   "source": [
    "# Manage collections"
   ]
  },
  {
   "cell_type": "code",
   "execution_count": 5,
   "id": "1b825144",
   "metadata": {},
   "outputs": [
    {
     "data": {
      "text/plain": [
       "CollectionsResponse(collections=[])"
      ]
     },
     "execution_count": 5,
     "metadata": {},
     "output_type": "execute_result"
    }
   ],
   "source": [
    "client_qdrant.get_collections()"
   ]
  },
  {
   "cell_type": "code",
   "execution_count": 6,
   "id": "92ca909c",
   "metadata": {},
   "outputs": [],
   "source": [
    "if not client_qdrant.collection_exists(\"documents\"):\n",
    "    client_qdrant.create_collection(\n",
    "        collection_name=\"documents\",\n",
    "        vectors_config={\"size\": 3, \"distance\": \"Cosine\"},\n",
    "    )\n",
    "else:\n",
    "    print(\"Already created!\")\n",
    "\n",
    "# client_qdrant.delete_collection(\"documents\")"
   ]
  },
  {
   "cell_type": "markdown",
   "id": "e1e9c37d",
   "metadata": {},
   "source": [
    "# Index"
   ]
  },
  {
   "cell_type": "markdown",
   "id": "d123c3b0",
   "metadata": {},
   "source": [
    "```python\n",
    "{\n",
    "    \"id\": 129,\n",
    "    \"vector\": [0.1, 0.2, 0.3, 0.4],\n",
    "    \"payload\": {\"color\": \"red\"},\n",
    "}\n",
    "```"
   ]
  },
  {
   "cell_type": "code",
   "execution_count": 29,
   "id": "7f0d0990",
   "metadata": {},
   "outputs": [
    {
     "data": {
      "text/plain": [
       "'192c7be7-7f5b-4c34-a83d-c7db0da8666c'"
      ]
     },
     "execution_count": 29,
     "metadata": {},
     "output_type": "execute_result"
    }
   ],
   "source": [
    "str(uuid.uuid4())"
   ]
  },
  {
   "cell_type": "code",
   "execution_count": null,
   "id": "39cfe021",
   "metadata": {},
   "outputs": [],
   "source": [
    "list_vects = [\n",
    "    models.PointStruct(\n",
    "        id=str(uuid.uuid4()),  # uuid aleatorio\n",
    "        payload={\"color\": \"red\"},\n",
    "        vector=[0.2, 0.1, 0.7],\n",
    "    ),\n",
    "    models.PointStruct(\n",
    "        id=str(uuid.uuid4()),  \n",
    "        payload={\"color\": \"blue\"},\n",
    "        vector=[0.5, 0.4, 0.1],\n",
    "    ),\n",
    "    models.PointStruct(\n",
    "        id=str(uuid.uuid4()), \n",
    "        payload={\"color\": \"green\"},\n",
    "        vector=[0.3, 0.3, 0.4],\n",
    "    )\n",
    "    \n",
    "]\n",
    "  "
   ]
  },
  {
   "cell_type": "code",
   "execution_count": 8,
   "id": "7406d91b",
   "metadata": {},
   "outputs": [
    {
     "data": {
      "text/plain": [
       "UpdateResult(operation_id=0, status=<UpdateStatus.COMPLETED: 'completed'>)"
      ]
     },
     "execution_count": 8,
     "metadata": {},
     "output_type": "execute_result"
    }
   ],
   "source": [
    "client_qdrant.upsert(\n",
    "    collection_name=\"documents\",\n",
    "    points=list_vects\n",
    ")"
   ]
  },
  {
   "cell_type": "markdown",
   "id": "d12f780a",
   "metadata": {},
   "source": [
    "# Distance"
   ]
  },
  {
   "cell_type": "code",
   "execution_count": 9,
   "id": "cbecb3ab",
   "metadata": {},
   "outputs": [
    {
     "data": {
      "text/plain": [
       "0.7071067811865476"
      ]
     },
     "execution_count": 9,
     "metadata": {},
     "output_type": "execute_result"
    }
   ],
   "source": [
    "import numpy as np\n",
    "\n",
    "# Example vector\n",
    "v = [0.3, 0.4, 0.5]\n",
    "\n",
    "# Compute L2 norm\n",
    "norm = np.linalg.norm(v)\n",
    "norm"
   ]
  },
  {
   "cell_type": "code",
   "execution_count": 10,
   "id": "16f95494",
   "metadata": {},
   "outputs": [
    {
     "data": {
      "text/plain": [
       "0.9864876556434156"
      ]
     },
     "execution_count": 10,
     "metadata": {},
     "output_type": "execute_result"
    }
   ],
   "source": [
    "u = [0.2, 0.3, 0.5]\n",
    "\n",
    "dist_cosine = np.dot(v, u) / (np.linalg.norm(v) * np.linalg.norm(u))\n",
    "dist_cosine"
   ]
  },
  {
   "cell_type": "code",
   "execution_count": 11,
   "id": "2b5e99db",
   "metadata": {},
   "outputs": [],
   "source": [
    "from  scipy.spatial import distance\n",
    "# https://docs.scipy.org/doc/scipy/reference/generated/scipy.spatial.distance.cosine.html\n",
    "# 1-cosine distance"
   ]
  },
  {
   "cell_type": "markdown",
   "id": "885932fd",
   "metadata": {},
   "source": [
    "Dot product: Less computation, but requires vectors to be norm 1\n"
   ]
  },
  {
   "cell_type": "code",
   "execution_count": 30,
   "id": "f17085b6",
   "metadata": {},
   "outputs": [
    {
     "name": "stdout",
     "output_type": "stream",
     "text": [
      "distance.euclidean(v1, v2)=171.47302994931886\n",
      "distance.euclidean(v1, v3)=2.0\n"
     ]
    }
   ],
   "source": [
    "products = [\"eggs\", \"flour\", \"sugar\", \"vodka\", \"redbull\"]\n",
    "v1 = np.array([1, 1, 1, 0, 0])\n",
    "v2 = np.array([100, 100, 100, 0, 0])\n",
    "v3 = np.array([1, 0, 0, 1, 1])\n",
    "\n",
    "print(f\"{distance.euclidean(v1, v2)=}\")\n",
    "print(f\"{distance.euclidean(v1, v3)=}\")"
   ]
  },
  {
   "cell_type": "code",
   "execution_count": 31,
   "id": "c7b391f0",
   "metadata": {},
   "outputs": [
    {
     "name": "stdout",
     "output_type": "stream",
     "text": [
      "distance.cosine(v1, v2)=0.0\n",
      "distance.cosine(v1, v3)=0.6666666666666667\n"
     ]
    }
   ],
   "source": [
    "print(f\"{distance.cosine(v1, v2)=}\")\n",
    "print(f\"{distance.cosine(v1, v3)=}\")"
   ]
  },
  {
   "cell_type": "code",
   "execution_count": 26,
   "id": "a5ea96b8",
   "metadata": {},
   "outputs": [
    {
     "name": "stdout",
     "output_type": "stream",
     "text": [
      "dist_dot_product=0.7071067811865476\n",
      "dist_cosine=0.7071067811865476\n"
     ]
    }
   ],
   "source": [
    "u = [1, 0]  # 0 degrees\n",
    "v = [np.sqrt(2)/2, np.sqrt(2)/2]  # 45 degrees\n",
    "dist_dot_product = np.dot(v, u)\n",
    "dist_cosine = 1 - distance.cosine(v, u)\n",
    "print(f\"{dist_dot_product=}\")\n",
    "print(f\"{dist_cosine=}\")\n"
   ]
  },
  {
   "cell_type": "markdown",
   "id": "67a24de6",
   "metadata": {},
   "source": [
    "# Query"
   ]
  },
  {
   "cell_type": "code",
   "execution_count": 15,
   "id": "4e0f59a4",
   "metadata": {},
   "outputs": [
    {
     "name": "stdout",
     "output_type": "stream",
     "text": [
      "b14af5a8-df8a-4fc9-88fb-91a669025edd  (score: 0.9304842663481315 )\n",
      "5df1402c-f110-45a2-b092-f440cc6c2e5e  (score: 0.8273403416227896 )\n",
      "b00aadfd-47d4-47ef-ac08-d3553ff19f5e  (score: 0.5744269788079648 )\n"
     ]
    }
   ],
   "source": [
    "query = [0.6, 0.2, 0.2]\n",
    "\n",
    "results = client_qdrant.query_points(\n",
    "    collection_name=\"documents\",\n",
    "    query=query,\n",
    "    limit=10\n",
    ")\n",
    "\n",
    "for point in results.points:\n",
    "    print(point.id, \" (score:\", point.score, \")\")"
   ]
  },
  {
   "cell_type": "markdown",
   "id": "c741d111",
   "metadata": {},
   "source": [
    "# Metadata Filtering\n",
    "\n",
    "https://qdrant.tech/documentation/concepts/filtering/#should"
   ]
  },
  {
   "cell_type": "code",
   "execution_count": 16,
   "id": "5bfb05e4",
   "metadata": {},
   "outputs": [
    {
     "data": {
      "text/plain": [
       "([Record(id='b14af5a8-df8a-4fc9-88fb-91a669025edd', payload={'color': 'blue'}, vector=None, shard_key=None, order_value=None)],\n",
       " None)"
      ]
     },
     "execution_count": 16,
     "metadata": {},
     "output_type": "execute_result"
    }
   ],
   "source": [
    "client_qdrant.scroll(\n",
    "    collection_name=\"documents\",\n",
    "    scroll_filter=models.Filter(\n",
    "        must=[\n",
    "            models.FieldCondition(\n",
    "                key=\"color\",\n",
    "                match=models.MatchValue(value=\"blue\"),\n",
    "            ),\n",
    "        ]\n",
    "    ),\n",
    ")"
   ]
  },
  {
   "cell_type": "code",
   "execution_count": 17,
   "id": "180ec3b0",
   "metadata": {},
   "outputs": [
    {
     "data": {
      "text/plain": [
       "([Record(id='5df1402c-f110-45a2-b092-f440cc6c2e5e', payload={'color': 'green'}, vector=None, shard_key=None, order_value=None),\n",
       "  Record(id='b14af5a8-df8a-4fc9-88fb-91a669025edd', payload={'color': 'blue'}, vector=None, shard_key=None, order_value=None)],\n",
       " None)"
      ]
     },
     "execution_count": 17,
     "metadata": {},
     "output_type": "execute_result"
    }
   ],
   "source": [
    "client_qdrant.scroll(\n",
    "    collection_name=\"documents\",\n",
    "    scroll_filter=models.Filter(\n",
    "        must=[\n",
    "            models.FieldCondition(\n",
    "                key=\"color\",\n",
    "                match=models.MatchAny(any=[\"blue\", \"green\"]),\n",
    "            ),\n",
    "        ]\n",
    "    ),\n",
    ")"
   ]
  },
  {
   "cell_type": "code",
   "execution_count": 18,
   "id": "3ebedfa3",
   "metadata": {},
   "outputs": [
    {
     "data": {
      "text/plain": [
       "([Record(id='5df1402c-f110-45a2-b092-f440cc6c2e5e', payload={'color': 'green'}, vector=None, shard_key=None, order_value=None),\n",
       "  Record(id='b14af5a8-df8a-4fc9-88fb-91a669025edd', payload={'color': 'blue'}, vector=None, shard_key=None, order_value=None)],\n",
       " None)"
      ]
     },
     "execution_count": 18,
     "metadata": {},
     "output_type": "execute_result"
    }
   ],
   "source": [
    "client_qdrant.scroll(\n",
    "    collection_name=\"documents\",\n",
    "    scroll_filter=models.Filter(\n",
    "        must=[\n",
    "            models.FieldCondition(\n",
    "            key=\"color\",\n",
    "            match=models.MatchExcept(**{\"except\": [\"red\"]}))\n",
    "        ]\n",
    "    ),\n",
    ")"
   ]
  },
  {
   "cell_type": "markdown",
   "id": "a33fa415",
   "metadata": {},
   "source": [
    "References:\n",
    "* [How Does Vector Search Work in Qdrant?](https://qdrant.tech/documentation/overview/vector-search/)\n",
    "* [Build Your First Semantic Search Engine in 5 Minutes](https://qdrant.tech/documentation/beginner-tutorials/search-beginners/)\n",
    "* [Question Answering as a Service with Cohere and Qdrant](https://qdrant.tech/articles/qa-with-cohere-and-qdrant/)"
   ]
  },
  {
   "cell_type": "markdown",
   "id": "c319e789",
   "metadata": {},
   "source": []
  }
 ],
 "metadata": {
  "kernelspec": {
   "display_name": ".venv",
   "language": "python",
   "name": "python3"
  },
  "language_info": {
   "codemirror_mode": {
    "name": "ipython",
    "version": 3
   },
   "file_extension": ".py",
   "mimetype": "text/x-python",
   "name": "python",
   "nbconvert_exporter": "python",
   "pygments_lexer": "ipython3",
   "version": "3.11.9"
  }
 },
 "nbformat": 4,
 "nbformat_minor": 5
}
