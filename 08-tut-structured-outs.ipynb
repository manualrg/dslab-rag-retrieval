{
 "cells": [
  {
   "cell_type": "markdown",
   "id": "66885593",
   "metadata": {},
   "source": [
    "# Structured Outputs\n",
    "\n",
    "The Augmented LLM\n",
    "\n",
    "![Augmented LLM](https://www.anthropic.com/_next/image?url=https%3A%2F%2Fwww-cdn.anthropic.com%2Fimages%2F4zrzovbb%2Fwebsite%2Fd3083d3f40bb2b6f477901cc9a240738d3dd1371-2401x1000.png&w=3840&q=75)\n",
    "\n",
    "\n",
    "Structured Output: Obtain an answer to as a string, but as json format  \n",
    "Usually, pydantic library is used  \n"
   ]
  },
  {
   "cell_type": "code",
   "execution_count": 1,
   "id": "aca1d8d5",
   "metadata": {},
   "outputs": [],
   "source": [
    "%load_ext autoreload\n",
    "%autoreload 2"
   ]
  },
  {
   "cell_type": "code",
   "execution_count": 2,
   "id": "bef90edc",
   "metadata": {},
   "outputs": [
    {
     "name": "stderr",
     "output_type": "stream",
     "text": [
      "c:\\Users\\manuelalberto.romero\\Documents\\repos\\dslabs\\dslab-rag-retrieval\\.venv\\lib\\site-packages\\tqdm\\auto.py:21: TqdmWarning: IProgress not found. Please update jupyter and ipywidgets. See https://ipywidgets.readthedocs.io/en/stable/user_install.html\n",
      "  from .autonotebook import tqdm as notebook_tqdm\n"
     ]
    }
   ],
   "source": [
    "import os\n",
    "from dotenv import load_dotenv\n",
    "from openai import OpenAI\n",
    "from mistralai import Mistral\n",
    "from qdrant_client import QdrantClient"
   ]
  },
  {
   "cell_type": "code",
   "execution_count": 3,
   "id": "2434de6e",
   "metadata": {},
   "outputs": [],
   "source": [
    "data= \"\"\"\n",
    "A LA ATT. DE SEGUROS PELAYO:\n",
    "EN DON BENITO, A 08 MARZO 2014\n",
    "\n",
    "YO, CARMEN ESPAÑOLA ESPAÑOLA,\n",
    "CON DNI 99999999R, QUIERO DARME\n",
    "DE BAJA DEL SEGURO DE COCHE QUE\n",
    "TENGO CON USTEDES POR LA VENTA DEL\n",
    "MISMO.\n",
    "\n",
    "EL NÚMERO DE PÓLIZA ES 0000h2024038\n",
    "Y SE CORRESPONDE CON UN OPEL CORSA 1.2L\n",
    "CON MATRÍCULA 5473 BXM\n",
    "\n",
    "[signature]\n",
    "\n",
    "Dta. CARMEN ESPAÑOLA\n",
    "ESPAÑOLA\n",
    "\"\"\"\n"
   ]
  },
  {
   "cell_type": "markdown",
   "id": "167bc12d",
   "metadata": {},
   "source": [
    "# Base example with pydantic"
   ]
  },
  {
   "cell_type": "code",
   "execution_count": null,
   "id": "d7e2d2c3",
   "metadata": {},
   "outputs": [],
   "source": [
    "from openai import OpenAI\n",
    "from pydantic import BaseModel, Field\n",
    "from typing import Optional\n",
    "\n",
    "\n",
    "\n",
    "client = OpenAI()\n",
    "\n",
    "class DatosPoliza(BaseModel):\n",
    "    fecha: Optional[str] = Field(description=\"Si existe, la fecha a la que se firma la solicitud\")\n",
    "    dni:  Optional[str] = Field(description=\"Si existe, el DNI o número de pasarporte del solicitante\")\n",
    "    nro_poliza:  Optional[str]  = Field(description=\"Si existe, el número de póliza sobre el que el solicitante desea realizar una acción\")\n",
    "    marca_model:  Optional[str] = Field(description=\"Si aparece, la marca y/o el modelo del vehículo asociado a la póliza\")\n",
    "    matricula:  Optional[str] = Field(description=\"Si aparece, la matrícula vehículo asociado a la póliza\")\n",
    "\n",
    "\n",
    "\n",
    "response = client.responses.parse(\n",
    "    model=\"gpt-4.1-2025-04-14\",\n",
    "    input=[\n",
    "        {\n",
    "            \"role\": \"system\",\n",
    "            \"content\": \"Eres un analista que se dedica al cribado de solicitudes de seguros\\\n",
    "                Tu misión es leer detenidamente el correo de un asegurado y extraer información clave\",\n",
    "        },\n",
    "        {\n",
    "            \"role\": \"user\",\n",
    "            \"content\": f\"Correo de solicitud: {data}\"\n",
    "        },\n",
    "    ],\n",
    "    text_format=DatosPoliza,\n",
    ")\n",
    "\n",
    "data_extracted = response.output_parsed"
   ]
  },
  {
   "cell_type": "code",
   "execution_count": 15,
   "id": "2b297e79",
   "metadata": {},
   "outputs": [
    {
     "data": {
      "text/plain": [
       "ParsedResponse[DatosPoliza](id='resp_68c1a87eb6148193a21cc306a1a789e901849df0f957c36d', created_at=1757522046.0, error=None, incomplete_details=None, instructions=None, metadata={}, model='gpt-4.1-2025-04-14', object='response', output=[ParsedResponseOutputMessage[DatosPoliza](id='msg_68c1a87fd8a88193bd5c03ae5f7158d901849df0f957c36d', content=[ParsedResponseOutputText[DatosPoliza](annotations=[], text='{\"fecha\":\"08 marzo 2014\",\"dni\":\"99999999R\",\"accion\":\"BAJA\",\"nro_poliza\":\"0000h2024038\",\"marca_model\":\"OPEL CORSA 1.2L\",\"matricula\":\"5473 BXM\"}', type='output_text', logprobs=[], parsed=DatosPoliza(fecha='08 marzo 2014', dni='99999999R', accion='BAJA', nro_poliza='0000h2024038', marca_model='OPEL CORSA 1.2L', matricula='5473 BXM'))], role='assistant', status='completed', type='message')], parallel_tool_calls=True, temperature=1.0, tool_choice='auto', tools=[], top_p=1.0, background=False, conversation=None, max_output_tokens=None, max_tool_calls=None, previous_response_id=None, prompt=None, prompt_cache_key=None, reasoning=Reasoning(effort=None, generate_summary=None, summary=None), safety_identifier=None, service_tier='default', status='completed', text=ResponseTextConfig(format=ResponseFormatTextJSONSchemaConfig(name='DatosPoliza', schema_={'properties': {'fecha': {'anyOf': [{'type': 'string'}, {'type': 'null'}], 'description': 'Si existe, la fecha a la que se firma la solicitud', 'title': 'Fecha'}, 'dni': {'anyOf': [{'type': 'string'}, {'type': 'null'}], 'description': 'Si existe, el DNI o número de pasarporte del solicitante', 'title': 'Dni'}, 'accion': {'anyOf': [{'type': 'string'}, {'type': 'null'}], 'description': 'Si se expresa claramente, la acción que se solicita. Debe ser: `BAJA`, `REVISION`, `ANULACION`', 'title': 'Accion'}, 'nro_poliza': {'anyOf': [{'type': 'string'}, {'type': 'null'}], 'description': 'Si existe, el número de póliza sobre el que el solicitante desea realizar una acción', 'title': 'Nro Poliza'}, 'marca_model': {'anyOf': [{'type': 'string'}, {'type': 'null'}], 'description': 'Si aparece, la marca y/o el modelo del vehículo asociado a la póliza', 'title': 'Marca Model'}, 'matricula': {'anyOf': [{'type': 'string'}, {'type': 'null'}], 'description': 'Si aparece, la matrícula vehículo asociado a la póliza', 'title': 'Matricula'}}, 'required': ['fecha', 'dni', 'accion', 'nro_poliza', 'marca_model', 'matricula'], 'title': 'DatosPoliza', 'type': 'object', 'additionalProperties': False}, type='json_schema', description=None, strict=True), verbosity='medium'), top_logprobs=0, truncation='disabled', usage=ResponseUsage(input_tokens=517, input_tokens_details=InputTokensDetails(cached_tokens=0), output_tokens=55, output_tokens_details=OutputTokensDetails(reasoning_tokens=0), total_tokens=572), user=None, store=True)"
      ]
     },
     "execution_count": 15,
     "metadata": {},
     "output_type": "execute_result"
    }
   ],
   "source": [
    "response"
   ]
  },
  {
   "cell_type": "code",
   "execution_count": 14,
   "id": "cc0bd7a7",
   "metadata": {},
   "outputs": [
    {
     "data": {
      "text/plain": [
       "DatosPoliza(fecha='08 marzo 2014', dni='99999999R', accion='BAJA', nro_poliza='0000h2024038', marca_model='OPEL CORSA 1.2L', matricula='5473 BXM')"
      ]
     },
     "execution_count": 14,
     "metadata": {},
     "output_type": "execute_result"
    }
   ],
   "source": [
    "data_extracted\n",
    "\n"
   ]
  },
  {
   "cell_type": "markdown",
   "id": "fe9fe4a3",
   "metadata": {},
   "source": [
    "# Add a predefined set of values"
   ]
  },
  {
   "cell_type": "code",
   "execution_count": 16,
   "id": "5fc6813d",
   "metadata": {},
   "outputs": [
    {
     "data": {
      "text/plain": [
       "DatosPoliza(fecha='08 marzo 2014', dni='99999999R', accion=<AccionesPoliza.BAJA: 'BAJA'>, nro_poliza='0000h2024038', marca_model='OPEL CORSA 1.2L', matricula='5473 BXM')"
      ]
     },
     "execution_count": 16,
     "metadata": {},
     "output_type": "execute_result"
    }
   ],
   "source": [
    "from enum import Enum\n",
    "\n",
    "class AccionesPoliza(str, Enum):\n",
    "    BAJA = \"BAJA\"\n",
    "    REVISION = \"REVISION\"\n",
    "    ANULACION = \"ANULACION\"\n",
    "    \n",
    "    \n",
    "class DatosPoliza(BaseModel):\n",
    "    fecha: Optional[str] = Field(description=\"Si existe, la fecha a la que se firma la solicitud\")\n",
    "    dni:  Optional[str] = Field(description=\"Si existe, el DNI o número de pasarporte del solicitante\")\n",
    "    accion:  Optional[AccionesPoliza] = Field(description=\"Si se expresa claramente, la acción que se solicita.\")\n",
    "    nro_poliza:  Optional[str]  = Field(description=\"Si existe, el número de póliza sobre el que el solicitante desea realizar una acción\")\n",
    "    marca_model:  Optional[str] = Field(description=\"Si aparece, la marca y/o el modelo del vehículo asociado a la póliza\")\n",
    "    matricula:  Optional[str] = Field(description=\"Si aparece, la matrícula vehículo asociado a la póliza\")\n",
    "\n",
    "\n",
    "\n",
    "response = client.responses.parse(\n",
    "    model=\"gpt-4.1-2025-04-14\",\n",
    "    input=[\n",
    "        {\n",
    "            \"role\": \"system\",\n",
    "            \"content\": \"Eres un analista que se dedica al cribado de solicitudes de seguros\\\n",
    "                Tu misión es leer detenidamente el correo de un asegurado y extraer información clave\",\n",
    "        },\n",
    "        {\n",
    "            \"role\": \"user\",\n",
    "            \"content\": f\"Correo de solicitud: {data}\"\n",
    "        },\n",
    "    ],\n",
    "    text_format=DatosPoliza,\n",
    ")\n",
    "\n",
    "data_extracted = response.output_parsed\n",
    "\n",
    "data_extracted"
   ]
  },
  {
   "cell_type": "code",
   "execution_count": null,
   "id": "1eb3b1d7",
   "metadata": {},
   "outputs": [
    {
     "ename": "AttributeError",
     "evalue": "'Order' object has no attribute 'accion'",
     "output_type": "error",
     "traceback": [
      "\u001b[1;31m---------------------------------------------------------------------------\u001b[0m",
      "\u001b[1;31mAttributeError\u001b[0m                            Traceback (most recent call last)",
      "Cell \u001b[1;32mIn[20], line 1\u001b[0m\n\u001b[1;32m----> 1\u001b[0m \u001b[43mdata_extracted\u001b[49m\u001b[38;5;241;43m.\u001b[39;49m\u001b[43maccion\u001b[49m\n",
      "File \u001b[1;32mc:\\Users\\manuelalberto.romero\\Documents\\repos\\dslabs\\dslab-rag-retrieval\\.venv\\lib\\site-packages\\pydantic\\main.py:991\u001b[0m, in \u001b[0;36mBaseModel.__getattr__\u001b[1;34m(self, item)\u001b[0m\n\u001b[0;32m    988\u001b[0m     \u001b[38;5;28;01mreturn\u001b[39;00m \u001b[38;5;28msuper\u001b[39m()\u001b[38;5;241m.\u001b[39m\u001b[38;5;21m__getattribute__\u001b[39m(item)  \u001b[38;5;66;03m# Raises AttributeError if appropriate\u001b[39;00m\n\u001b[0;32m    989\u001b[0m \u001b[38;5;28;01melse\u001b[39;00m:\n\u001b[0;32m    990\u001b[0m     \u001b[38;5;66;03m# this is the current error\u001b[39;00m\n\u001b[1;32m--> 991\u001b[0m     \u001b[38;5;28;01mraise\u001b[39;00m \u001b[38;5;167;01mAttributeError\u001b[39;00m(\u001b[38;5;124mf\u001b[39m\u001b[38;5;124m'\u001b[39m\u001b[38;5;132;01m{\u001b[39;00m\u001b[38;5;28mtype\u001b[39m(\u001b[38;5;28mself\u001b[39m)\u001b[38;5;241m.\u001b[39m\u001b[38;5;18m__name__\u001b[39m\u001b[38;5;132;01m!r}\u001b[39;00m\u001b[38;5;124m object has no attribute \u001b[39m\u001b[38;5;132;01m{\u001b[39;00mitem\u001b[38;5;132;01m!r}\u001b[39;00m\u001b[38;5;124m'\u001b[39m)\n",
      "\u001b[1;31mAttributeError\u001b[0m: 'Order' object has no attribute 'accion'"
     ]
    }
   ],
   "source": [
    "data_extracted.accion.value"
   ]
  },
  {
   "cell_type": "markdown",
   "id": "a3f05a7f",
   "metadata": {},
   "source": [
    "# Nesting"
   ]
  },
  {
   "cell_type": "code",
   "execution_count": 19,
   "id": "0944d647",
   "metadata": {},
   "outputs": [
    {
     "data": {
      "text/plain": [
       "Order(order_number='12345', items=[Product(name='t-shirt', quantity=2, unit_price=25.0), Product(name='hoodie', quantity=1, unit_price=50.0)], customer_name='Jane Doe', total_cost=100.0)"
      ]
     },
     "execution_count": 19,
     "metadata": {},
     "output_type": "execute_result"
    }
   ],
   "source": [
    "from pydantic import BaseModel, PositiveInt, Field\n",
    "from typing import List\n",
    "\n",
    "class Product(BaseModel):\n",
    "    name: str\n",
    "    quantity: PositiveInt = Field(description=\"The number of units of this product.\")\n",
    "    unit_price: float = Field(description=\"The price per unit of the product.\")\n",
    "\n",
    "class Order(BaseModel):\n",
    "    order_number: str\n",
    "    items: List[Product]\n",
    "    customer_name: str\n",
    "    total_cost: float\n",
    "\n",
    "order_text = \"Order #12345. I purchased two t-shirts at $25 each, and one hoodie for $50. The total came to $100. My name is Jane Doe.\"\n",
    "\n",
    "\n",
    "response = client.responses.parse(\n",
    "    model=\"gpt-4.1-2025-04-14\",\n",
    "    input=[\n",
    "        {\n",
    "            \"role\": \"system\",\n",
    "            \"content\": \"You analize orders recipients. Your task is to extract key information accuratelly\"\n",
    "        },\n",
    "        {\n",
    "            \"role\": \"user\",\n",
    "            \"content\": f\"{order_text}\"\n",
    "        },\n",
    "    ],\n",
    "    text_format=Order,\n",
    ")\n",
    "\n",
    "data_extracted = response.output_parsed\n",
    "\n",
    "data_extracted"
   ]
  },
  {
   "cell_type": "markdown",
   "id": "53ea1938",
   "metadata": {},
   "source": [
    "# Other tools\n",
    "\n",
    "[LangExtract](https://github.com/google/langextract) released by Google in July 30th, is a open source project for large scale, model agnostic (but Gemini first) and example guided information extraction"
   ]
  },
  {
   "cell_type": "markdown",
   "id": "54071449",
   "metadata": {},
   "source": []
  }
 ],
 "metadata": {
  "kernelspec": {
   "display_name": ".venv",
   "language": "python",
   "name": "python3"
  },
  "language_info": {
   "codemirror_mode": {
    "name": "ipython",
    "version": 3
   },
   "file_extension": ".py",
   "mimetype": "text/x-python",
   "name": "python",
   "nbconvert_exporter": "python",
   "pygments_lexer": "ipython3",
   "version": "3.10.9"
  }
 },
 "nbformat": 4,
 "nbformat_minor": 5
}
