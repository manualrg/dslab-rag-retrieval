{
 "cells": [
  {
   "cell_type": "markdown",
   "id": "d676b947",
   "metadata": {},
   "source": [
    "# Dense Embeddings with Open Source Models"
   ]
  },
  {
   "cell_type": "code",
   "execution_count": 1,
   "id": "d80ab1d5",
   "metadata": {},
   "outputs": [],
   "source": [
    "%load_ext autoreload\n",
    "%autoreload 2"
   ]
  },
  {
   "cell_type": "code",
   "execution_count": 2,
   "id": "8c0e5386",
   "metadata": {},
   "outputs": [
    {
     "name": "stderr",
     "output_type": "stream",
     "text": [
      "c:\\Users\\manua\\Documents\\repos\\dslabs\\dslab-rag-retrieval\\.venv\\Lib\\site-packages\\tqdm\\auto.py:21: TqdmWarning: IProgress not found. Please update jupyter and ipywidgets. See https://ipywidgets.readthedocs.io/en/stable/user_install.html\n",
      "  from .autonotebook import tqdm as notebook_tqdm\n"
     ]
    }
   ],
   "source": [
    "import uuid\n",
    "import pandas as pd\n",
    "from datasets import load_dataset\n",
    "from fastembed import TextEmbedding\n",
    "from qdrant_client import models, QdrantClient\n",
    "import tiktoken\n",
    "\n",
    "from src import utils\n"
   ]
  },
  {
   "cell_type": "markdown",
   "id": "4590f8ea",
   "metadata": {},
   "source": [
    "# Params"
   ]
  },
  {
   "cell_type": "code",
   "execution_count": 3,
   "id": "15f1961f",
   "metadata": {},
   "outputs": [],
   "source": [
    "INDEX = \"ragquas-minilm-01\"\n",
    "MODEL_ID = \"BAAI/bge-small-en-v1.5\"\t\n",
    "RETRIEVE_K=5\n",
    "EVAL_K = 3"
   ]
  },
  {
   "cell_type": "code",
   "execution_count": 4,
   "id": "1caf1b2f",
   "metadata": {},
   "outputs": [],
   "source": [
    "encoding = tiktoken.get_encoding(\"cl100k_base\")\n",
    "encoding = tiktoken.encoding_for_model(\"gpt-4o\")"
   ]
  },
  {
   "cell_type": "markdown",
   "id": "64054a22",
   "metadata": {},
   "source": [
    "# Load Data"
   ]
  },
  {
   "cell_type": "code",
   "execution_count": 5,
   "id": "ee333951",
   "metadata": {},
   "outputs": [
    {
     "data": {
      "text/plain": [
       "DatasetDict({\n",
       "    test: Dataset({\n",
       "        features: ['topic', 'answer', 'question', 'variant', 'context_1', 'context_2', 'context_3', 'context_4', 'context_5', 'link_1', 'link_2', 'link_3', 'link_4', 'link_5', 'text_1', 'text_2', 'text_3', 'text_4', 'text_5'],\n",
       "        num_rows: 201\n",
       "    })\n",
       "})"
      ]
     },
     "execution_count": 5,
     "metadata": {},
     "output_type": "execute_result"
    }
   ],
   "source": [
    "ds_ragquas = load_dataset(\"IIC/RagQuAS\")\n",
    "ds_ragquas\n",
    "# https://huggingface.co/datasets/IIC/RagQuAS"
   ]
  },
  {
   "cell_type": "code",
   "execution_count": 6,
   "id": "722b9759",
   "metadata": {},
   "outputs": [
    {
     "data": {
      "text/html": [
       "<div>\n",
       "<style scoped>\n",
       "    .dataframe tbody tr th:only-of-type {\n",
       "        vertical-align: middle;\n",
       "    }\n",
       "\n",
       "    .dataframe tbody tr th {\n",
       "        vertical-align: top;\n",
       "    }\n",
       "\n",
       "    .dataframe thead th {\n",
       "        text-align: right;\n",
       "    }\n",
       "</style>\n",
       "<table border=\"1\" class=\"dataframe\">\n",
       "  <thead>\n",
       "    <tr style=\"text-align: right;\">\n",
       "      <th></th>\n",
       "      <th>topic</th>\n",
       "      <th>answer</th>\n",
       "      <th>question</th>\n",
       "      <th>variant</th>\n",
       "      <th>context_1</th>\n",
       "      <th>context_2</th>\n",
       "      <th>context_3</th>\n",
       "      <th>context_4</th>\n",
       "      <th>context_5</th>\n",
       "      <th>link_1</th>\n",
       "      <th>link_2</th>\n",
       "      <th>link_3</th>\n",
       "      <th>link_4</th>\n",
       "      <th>link_5</th>\n",
       "      <th>text_1</th>\n",
       "      <th>text_2</th>\n",
       "      <th>text_3</th>\n",
       "      <th>text_4</th>\n",
       "      <th>text_5</th>\n",
       "    </tr>\n",
       "  </thead>\n",
       "  <tbody>\n",
       "    <tr>\n",
       "      <th>0</th>\n",
       "      <td>reclamaciones</td>\n",
       "      <td>La opción más fácil y eficaz para reclamar una...</td>\n",
       "      <td>¿Cuál es la forma más fácil de reclamar cuando...</td>\n",
       "      <td>question_1</td>\n",
       "      <td>#1. Airhelp\\n\\nLa empresa Airhelp fue fundada ...</td>\n",
       "      <td>En AirHelp hemos ayudado a más de 16 millones ...</td>\n",
       "      <td>MYFLYRIGHT, expertos en derechos de los viajer...</td>\n",
       "      <td></td>\n",
       "      <td></td>\n",
       "      <td>https://www.businessinsider.es/mejores-paginas...</td>\n",
       "      <td>https://www.airhelp.com/es/retrasos-de-vuelos/</td>\n",
       "      <td>https://myflyright.com/es/servicios/vuelo-retr...</td>\n",
       "      <td></td>\n",
       "      <td></td>\n",
       "      <td>5 páginas donde poder reclamar tus vuelos por ...</td>\n",
       "      <td>Conoce las compensaciones cuando se retrasa tu...</td>\n",
       "      <td>Indemnización retraso vuelo\\n\\nNavegación por ...</td>\n",
       "      <td></td>\n",
       "      <td></td>\n",
       "    </tr>\n",
       "    <tr>\n",
       "      <th>1</th>\n",
       "      <td>reclamaciones</td>\n",
       "      <td>La opción más fácil y eficaz para reclamar una...</td>\n",
       "      <td>hola mi vuelo a Alemania se ha retrasado mucho...</td>\n",
       "      <td>question_2</td>\n",
       "      <td>#1. Airhelp\\n\\nLa empresa Airhelp fue fundada ...</td>\n",
       "      <td>En AirHelp hemos ayudado a más de 16 millones ...</td>\n",
       "      <td>MYFLYRIGHT, expertos en derechos de los viajer...</td>\n",
       "      <td></td>\n",
       "      <td></td>\n",
       "      <td>https://www.businessinsider.es/mejores-paginas...</td>\n",
       "      <td>https://www.airhelp.com/es/retrasos-de-vuelos/</td>\n",
       "      <td>https://myflyright.com/es/servicios/vuelo-retr...</td>\n",
       "      <td></td>\n",
       "      <td></td>\n",
       "      <td>5 páginas donde poder reclamar tus vuelos por ...</td>\n",
       "      <td>Conoce las compensaciones cuando se retrasa tu...</td>\n",
       "      <td>Indemnización retraso vuelo\\n\\nNavegación por ...</td>\n",
       "      <td></td>\n",
       "      <td></td>\n",
       "    </tr>\n",
       "  </tbody>\n",
       "</table>\n",
       "</div>"
      ],
      "text/plain": [
       "           topic                                             answer  \\\n",
       "0  reclamaciones  La opción más fácil y eficaz para reclamar una...   \n",
       "1  reclamaciones  La opción más fácil y eficaz para reclamar una...   \n",
       "\n",
       "                                            question     variant  \\\n",
       "0  ¿Cuál es la forma más fácil de reclamar cuando...  question_1   \n",
       "1  hola mi vuelo a Alemania se ha retrasado mucho...  question_2   \n",
       "\n",
       "                                           context_1  \\\n",
       "0  #1. Airhelp\\n\\nLa empresa Airhelp fue fundada ...   \n",
       "1  #1. Airhelp\\n\\nLa empresa Airhelp fue fundada ...   \n",
       "\n",
       "                                           context_2  \\\n",
       "0  En AirHelp hemos ayudado a más de 16 millones ...   \n",
       "1  En AirHelp hemos ayudado a más de 16 millones ...   \n",
       "\n",
       "                                           context_3 context_4 context_5  \\\n",
       "0  MYFLYRIGHT, expertos en derechos de los viajer...                       \n",
       "1  MYFLYRIGHT, expertos en derechos de los viajer...                       \n",
       "\n",
       "                                              link_1  \\\n",
       "0  https://www.businessinsider.es/mejores-paginas...   \n",
       "1  https://www.businessinsider.es/mejores-paginas...   \n",
       "\n",
       "                                           link_2  \\\n",
       "0  https://www.airhelp.com/es/retrasos-de-vuelos/   \n",
       "1  https://www.airhelp.com/es/retrasos-de-vuelos/   \n",
       "\n",
       "                                              link_3 link_4 link_5  \\\n",
       "0  https://myflyright.com/es/servicios/vuelo-retr...                 \n",
       "1  https://myflyright.com/es/servicios/vuelo-retr...                 \n",
       "\n",
       "                                              text_1  \\\n",
       "0  5 páginas donde poder reclamar tus vuelos por ...   \n",
       "1  5 páginas donde poder reclamar tus vuelos por ...   \n",
       "\n",
       "                                              text_2  \\\n",
       "0  Conoce las compensaciones cuando se retrasa tu...   \n",
       "1  Conoce las compensaciones cuando se retrasa tu...   \n",
       "\n",
       "                                              text_3 text_4 text_5  \n",
       "0  Indemnización retraso vuelo\\n\\nNavegación por ...                \n",
       "1  Indemnización retraso vuelo\\n\\nNavegación por ...                "
      ]
     },
     "execution_count": 6,
     "metadata": {},
     "output_type": "execute_result"
    }
   ],
   "source": [
    "ds_ragquas[\"test\"].take(2).to_pandas()"
   ]
  },
  {
   "cell_type": "markdown",
   "id": "fb1fe012",
   "metadata": {},
   "source": [
    "# Explore Data"
   ]
  },
  {
   "cell_type": "code",
   "execution_count": 7,
   "id": "994a2ac3",
   "metadata": {},
   "outputs": [],
   "source": [
    "df_ragquas = ds_ragquas[\"test\"].to_pandas()"
   ]
  },
  {
   "cell_type": "markdown",
   "id": "1a75436b",
   "metadata": {},
   "source": [
    "## Metadata"
   ]
  },
  {
   "cell_type": "code",
   "execution_count": 8,
   "id": "e2f5a621",
   "metadata": {},
   "outputs": [
    {
     "data": {
      "text/plain": [
       "<Axes: title={'center': 'Topic Frequency'}, ylabel='topic'>"
      ]
     },
     "execution_count": 8,
     "metadata": {},
     "output_type": "execute_result"
    },
    {
     "data": {
      "image/png": "[encoded data removed]",
      "text/plain": [
       "<Figure size 640x480 with 1 Axes>"
      ]
     },
     "metadata": {},
     "output_type": "display_data"
    }
   ],
   "source": [
    "df_ragquas[\"topic\"].value_counts().sort_values(ascending=True).plot.barh(\n",
    "    title=\"Topic Frequency\"\n",
    ")"
   ]
  },
  {
   "cell_type": "markdown",
   "id": "012b36bc",
   "metadata": {},
   "source": [
    "## Dataset Structure"
   ]
  },
  {
   "cell_type": "code",
   "execution_count": 33,
   "id": "449057b3",
   "metadata": {},
   "outputs": [
    {
     "data": {
      "text/plain": [
       "'La opción más fácil y eficaz para reclamar una indemnización por retraso de vuelo en Europa es utilizar los servicios de compañías especializadas en reclamaciones de derechos de pasajeros. Estas compañías ofrecen un proceso simplificado y asistencia profesional, eliminando la necesidad de que el pasajero se involucre en trámites complicados y negociaciones con las aerolíneas. Aquí te presento algunas opciones recomendadas:\\n\\n    AirHelp: Esta empresa ha ayudado a más de 16 millones de pasajeros y opera en 30 países. Ofrecen un proceso sencillo donde solo necesitas introducir los detalles de tu vuelo en su calculadora online para comprobar si tienes derecho a compensación. Si es así, gestionarán todo el proceso de reclamación, incluyendo negociaciones con las aerolíneas, y te enviarán la compensación directamente. Solo cobran una comisión si la reclamación es exitosa\\u200b\\u200b.\\n\\nReclamador: Es una página española con una interfaz intuitiva y fácil de usar. Solo necesitas introducir algunos datos de tu vuelo, y ellos se encargarán de todo el proceso de reclamación. Al igual que AirHelp, solo cobran una comisión si la reclamación resulta exitosa\\u200b.\\n\\nRefund.me: Esta empresa opera a nivel mundial y ofrece un proceso de reclamación eficiente y rápido a través de procesos automatizados. Aunque su trato puede ser menos personalizado, también solo cobran una comisión si la reclamación es exitosa\\u200b.\\n\\nFlightRight: Opera casi en todo el mundo y ofrece un trato personalizado. Calculan la indemnización para que tengas una idea de lo que te corresponde y envían el dinero de la indemnización de manera inmediata, aunque tienen una comisión más alta\\u200b.\\n\\nPopuletic: No solo se enfocan en vuelos retrasados o cancelados, sino también en problemas relacionados con overbooking, equipaje y otros aspectos del viaje\\u200b.\\n\\nMYFLYRIGHT: Ofrecen un servicio gratuito para comprobar si puedes reclamar una indemnización. Si decides utilizar su servicio, tramitarán tu reclamación sin riesgo financiero y solo aplicarán una comisión en caso de éxito. Además, ofrecen la opción de un pago inmediato con una comisión más alta\\u200b.\\n\\nEstas compañías te ahorran tiempo y esfuerzo al manejar todas las comunicaciones y negociaciones necesarias, aumentando las posibilidades de una resolución exitosa de tu reclamación.'"
      ]
     },
     "execution_count": 33,
     "metadata": {},
     "output_type": "execute_result"
    }
   ],
   "source": [
    "df_ragquas[\"answer\"].iloc[0]"
   ]
  },
  {
   "cell_type": "code",
   "execution_count": 9,
   "id": "8ef7eb59",
   "metadata": {},
   "outputs": [
    {
     "data": {
      "text/plain": [
       "5"
      ]
     },
     "execution_count": 9,
     "metadata": {},
     "output_type": "execute_result"
    }
   ],
   "source": [
    "ans_rep = df_ragquas[\"answer\"].value_counts()\n",
    "\n",
    "ans_rep.iloc[0]  # se repite N veces, que son diferenciadas por variant (y por question, que presenta pequeñas variaciones)"
   ]
  },
  {
   "cell_type": "code",
   "execution_count": 10,
   "id": "06ed8fcd",
   "metadata": {},
   "outputs": [
    {
     "data": {
      "text/plain": [
       "{2, 3, 4, 5}"
      ]
     },
     "execution_count": 10,
     "metadata": {},
     "output_type": "execute_result"
    }
   ],
   "source": [
    "set(ans_rep.values)  # posibilidades de repetición de una respuesta"
   ]
  },
  {
   "cell_type": "code",
   "execution_count": 11,
   "id": "eb9ff1ba",
   "metadata": {},
   "outputs": [
    {
     "data": {
      "text/plain": [
       "variant\n",
       "question_1    50\n",
       "question_2    50\n",
       "question_3    49\n",
       "question_4    41\n",
       "question_5    11\n",
       "Name: count, dtype: int64"
      ]
     },
     "execution_count": 11,
     "metadata": {},
     "output_type": "execute_result"
    }
   ],
   "source": [
    "df_variant_freq = df_ragquas[\"variant\"].value_counts()\n",
    "df_variant_freq\n"
   ]
  },
  {
   "cell_type": "code",
   "execution_count": 12,
   "id": "f9f1dcaa",
   "metadata": {},
   "outputs": [
    {
     "data": {
      "text/plain": [
       "context_1    0\n",
       "context_2    0\n",
       "context_3    0\n",
       "context_4    0\n",
       "context_5    0\n",
       "dtype: int64"
      ]
     },
     "execution_count": 12,
     "metadata": {},
     "output_type": "execute_result"
    }
   ],
   "source": [
    "df_ragquas[[\"context_1\", \"context_2\", \"context_3\", \"context_4\",\t\"context_5\"]].isna().sum()\n",
    "# NANs como string vacio"
   ]
  },
  {
   "cell_type": "code",
   "execution_count": 13,
   "id": "cef97a1f",
   "metadata": {},
   "outputs": [
    {
     "data": {
      "text/plain": [
       "count      5.0\n",
       "mean     201.0\n",
       "std        0.0\n",
       "min      201.0\n",
       "25%      201.0\n",
       "50%      201.0\n",
       "75%      201.0\n",
       "max      201.0\n",
       "dtype: float64"
      ]
     },
     "execution_count": 13,
     "metadata": {},
     "output_type": "execute_result"
    }
   ],
   "source": [
    "df_ragquas[[\"context_1\", \"context_2\", \"context_3\", \"context_4\",\t\"context_5\"]].apply(len).describe()\n",
    "# cada celda tiene espacios vacios a la derecha"
   ]
  },
  {
   "cell_type": "markdown",
   "id": "89e8a203",
   "metadata": {},
   "source": [
    "# Prepare Data"
   ]
  },
  {
   "cell_type": "code",
   "execution_count": 14,
   "id": "77c242b3",
   "metadata": {},
   "outputs": [
    {
     "name": "stdout",
     "output_type": "stream",
     "text": [
      "Raw shape: (250, 3)\n",
      "<class 'pandas.core.frame.DataFrame'>\n",
      "RangeIndex: 183 entries, 0 to 182\n",
      "Data columns (total 10 columns):\n",
      " #   Column    Non-Null Count  Dtype \n",
      "---  ------    --------------  ----- \n",
      " 0   index     183 non-null    int64 \n",
      " 1   topic     183 non-null    object\n",
      " 2   variant   183 non-null    object\n",
      " 3   question  183 non-null    object\n",
      " 4   answer    183 non-null    object\n",
      " 5   j         183 non-null    int64 \n",
      " 6   context_  183 non-null    object\n",
      " 7   text_     183 non-null    object\n",
      " 8   link_     183 non-null    object\n",
      " 9   uuid      183 non-null    object\n",
      "dtypes: int64(2), object(8)\n",
      "memory usage: 14.4+ KB\n"
     ]
    }
   ],
   "source": [
    "# Como las columnas text_ están a lo ancho,\n",
    "# hay que pivotarlas para colocaras a lo largo y codificar cada valor\n",
    "# pero antes, como hay respuestas que hacen referencia al mismo texto fuente\n",
    "# hay que quedarse solo con uno de los valores de variant\n",
    "\n",
    "df_docs = pd.wide_to_long(\n",
    "    (df_ragquas\n",
    "     .reset_index()  # crea columna index\n",
    "     .loc[df_ragquas['variant'] == \"question_1\"]\n",
    "     ),\n",
    "    stubnames=[\"context_\", \"text_\", \"link_\"],  # columas a pivotar, solo prefijo\n",
    "    i=[\"index\", \"topic\", \"variant\", \"question\", \"answer\"],  # index en el df resultante\n",
    "    j=\"j\",  # numerador de _1 a _5  (numero de sufijos),\n",
    "    suffix=\"\\d+\"  # forma del sufijo: numero\n",
    ")\n",
    "\n",
    "\n",
    "print(f\"Raw shape: {df_docs.shape}\")\n",
    "\n",
    "# Como hay text con \"\", hay que eliminarlos para no indexar algo vacio\n",
    "df_docs[\"text_\"] = (df_docs[\"text_\"]\n",
    "           .apply(str.rstrip)\n",
    "           .replace({\"\": pd.NA})\n",
    "           )\n",
    "\n",
    "df_docs = (df_docs\n",
    "           .dropna()\n",
    "           .reset_index()\n",
    "           )\n",
    "\n",
    "# agregar un id a cada text_ para poder hacer la evaluacion posteiormente\n",
    "df_docs['uuid'] = [str(uuid.uuid4()) for _ in range(len(df_docs))]\n",
    "\n",
    "\n",
    "df_docs.info()"
   ]
  },
  {
   "cell_type": "code",
   "execution_count": 15,
   "id": "e85143ff",
   "metadata": {},
   "outputs": [
    {
     "data": {
      "text/html": [
       "<div>\n",
       "<style scoped>\n",
       "    .dataframe tbody tr th:only-of-type {\n",
       "        vertical-align: middle;\n",
       "    }\n",
       "\n",
       "    .dataframe tbody tr th {\n",
       "        vertical-align: top;\n",
       "    }\n",
       "\n",
       "    .dataframe thead th {\n",
       "        text-align: right;\n",
       "    }\n",
       "</style>\n",
       "<table border=\"1\" class=\"dataframe\">\n",
       "  <thead>\n",
       "    <tr style=\"text-align: right;\">\n",
       "      <th></th>\n",
       "      <th>index</th>\n",
       "      <th>topic</th>\n",
       "      <th>variant</th>\n",
       "      <th>question</th>\n",
       "      <th>answer</th>\n",
       "      <th>j</th>\n",
       "      <th>context_</th>\n",
       "      <th>text_</th>\n",
       "      <th>link_</th>\n",
       "      <th>uuid</th>\n",
       "    </tr>\n",
       "  </thead>\n",
       "  <tbody>\n",
       "    <tr>\n",
       "      <th>0</th>\n",
       "      <td>0</td>\n",
       "      <td>reclamaciones</td>\n",
       "      <td>question_1</td>\n",
       "      <td>¿Cuál es la forma más fácil de reclamar cuando...</td>\n",
       "      <td>La opción más fácil y eficaz para reclamar una...</td>\n",
       "      <td>1</td>\n",
       "      <td>#1. Airhelp\\n\\nLa empresa Airhelp fue fundada ...</td>\n",
       "      <td>5 páginas donde poder reclamar tus vuelos por ...</td>\n",
       "      <td>https://www.businessinsider.es/mejores-paginas...</td>\n",
       "      <td>62f63fee-487d-42f9-9eac-4cad36da0443</td>\n",
       "    </tr>\n",
       "    <tr>\n",
       "      <th>1</th>\n",
       "      <td>0</td>\n",
       "      <td>reclamaciones</td>\n",
       "      <td>question_1</td>\n",
       "      <td>¿Cuál es la forma más fácil de reclamar cuando...</td>\n",
       "      <td>La opción más fácil y eficaz para reclamar una...</td>\n",
       "      <td>2</td>\n",
       "      <td>En AirHelp hemos ayudado a más de 16 millones ...</td>\n",
       "      <td>Conoce las compensaciones cuando se retrasa tu...</td>\n",
       "      <td>https://www.airhelp.com/es/retrasos-de-vuelos/</td>\n",
       "      <td>a0b3ea85-42a0-4bba-a3c9-bd4538affc08</td>\n",
       "    </tr>\n",
       "  </tbody>\n",
       "</table>\n",
       "</div>"
      ],
      "text/plain": [
       "   index          topic     variant  \\\n",
       "0      0  reclamaciones  question_1   \n",
       "1      0  reclamaciones  question_1   \n",
       "\n",
       "                                            question  \\\n",
       "0  ¿Cuál es la forma más fácil de reclamar cuando...   \n",
       "1  ¿Cuál es la forma más fácil de reclamar cuando...   \n",
       "\n",
       "                                              answer  j  \\\n",
       "0  La opción más fácil y eficaz para reclamar una...  1   \n",
       "1  La opción más fácil y eficaz para reclamar una...  2   \n",
       "\n",
       "                                            context_  \\\n",
       "0  #1. Airhelp\\n\\nLa empresa Airhelp fue fundada ...   \n",
       "1  En AirHelp hemos ayudado a más de 16 millones ...   \n",
       "\n",
       "                                               text_  \\\n",
       "0  5 páginas donde poder reclamar tus vuelos por ...   \n",
       "1  Conoce las compensaciones cuando se retrasa tu...   \n",
       "\n",
       "                                               link_  \\\n",
       "0  https://www.businessinsider.es/mejores-paginas...   \n",
       "1     https://www.airhelp.com/es/retrasos-de-vuelos/   \n",
       "\n",
       "                                   uuid  \n",
       "0  62f63fee-487d-42f9-9eac-4cad36da0443  \n",
       "1  a0b3ea85-42a0-4bba-a3c9-bd4538affc08  "
      ]
     },
     "execution_count": 15,
     "metadata": {},
     "output_type": "execute_result"
    }
   ],
   "source": [
    "df_docs.iloc[:2]"
   ]
  },
  {
   "cell_type": "markdown",
   "id": "2fd4ad63",
   "metadata": {},
   "source": [
    "## Document Length"
   ]
  },
  {
   "cell_type": "code",
   "execution_count": 32,
   "id": "e2ef4c5b",
   "metadata": {},
   "outputs": [
    {
     "data": {
      "text/plain": [
       "count     183.000000\n",
       "mean     1780.010929\n",
       "std      1455.906738\n",
       "min       149.000000\n",
       "25%       841.500000\n",
       "50%      1275.000000\n",
       "75%      2248.000000\n",
       "max      7347.000000\n",
       "dtype: float64"
      ]
     },
     "execution_count": 32,
     "metadata": {},
     "output_type": "execute_result"
    }
   ],
   "source": [
    "corpus_lens = utils.corpus_stats(encoding, df_docs['text_'])\n",
    "corpus_stats = corpus_lens.describe()\n",
    "corpus_stats"
   ]
  },
  {
   "cell_type": "markdown",
   "id": "ee8dc129",
   "metadata": {},
   "source": [
    "# Encode"
   ]
  },
  {
   "cell_type": "code",
   "execution_count": 17,
   "id": "6673c591",
   "metadata": {},
   "outputs": [
    {
     "name": "stdout",
     "output_type": "stream",
     "text": [
      "183\n",
      "384\n"
     ]
    }
   ],
   "source": [
    "encoder = TextEmbedding(MODEL_ID)\n",
    "\n",
    "lst_embeddings = list(encoder.embed(df_docs['text_'].tolist()))\n",
    "\n",
    "\n",
    "print(f\"{len(lst_embeddings)}\")\n",
    "print(f\"{len(lst_embeddings[0])}\")  # embeddings dimension"
   ]
  },
  {
   "cell_type": "markdown",
   "id": "956491e2",
   "metadata": {},
   "source": [
    "# Dense Search in Qdrant"
   ]
  },
  {
   "cell_type": "markdown",
   "id": "bdae6262",
   "metadata": {},
   "source": [
    "Qdrant acepta como entrada una estructura de datos denominada Point que tiene esta forma:\n",
    "\n",
    "```python\n",
    "{\n",
    "    \"id\": 129,\n",
    "    \"vector\": [0.1, 0.2, 0.3, 0.4],\n",
    "    \"payload\": {\"color\": \"red\"},\n",
    "}\n",
    "```\n",
    "\n",
    "[Points](https://qdrant.tech/documentation/concepts/points/)"
   ]
  },
  {
   "cell_type": "markdown",
   "id": "6eaa6c9d",
   "metadata": {},
   "source": [
    "# Index"
   ]
  },
  {
   "cell_type": "code",
   "execution_count": null,
   "id": "32042ef2",
   "metadata": {},
   "outputs": [],
   "source": [
    "lst_qdrant_pts = []\n",
    "\n",
    "for idx, row in df_docs.iterrows():\n",
    "    qdrant_point = models.PointStruct(\n",
    "        id=row['uuid'],  # uuid aleatorio\n",
    "        payload={\n",
    "            \"text\": row['text_'],\n",
    "            \"topic\": row['topic'],\n",
    "            \"answer_idx\": row['index'],  # index antes de filtrar las variant == question1\n",
    "            \"text_j\": row['j'],\n",
    "            \"idx\":  row['index'],  \n",
    "        },\n",
    "        vector=lst_embeddings[idx]  # se puede buscar directamente en la lista por indice del DF pivotado\n",
    "    )\n",
    "    lst_qdrant_pts.append(qdrant_point)\n",
    "\n",
    "    len(lst_qdrant_pts) == len(df_docs)  # comprobar"
   ]
  },
  {
   "cell_type": "code",
   "execution_count": 19,
   "id": "b42e6b3a",
   "metadata": {},
   "outputs": [
    {
     "data": {
      "text/plain": [
       "384"
      ]
     },
     "execution_count": 19,
     "metadata": {},
     "output_type": "execute_result"
    }
   ],
   "source": [
    "encoder.embedding_size"
   ]
  },
  {
   "cell_type": "code",
   "execution_count": 20,
   "id": "3d000d2f",
   "metadata": {},
   "outputs": [
    {
     "data": {
      "text/plain": [
       "UpdateResult(operation_id=0, status=<UpdateStatus.COMPLETED: 'completed'>)"
      ]
     },
     "execution_count": 20,
     "metadata": {},
     "output_type": "execute_result"
    }
   ],
   "source": [
    "# Instanciate client\n",
    "# Si está levantada localmente: QdrantClient(\"http://localhost:6333\")\n",
    "# SI se usa la versión cloud, introducir la url\n",
    "\n",
    "client = QdrantClient(\":memory:\")  # en memoria\n",
    "\n",
    "client.create_collection(\n",
    "    collection_name=INDEX,\n",
    "    vectors_config=models.VectorParams(\n",
    "        size=encoder.embedding_size,\n",
    "        distance=models.Distance.COSINE,\n",
    "    ),\n",
    ")\n",
    "\n",
    "client.upsert(\n",
    "    collection_name=INDEX,\n",
    "    points=lst_qdrant_pts\n",
    ")"
   ]
  },
  {
   "cell_type": "code",
   "execution_count": 21,
   "id": "ff34db87",
   "metadata": {},
   "outputs": [
    {
     "name": "stdout",
     "output_type": "stream",
     "text": [
      "_id='62f63fee-487d-42f9-9eac-4cad36da0443'\n"
     ]
    },
    {
     "data": {
      "text/plain": [
       "[Record(id='62f63fee-487d-42f9-9eac-4cad36da0443', payload={'text': '5 páginas donde poder reclamar tus vuelos por retraso o cancelación de manera gratuita\\nIrina Pérez\\n\\n    En muchas ocasiones no se realiza la reclamación de un vuelo por retraso o cancelación, porque se desconocen los derechos como pasajeros y la manera de realizar el trámite. \\n    Por ello, aquí van 5 reclamadores online que te ayudarán a conseguir una indemnización por tu vuelo, sin que tengas que desplazarte ni hacer papeleos.\\n    Descubre más historias en Business Insider España.\\n\\nVolar es siempre sinónimo de nervios, normalmente ir al aeropuerto con tiempo, las colas en facturación, o cualquier imprevisto, hacen que a veces viajar sea una odisea. En el peor de los casos tu vuelo puede sufrir retrasos e incluso cancelarse. Pero, ¿sabías que tienes derecho a una compensación económica cuando esto ocurre?\\n\\nEn muchas ocasiones reclamar, es algo que se deja pasar porque es tedioso, y requiere hacer papeleo, desplazamientos y temas burocráticos que ocupan mucho tiempo. Por eso, es necesario que conozcas las páginas web que harán todo esto por ti, y que solo se llevaran una comisión si consiguen la remuneración, si no lo consiguen, no tendrás que pagar nada.\\n#1. Airhelp\\n\\nLa empresa Airhelp fue fundada en 2013 y ha logrado posicionarse como uno de las mejores opciones para defender los derechos de los pasajeros. Tienen más de 6 años de experiencia y han ayudado a 16 millones de personas, operando en 30 países. Pueden conseguir una compensación de hasta 600 euros. \\n#2. Reclamador\\n\\nEs una página española creada por un pasajero cansado de que le pusieran trabas en realizar una reclamación. Por eso Pablo Rabanal pensó en cuantas personas estarían pasando por lo mismo y decidió emprender un nuevo proyecto para ayudarlas.\\n\\nReclamador se caracteriza por tener una interfaz intuitiva y sencilla así que te será muy fácil utilizarla. Tan sólo debes introducir ciertos datos del vuelo en el que has sufrido el inconveniente y ellos se encargarán de hacer el trabajo.\\n\\n\\nDe igual manera, solo se llevarán una comisión si ganan la reclamación. \\n#3. Refund.me\\n\\nEsta empresa de reclamaciones opera en todo el mundo. Mediante su equipo de profesionales Refund.me se encargan de estudiar cada caso en particular ejerciendo los reclamos necesarios y logrando un proceso eficaz y rápido a través de procesos automatizados. \\n\\nEn la página del Kit Viajero, tan solo ponen un inconveniente, no tienen un trato tan cercano, y se llevan una comisión un poco más alta que en otras páginas de reclamadores. \\n#4. FlightRight\\n\\nFlightright nació en 2010, con misma idea que los demás reclamadores, ayudar al usuario de una manera rápida y sencilla. Y lo consiguieron de una manera muy eficaz, operan en casi todo el mundo, y tiene un trato muy personalizado. Además calculan la indemnización para que puedas tener una idea de lo que te corresponde, y tienen un plus, te envían el dinero de manera inmediata. \\n\\nLa única pega, es que tiene la comisión más alta de los reclamadores de esta lista. \\n#5. Populetic\\n\\nEs un reclamador europeo, lo interesante de usar Populetic es que no solo se enfoca en vuelos retrasados o cancelados, sino que un equipo de profesionales abarcan todos los problemas relacionados con tu vuelo, overbooking e incluso temas relacionados con las maletas y el equipaje.\\n\\nAdemás en su página web puedes encontrar información relevante sobre derechos de pasajeros.', 'topic': 'reclamaciones', 'answer_idx': 0, 'text_j': 1, 'idx': 0}, vector=None, shard_key=None, order_value=None)]"
      ]
     },
     "execution_count": 21,
     "metadata": {},
     "output_type": "execute_result"
    }
   ],
   "source": [
    "# query by id\n",
    "_id = lst_qdrant_pts[0].id\n",
    "print(f\"{_id=}\")\n",
    "\n",
    "client.retrieve(\n",
    "    collection_name=INDEX,\n",
    "    ids=[_id]\n",
    ")\n",
    "\n"
   ]
  },
  {
   "cell_type": "markdown",
   "id": "3120e8ac",
   "metadata": {},
   "source": [
    "# Query"
   ]
  },
  {
   "cell_type": "code",
   "execution_count": 22,
   "id": "96493c49",
   "metadata": {},
   "outputs": [
    {
     "name": "stdout",
     "output_type": "stream",
     "text": [
      "Question: ¿Cuál es la forma más fácil de reclamar cuando un vuelo que sale de España se ha retrasado?\n",
      "point.id='a0b3ea85-42a0-4bba-a3c9-bd4538affc08'\n",
      "point.score=0.7931656929318717\n",
      "Doc: Conoce las compensaciones cuando se retrasa tu vuelo\n",
      "\n",
      "Llegas al aeropuerto y tu vuelo va con retraso, ¿conoces cuáles son tus derechos y si puedes pedir reclamar una compensación? Desde AirHelp te ayudamos con los trámites para que tu viaje no se convierta en una pesadilla y puedas conocer todos los casos en los que puedes hacer una reclamación y el plazo para realizar los reclamos. ¡Te ayudaremos a reclamar tu indemnización por si tu vuelo se retrasa!\n",
      "\n",
      "Desplazarse en avión es para muchas person...\n",
      "idx: 0, j: 2\n",
      "------------------------------\n",
      "point.id='62f63fee-487d-42f9-9eac-4cad36da0443'\n",
      "point.score=0.7765330793667684\n",
      "Doc: 5 páginas donde poder reclamar tus vuelos por retraso o cancelación de manera gratuita\n",
      "Irina Pérez\n",
      "\n",
      "    En muchas ocasiones no se realiza la reclamación de un vuelo por retraso o cancelación, porque se desconocen los derechos como pasajeros y la manera de realizar el trámite. \n",
      "    Por ello, aquí van 5 reclamadores online que te ayudarán a conseguir una indemnización por tu vuelo, sin que tengas que desplazarte ni hacer papeleos.\n",
      "    Descubre más historias en Business Insider España.\n",
      "\n",
      "Volar es si...\n",
      "idx: 0, j: 1\n",
      "------------------------------\n",
      "point.id='ddc1b35e-7f7e-4d13-8603-4d1214340ba4'\n",
      "point.score=0.7330383577499522\n",
      "Doc: Indemnización retraso vuelo\n",
      "\n",
      "Navegación por el Retraso en el vuelo\n",
      "\n",
      "    La indemnización por retraso de vuelo y los derechos en breve\n",
      "    ¿Tu vuelo se ha retrasado? Condiciones de indemnización\n",
      "    Indemnización por retraso de vuelo: Derechos de los pasajeros de la UE\n",
      "    Indemnización por retraso de vuelo: Paquete y viaje de negocios\n",
      "    Retraso del vuelo: Cómo reclamar una indemnización\n",
      "    Estado de los vuelos: Estadísticas de la UE sobre retrasos\n",
      "\n",
      "Indemnizaciones y derechos en caso de retras...\n",
      "idx: 0, j: 3\n",
      "------------------------------\n",
      "point.id='ded5cff2-fad5-4073-9e5c-4d4e088dc2b5'\n",
      "point.score=0.7298119638579409\n",
      "Doc: ¿Qué hacer con una hoja de reclamaciones después de solicitarla en la tienda?\n",
      "Óscar F. Civieta\n",
      "\n",
      "    En ocasiones, directamente, no se pide porque pensamos que no servirá de nada. En otras sí se reclama, pero luego no sabemos qué hacer con la hoja de reclamaciones.\n",
      "    Te explicamos, paso a paso, dónde y cómo has de presentar esta queja si no estás conforme con un producto o servicio recibido.\n",
      "    Descubre más historias en Business Insider España.\n",
      "\n",
      "\"No va a servir de nada, prefiero pasar del tema...\n",
      "idx: 149, j: 1\n",
      "------------------------------\n",
      "point.id='1a09f760-dde8-4805-9104-07a5f225dd57'\n",
      "point.score=0.7101298058970824\n",
      "Doc: Como rellenar una hoja de reclamaciones\n",
      "\n",
      "Las hojas de reclamaciones son impresos oficiales emitidos por las Comunidades Autónomas y estandarizados, que están obligados a tener a nuestra disposición por Ley, todas aquellas personas físicas o jurídicas que, en su caso, actúen en el marco de una actividad empresarial destinada a la comercialización de bienes o servicios para los usuarios o consumidores finales.\n",
      "Hojas de reclamaciones autocopiativas o documentos descargardos.\n",
      "\n",
      "Podemos encontrarnos q...\n",
      "idx: 149, j: 2\n",
      "------------------------------\n",
      "point.id='7ac134dd-0a4e-4103-b9e0-a779583df5f5'\n",
      "point.score=0.6883949017176332\n",
      "Doc: Cómo separar y sacar correctamente la basura en Japón\n",
      "Sociedad 26/12/2018\n",
      "\n",
      "En Japón se ha conseguido elevar considerablemente la tasa de reciclaje en materiales como el vidrio, las botellas de plástico PET y otros restos plásticos. Pero otros materiales, como los envoltorios de papel y los empaquetados, siguen desechándose, con lo que el volumen total de basura continúa siendo muy grande. Los métodos de clasificación varían de un municipio a otro y resulta difícil aclararse. Pero, al mismo tiemp...\n",
      "idx: 24, j: 1\n",
      "------------------------------\n",
      "point.id='c50f5c5a-58ee-4153-ae0b-525792fcc131'\n",
      "point.score=0.6717808490242223\n",
      "Doc: Recarga tu tarjeta online\n",
      "\n",
      "Y puedes recargar tu bono desde la página web. Sólo necesitas una tarjeta de crédito y saber el número de tu bono, que encontrarás en el reverso de la tarjeta.\n",
      "\n",
      "Pulsa el botón para acceder:\n",
      "Tarjeta\n",
      "\n",
      "Detalle de precios con descuento temporal\n",
      "Billete\n",
      "ordinario\n",
      "1,00 €\n",
      "Billete\n",
      "festivo\n",
      "1,00 €\n",
      "Billete\n",
      "AVE\n",
      "2,00 €\n",
      "Billete\n",
      "festivo AVE\n",
      "2,00 €\n",
      "Billete\n",
      "Búho\n",
      "1,00 €\n",
      "Bono\n",
      "ordinario\n",
      "0,30 €\n",
      "Bono\n",
      "AVE\n",
      "0,30 €\n",
      "Bono\n",
      "Subvencionado (*)\n",
      "0,14 €\n",
      "Bono\n",
      "Festivo (***)\n",
      "0,50 €\n",
      "Bono\n",
      "festivo AVE\n",
      "0,50 €\n",
      "...\n",
      "idx: 174, j: 2\n",
      "------------------------------\n",
      "point.id='5d0ae03b-9fef-433e-bbcd-a00c0d5e34b7'\n",
      "point.score=0.6663608325545203\n",
      "Doc: Reciclaje en Japón: normas y eficiencia\n",
      "\n",
      "Japón es conocido por su compromiso con el reciclaje y la protección del medio ambiente. El país ha implementado un sistema de reciclaje altamente eficiente que ha sido adoptado por la mayoría de la población. Este sistema se basa en estrictas normas y regulaciones que se aplican tanto en los hogares como en las calles.\n",
      "\n",
      "Temas de los que Hablaremos\n",
      "\n",
      "    Cómo funciona el reciclaje en Japón\n",
      "    El reciclaje en las casas y en las calles\n",
      "    Cuánto se recicla...\n",
      "idx: 24, j: 3\n",
      "------------------------------\n",
      "point.id='9f9fee35-9f02-4feb-8ca2-e3567d24816a'\n",
      "point.score=0.6663608325545203\n",
      "Doc: Reciclaje en Japón: normas y eficiencia\n",
      "\n",
      "Japón es conocido por su compromiso con el reciclaje y la protección del medio ambiente. El país ha implementado un sistema de reciclaje altamente eficiente que ha sido adoptado por la mayoría de la población. Este sistema se basa en estrictas normas y regulaciones que se aplican tanto en los hogares como en las calles.\n",
      "\n",
      "Temas de los que Hablaremos\n",
      "\n",
      "    Cómo funciona el reciclaje en Japón\n",
      "    El reciclaje en las casas y en las calles\n",
      "    Cuánto se recicla...\n",
      "idx: 24, j: 2\n",
      "------------------------------\n",
      "point.id='640318dd-7291-48c4-9f97-0ffe5a4e4ce6'\n",
      "point.score=0.6651635337964307\n",
      "Doc: Qué significa la expresión dar gato por liebre y de dónde viene\n",
      "\n",
      "    M. SÁNCHEZ \n",
      "\n",
      "Actualizado Viernes, 28 octubre 2022 - 10:39\n",
      "\n",
      "Esta una locución tan recurrente cuando hay un engaño de por medio se utiliza desde hace varios siglos, cuando surgió de tabernas de mala fama\n",
      "\n",
      "El español está repleto de frases, refranes y dichos relacionados con la comida y con los animales, incluso hay modismos que fusionan ambas temáticas. Es el caso de la expresión gato por liebre, una locución coloquial que emplea...\n",
      "idx: 101, j: 3\n",
      "------------------------------\n"
     ]
    }
   ],
   "source": [
    "# query by vector (retrieval)\n",
    "\n",
    "_q_text = df_docs.iloc[0][\"question\"]\n",
    "_q = next(encoder.embed(_q_text))\n",
    "\n",
    "resp = client.query_points(\n",
    "    collection_name=INDEX,\n",
    "    query=_q,\n",
    "    limit=10\n",
    ")\n",
    "\n",
    "\n",
    "print(f\"Question: {_q_text}\")\n",
    "for point in resp.points:\n",
    "    doc_retrieved = point.payload['text']\n",
    "    print(f\"{point.id=}\")\n",
    "    print(f\"{point.score=}\")\n",
    "    print(f\"Doc: {doc_retrieved[:500]}...\")\n",
    "    print(f\"idx: {point.payload['idx']}, j: {point.payload['text_j']}\")\n",
    "    print(\"-\"*30)"
   ]
  },
  {
   "cell_type": "code",
   "execution_count": 23,
   "id": "d41e8079",
   "metadata": {},
   "outputs": [
    {
     "data": {
      "text/plain": [
       "rank\n",
       "0    0.793166\n",
       "1    0.776533\n",
       "2    0.733038\n",
       "3    0.729812\n",
       "4    0.710130\n",
       "5    0.688395\n",
       "6    0.671781\n",
       "7    0.666361\n",
       "8    0.666361\n",
       "9    0.665164\n",
       "Name: scores, dtype: float64"
      ]
     },
     "execution_count": 23,
     "metadata": {},
     "output_type": "execute_result"
    }
   ],
   "source": [
    "# check retrieval scores\n",
    "\n",
    "se_scores = pd.Series(data=[point.score for point in resp.points])\n",
    "se_scores.index.name = \"rank\"\n",
    "se_scores.name = \"scores\"\n",
    "se_scores"
   ]
  },
  {
   "cell_type": "markdown",
   "id": "5aa14231",
   "metadata": {},
   "source": [
    "# Evaluation\n",
    "\n",
    "**Discounted Cumulative Gain**\n",
    "$$DCG@k = \\sum_{i=1}^{k} \\frac{2^{rel_i} - 1}{\\log_2(i+1)}$$\n",
    "\n",
    "**Ideal Discounted Cumulative Gain**\n",
    "\n",
    "$$IDCG@k = \\sum_{i=1}^{k} \\frac{2^{rel_i^\\ast} - 1}{\\log_2(i+1)}$$\n",
    "\n",
    "**Normalized DCG**\n",
    "$$NDCG@k = \\frac{DCG@k}{IDCG@k}$$\n",
    "\n",
    "[sklearn ndcg_score](https://scikit-learn.org/stable/modules/generated/sklearn.metrics.ndcg_score.html)"
   ]
  },
  {
   "cell_type": "markdown",
   "id": "cb5f0e77",
   "metadata": {},
   "source": [
    "## Get y_trues\n"
   ]
  },
  {
   "cell_type": "code",
   "execution_count": 24,
   "id": "59f4e384",
   "metadata": {},
   "outputs": [
    {
     "data": {
      "text/html": [
       "<div>\n",
       "<style scoped>\n",
       "    .dataframe tbody tr th:only-of-type {\n",
       "        vertical-align: middle;\n",
       "    }\n",
       "\n",
       "    .dataframe tbody tr th {\n",
       "        vertical-align: top;\n",
       "    }\n",
       "\n",
       "    .dataframe thead th {\n",
       "        text-align: right;\n",
       "    }\n",
       "</style>\n",
       "<table border=\"1\" class=\"dataframe\">\n",
       "  <thead>\n",
       "    <tr style=\"text-align: right;\">\n",
       "      <th></th>\n",
       "      <th>index</th>\n",
       "      <th>question</th>\n",
       "      <th>answer</th>\n",
       "      <th>y_true</th>\n",
       "      <th>text_</th>\n",
       "      <th>uuid</th>\n",
       "    </tr>\n",
       "  </thead>\n",
       "  <tbody>\n",
       "    <tr>\n",
       "      <th>0</th>\n",
       "      <td>0</td>\n",
       "      <td>¿Cuál es la forma más fácil de reclamar cuando...</td>\n",
       "      <td>La opción más fácil y eficaz para reclamar una...</td>\n",
       "      <td>1</td>\n",
       "      <td>5 páginas donde poder reclamar tus vuelos por ...</td>\n",
       "      <td>62f63fee-487d-42f9-9eac-4cad36da0443</td>\n",
       "    </tr>\n",
       "    <tr>\n",
       "      <th>1</th>\n",
       "      <td>0</td>\n",
       "      <td>¿Cuál es la forma más fácil de reclamar cuando...</td>\n",
       "      <td>La opción más fácil y eficaz para reclamar una...</td>\n",
       "      <td>2</td>\n",
       "      <td>Conoce las compensaciones cuando se retrasa tu...</td>\n",
       "      <td>a0b3ea85-42a0-4bba-a3c9-bd4538affc08</td>\n",
       "    </tr>\n",
       "    <tr>\n",
       "      <th>2</th>\n",
       "      <td>0</td>\n",
       "      <td>¿Cuál es la forma más fácil de reclamar cuando...</td>\n",
       "      <td>La opción más fácil y eficaz para reclamar una...</td>\n",
       "      <td>3</td>\n",
       "      <td>Indemnización retraso vuelo\\n\\nNavegación por ...</td>\n",
       "      <td>ddc1b35e-7f7e-4d13-8603-4d1214340ba4</td>\n",
       "    </tr>\n",
       "    <tr>\n",
       "      <th>3</th>\n",
       "      <td>5</td>\n",
       "      <td>Quiero ir a buscar setas por la Sierra de Madr...</td>\n",
       "      <td>Si estás interesado en buscar setas en la Sier...</td>\n",
       "      <td>1</td>\n",
       "      <td>10 Consejos Básicos para coger Setas en la Sie...</td>\n",
       "      <td>26c0035d-f2eb-4bf6-8fe1-71130c558318</td>\n",
       "    </tr>\n",
       "    <tr>\n",
       "      <th>4</th>\n",
       "      <td>5</td>\n",
       "      <td>Quiero ir a buscar setas por la Sierra de Madr...</td>\n",
       "      <td>Si estás interesado en buscar setas en la Sier...</td>\n",
       "      <td>2</td>\n",
       "      <td>Recoger y consumir setas silvestres\\n\\nLa iden...</td>\n",
       "      <td>0bb9fdbe-cf4f-473a-bcde-07d952a64039</td>\n",
       "    </tr>\n",
       "  </tbody>\n",
       "</table>\n",
       "</div>"
      ],
      "text/plain": [
       "   index                                           question  \\\n",
       "0      0  ¿Cuál es la forma más fácil de reclamar cuando...   \n",
       "1      0  ¿Cuál es la forma más fácil de reclamar cuando...   \n",
       "2      0  ¿Cuál es la forma más fácil de reclamar cuando...   \n",
       "3      5  Quiero ir a buscar setas por la Sierra de Madr...   \n",
       "4      5  Quiero ir a buscar setas por la Sierra de Madr...   \n",
       "\n",
       "                                              answer  y_true  \\\n",
       "0  La opción más fácil y eficaz para reclamar una...       1   \n",
       "1  La opción más fácil y eficaz para reclamar una...       2   \n",
       "2  La opción más fácil y eficaz para reclamar una...       3   \n",
       "3  Si estás interesado en buscar setas en la Sier...       1   \n",
       "4  Si estás interesado en buscar setas en la Sier...       2   \n",
       "\n",
       "                                               text_  \\\n",
       "0  5 páginas donde poder reclamar tus vuelos por ...   \n",
       "1  Conoce las compensaciones cuando se retrasa tu...   \n",
       "2  Indemnización retraso vuelo\\n\\nNavegación por ...   \n",
       "3  10 Consejos Básicos para coger Setas en la Sie...   \n",
       "4  Recoger y consumir setas silvestres\\n\\nLa iden...   \n",
       "\n",
       "                                   uuid  \n",
       "0  62f63fee-487d-42f9-9eac-4cad36da0443  \n",
       "1  a0b3ea85-42a0-4bba-a3c9-bd4538affc08  \n",
       "2  ddc1b35e-7f7e-4d13-8603-4d1214340ba4  \n",
       "3  26c0035d-f2eb-4bf6-8fe1-71130c558318  \n",
       "4  0bb9fdbe-cf4f-473a-bcde-07d952a64039  "
      ]
     },
     "execution_count": 24,
     "metadata": {},
     "output_type": "execute_result"
    }
   ],
   "source": [
    "df_ytrues = (df_docs[[\"index\", \"question\", \"answer\", \"j\", \"text_\", \"uuid\"]]\n",
    "             .rename(columns={\"j\": \"y_true\"})\n",
    "             )\n",
    "df_ytrues.head()"
   ]
  },
  {
   "cell_type": "markdown",
   "id": "eee909a4",
   "metadata": {},
   "source": [
    "## Get y_preds"
   ]
  },
  {
   "cell_type": "code",
   "execution_count": 25,
   "id": "541e5f13",
   "metadata": {},
   "outputs": [
    {
     "name": "stdout",
     "output_type": "stream",
     "text": [
      "<class 'pandas.core.frame.DataFrame'>\n",
      "RangeIndex: 250 entries, 0 to 249\n",
      "Data columns (total 3 columns):\n",
      " #   Column  Non-Null Count  Dtype \n",
      "---  ------  --------------  ----- \n",
      " 0   index   250 non-null    int64 \n",
      " 1   uuid    250 non-null    object\n",
      " 2   y_pred  250 non-null    int64 \n",
      "dtypes: int64(2), object(1)\n",
      "memory usage: 6.0+ KB\n"
     ]
    }
   ],
   "source": [
    "lst_retrivals = []\n",
    "df_ans = df_docs.loc[df_docs['j'] == 1, [\"index\", \"question\"]]  # questions are repeated\n",
    "\n",
    "for idx, row in df_ans.iterrows():\n",
    "    _q_text = row[\"question\"]\n",
    "    _q = next(encoder.embed(_q_text))\n",
    "    _resp = client.query_points(\n",
    "        collection_name=INDEX,\n",
    "        query=_q,\n",
    "        limit=RETRIEVE_K\n",
    "    )\n",
    "    for rank, point in enumerate(_resp.points):\n",
    "        lst_retrivals.append(\n",
    "            {\n",
    "                \"index\": row[\"index\"],\n",
    "                \"uuid\": point.id,\n",
    "                \"y_pred\": rank +1\n",
    "\n",
    "            }\n",
    "        )\n",
    "\n",
    "df_yhats =  pd.DataFrame(lst_retrivals)\n",
    "df_yhats.info()"
   ]
  },
  {
   "cell_type": "markdown",
   "id": "e239fd2d",
   "metadata": {},
   "source": [
    "## Format the Dataset \n",
    "\n",
    "* Each row is a question\n",
    "* `y_true` a list where each element represent a given document (`uuid`) actual rank\n",
    "* `y_pred` a list where each element represent the same document on `y_true` predicted rank\n",
    "* Both list must have the same number of elements `EVAL_K`\n",
    "\n",
    "| index | y_true     | y_pred     |\n",
    "|-------|------------|------------|\n",
    "| 0     | [1, 2, 3]  | [2, 3, 5]  |\n",
    "| 5     | [3, 4, 5]  | [2, 1, 3]  |\n",
    "| 12    | [1, 2, 3]  | [2, 5, 4]  |\n"
   ]
  },
  {
   "cell_type": "code",
   "execution_count": 26,
   "id": "8a520f47",
   "metadata": {},
   "outputs": [
    {
     "data": {
      "text/html": [
       "<div>\n",
       "<style scoped>\n",
       "    .dataframe tbody tr th:only-of-type {\n",
       "        vertical-align: middle;\n",
       "    }\n",
       "\n",
       "    .dataframe tbody tr th {\n",
       "        vertical-align: top;\n",
       "    }\n",
       "\n",
       "    .dataframe thead th {\n",
       "        text-align: right;\n",
       "    }\n",
       "</style>\n",
       "<table border=\"1\" class=\"dataframe\">\n",
       "  <thead>\n",
       "    <tr style=\"text-align: right;\">\n",
       "      <th></th>\n",
       "      <th>index</th>\n",
       "      <th>question</th>\n",
       "      <th>answer</th>\n",
       "      <th>y_true</th>\n",
       "      <th>text_</th>\n",
       "      <th>uuid</th>\n",
       "    </tr>\n",
       "  </thead>\n",
       "  <tbody>\n",
       "    <tr>\n",
       "      <th>0</th>\n",
       "      <td>0</td>\n",
       "      <td>¿Cuál es la forma más fácil de reclamar cuando...</td>\n",
       "      <td>La opción más fácil y eficaz para reclamar una...</td>\n",
       "      <td>1</td>\n",
       "      <td>5 páginas donde poder reclamar tus vuelos por ...</td>\n",
       "      <td>62f63fee-487d-42f9-9eac-4cad36da0443</td>\n",
       "    </tr>\n",
       "    <tr>\n",
       "      <th>1</th>\n",
       "      <td>0</td>\n",
       "      <td>¿Cuál es la forma más fácil de reclamar cuando...</td>\n",
       "      <td>La opción más fácil y eficaz para reclamar una...</td>\n",
       "      <td>2</td>\n",
       "      <td>Conoce las compensaciones cuando se retrasa tu...</td>\n",
       "      <td>a0b3ea85-42a0-4bba-a3c9-bd4538affc08</td>\n",
       "    </tr>\n",
       "  </tbody>\n",
       "</table>\n",
       "</div>"
      ],
      "text/plain": [
       "   index                                           question  \\\n",
       "0      0  ¿Cuál es la forma más fácil de reclamar cuando...   \n",
       "1      0  ¿Cuál es la forma más fácil de reclamar cuando...   \n",
       "\n",
       "                                              answer  y_true  \\\n",
       "0  La opción más fácil y eficaz para reclamar una...       1   \n",
       "1  La opción más fácil y eficaz para reclamar una...       2   \n",
       "\n",
       "                                               text_  \\\n",
       "0  5 páginas donde poder reclamar tus vuelos por ...   \n",
       "1  Conoce las compensaciones cuando se retrasa tu...   \n",
       "\n",
       "                                   uuid  \n",
       "0  62f63fee-487d-42f9-9eac-4cad36da0443  \n",
       "1  a0b3ea85-42a0-4bba-a3c9-bd4538affc08  "
      ]
     },
     "execution_count": 26,
     "metadata": {},
     "output_type": "execute_result"
    }
   ],
   "source": [
    "df_ytrues.head(2)"
   ]
  },
  {
   "cell_type": "code",
   "execution_count": 27,
   "id": "4c8353c4",
   "metadata": {},
   "outputs": [
    {
     "data": {
      "text/html": [
       "<div>\n",
       "<style scoped>\n",
       "    .dataframe tbody tr th:only-of-type {\n",
       "        vertical-align: middle;\n",
       "    }\n",
       "\n",
       "    .dataframe tbody tr th {\n",
       "        vertical-align: top;\n",
       "    }\n",
       "\n",
       "    .dataframe thead th {\n",
       "        text-align: right;\n",
       "    }\n",
       "</style>\n",
       "<table border=\"1\" class=\"dataframe\">\n",
       "  <thead>\n",
       "    <tr style=\"text-align: right;\">\n",
       "      <th></th>\n",
       "      <th>index</th>\n",
       "      <th>uuid</th>\n",
       "      <th>y_pred</th>\n",
       "    </tr>\n",
       "  </thead>\n",
       "  <tbody>\n",
       "    <tr>\n",
       "      <th>0</th>\n",
       "      <td>0</td>\n",
       "      <td>a0b3ea85-42a0-4bba-a3c9-bd4538affc08</td>\n",
       "      <td>1</td>\n",
       "    </tr>\n",
       "    <tr>\n",
       "      <th>1</th>\n",
       "      <td>0</td>\n",
       "      <td>62f63fee-487d-42f9-9eac-4cad36da0443</td>\n",
       "      <td>2</td>\n",
       "    </tr>\n",
       "  </tbody>\n",
       "</table>\n",
       "</div>"
      ],
      "text/plain": [
       "   index                                  uuid  y_pred\n",
       "0      0  a0b3ea85-42a0-4bba-a3c9-bd4538affc08       1\n",
       "1      0  62f63fee-487d-42f9-9eac-4cad36da0443       2"
      ]
     },
     "execution_count": 27,
     "metadata": {},
     "output_type": "execute_result"
    }
   ],
   "source": [
    "df_yhats.head(2)"
   ]
  },
  {
   "cell_type": "code",
   "execution_count": 28,
   "id": "51fdd069",
   "metadata": {},
   "outputs": [
    {
     "data": {
      "text/html": [
       "<div>\n",
       "<style scoped>\n",
       "    .dataframe tbody tr th:only-of-type {\n",
       "        vertical-align: middle;\n",
       "    }\n",
       "\n",
       "    .dataframe tbody tr th {\n",
       "        vertical-align: top;\n",
       "    }\n",
       "\n",
       "    .dataframe thead th {\n",
       "        text-align: right;\n",
       "    }\n",
       "</style>\n",
       "<table border=\"1\" class=\"dataframe\">\n",
       "  <thead>\n",
       "    <tr style=\"text-align: right;\">\n",
       "      <th></th>\n",
       "      <th>index</th>\n",
       "      <th>question</th>\n",
       "      <th>answer</th>\n",
       "      <th>y_true</th>\n",
       "      <th>text_</th>\n",
       "      <th>uuid</th>\n",
       "      <th>y_pred</th>\n",
       "    </tr>\n",
       "  </thead>\n",
       "  <tbody>\n",
       "    <tr>\n",
       "      <th>0</th>\n",
       "      <td>0</td>\n",
       "      <td>¿Cuál es la forma más fácil de reclamar cuando...</td>\n",
       "      <td>La opción más fácil y eficaz para reclamar una...</td>\n",
       "      <td>1</td>\n",
       "      <td>5 páginas donde poder reclamar tus vuelos por ...</td>\n",
       "      <td>62f63fee-487d-42f9-9eac-4cad36da0443</td>\n",
       "      <td>2.0</td>\n",
       "    </tr>\n",
       "    <tr>\n",
       "      <th>1</th>\n",
       "      <td>0</td>\n",
       "      <td>¿Cuál es la forma más fácil de reclamar cuando...</td>\n",
       "      <td>La opción más fácil y eficaz para reclamar una...</td>\n",
       "      <td>2</td>\n",
       "      <td>Conoce las compensaciones cuando se retrasa tu...</td>\n",
       "      <td>a0b3ea85-42a0-4bba-a3c9-bd4538affc08</td>\n",
       "      <td>1.0</td>\n",
       "    </tr>\n",
       "    <tr>\n",
       "      <th>2</th>\n",
       "      <td>0</td>\n",
       "      <td>¿Cuál es la forma más fácil de reclamar cuando...</td>\n",
       "      <td>La opción más fácil y eficaz para reclamar una...</td>\n",
       "      <td>3</td>\n",
       "      <td>Indemnización retraso vuelo\\n\\nNavegación por ...</td>\n",
       "      <td>ddc1b35e-7f7e-4d13-8603-4d1214340ba4</td>\n",
       "      <td>3.0</td>\n",
       "    </tr>\n",
       "    <tr>\n",
       "      <th>3</th>\n",
       "      <td>5</td>\n",
       "      <td>Quiero ir a buscar setas por la Sierra de Madr...</td>\n",
       "      <td>Si estás interesado en buscar setas en la Sier...</td>\n",
       "      <td>1</td>\n",
       "      <td>10 Consejos Básicos para coger Setas en la Sie...</td>\n",
       "      <td>26c0035d-f2eb-4bf6-8fe1-71130c558318</td>\n",
       "      <td>4.0</td>\n",
       "    </tr>\n",
       "    <tr>\n",
       "      <th>4</th>\n",
       "      <td>5</td>\n",
       "      <td>Quiero ir a buscar setas por la Sierra de Madr...</td>\n",
       "      <td>Si estás interesado en buscar setas en la Sier...</td>\n",
       "      <td>2</td>\n",
       "      <td>Recoger y consumir setas silvestres\\n\\nLa iden...</td>\n",
       "      <td>0bb9fdbe-cf4f-473a-bcde-07d952a64039</td>\n",
       "      <td>NaN</td>\n",
       "    </tr>\n",
       "  </tbody>\n",
       "</table>\n",
       "</div>"
      ],
      "text/plain": [
       "   index                                           question  \\\n",
       "0      0  ¿Cuál es la forma más fácil de reclamar cuando...   \n",
       "1      0  ¿Cuál es la forma más fácil de reclamar cuando...   \n",
       "2      0  ¿Cuál es la forma más fácil de reclamar cuando...   \n",
       "3      5  Quiero ir a buscar setas por la Sierra de Madr...   \n",
       "4      5  Quiero ir a buscar setas por la Sierra de Madr...   \n",
       "\n",
       "                                              answer  y_true  \\\n",
       "0  La opción más fácil y eficaz para reclamar una...       1   \n",
       "1  La opción más fácil y eficaz para reclamar una...       2   \n",
       "2  La opción más fácil y eficaz para reclamar una...       3   \n",
       "3  Si estás interesado en buscar setas en la Sier...       1   \n",
       "4  Si estás interesado en buscar setas en la Sier...       2   \n",
       "\n",
       "                                               text_  \\\n",
       "0  5 páginas donde poder reclamar tus vuelos por ...   \n",
       "1  Conoce las compensaciones cuando se retrasa tu...   \n",
       "2  Indemnización retraso vuelo\\n\\nNavegación por ...   \n",
       "3  10 Consejos Básicos para coger Setas en la Sie...   \n",
       "4  Recoger y consumir setas silvestres\\n\\nLa iden...   \n",
       "\n",
       "                                   uuid  y_pred  \n",
       "0  62f63fee-487d-42f9-9eac-4cad36da0443     2.0  \n",
       "1  a0b3ea85-42a0-4bba-a3c9-bd4538affc08     1.0  \n",
       "2  ddc1b35e-7f7e-4d13-8603-4d1214340ba4     3.0  \n",
       "3  26c0035d-f2eb-4bf6-8fe1-71130c558318     4.0  \n",
       "4  0bb9fdbe-cf4f-473a-bcde-07d952a64039     NaN  "
      ]
     },
     "execution_count": 28,
     "metadata": {},
     "output_type": "execute_result"
    }
   ],
   "source": [
    "df_eval = df_ytrues.merge(df_yhats, how=\"left\", on=['index', 'uuid'])  # los elementos de las listas deben ser los mismos documentos\n",
    "df_eval.head(5)\n"
   ]
  },
  {
   "cell_type": "code",
   "execution_count": 29,
   "id": "b70985bc",
   "metadata": {},
   "outputs": [
    {
     "data": {
      "text/html": [
       "<div>\n",
       "<style scoped>\n",
       "    .dataframe tbody tr th:only-of-type {\n",
       "        vertical-align: middle;\n",
       "    }\n",
       "\n",
       "    .dataframe tbody tr th {\n",
       "        vertical-align: top;\n",
       "    }\n",
       "\n",
       "    .dataframe thead th {\n",
       "        text-align: right;\n",
       "    }\n",
       "</style>\n",
       "<table border=\"1\" class=\"dataframe\">\n",
       "  <thead>\n",
       "    <tr style=\"text-align: right;\">\n",
       "      <th>y_pred</th>\n",
       "      <th>1.0</th>\n",
       "      <th>2.0</th>\n",
       "      <th>3.0</th>\n",
       "      <th>4.0</th>\n",
       "      <th>5.0</th>\n",
       "      <th>NaN</th>\n",
       "    </tr>\n",
       "    <tr>\n",
       "      <th>y_true</th>\n",
       "      <th></th>\n",
       "      <th></th>\n",
       "      <th></th>\n",
       "      <th></th>\n",
       "      <th></th>\n",
       "      <th></th>\n",
       "    </tr>\n",
       "  </thead>\n",
       "  <tbody>\n",
       "    <tr>\n",
       "      <th>1</th>\n",
       "      <td>12</td>\n",
       "      <td>10</td>\n",
       "      <td>9</td>\n",
       "      <td>8</td>\n",
       "      <td>5</td>\n",
       "      <td>6</td>\n",
       "    </tr>\n",
       "    <tr>\n",
       "      <th>2</th>\n",
       "      <td>12</td>\n",
       "      <td>16</td>\n",
       "      <td>6</td>\n",
       "      <td>5</td>\n",
       "      <td>1</td>\n",
       "      <td>9</td>\n",
       "    </tr>\n",
       "    <tr>\n",
       "      <th>3</th>\n",
       "      <td>8</td>\n",
       "      <td>9</td>\n",
       "      <td>12</td>\n",
       "      <td>5</td>\n",
       "      <td>1</td>\n",
       "      <td>7</td>\n",
       "    </tr>\n",
       "    <tr>\n",
       "      <th>4</th>\n",
       "      <td>9</td>\n",
       "      <td>3</td>\n",
       "      <td>4</td>\n",
       "      <td>4</td>\n",
       "      <td>4</td>\n",
       "      <td>3</td>\n",
       "    </tr>\n",
       "    <tr>\n",
       "      <th>5</th>\n",
       "      <td>3</td>\n",
       "      <td>4</td>\n",
       "      <td>3</td>\n",
       "      <td>2</td>\n",
       "      <td>1</td>\n",
       "      <td>2</td>\n",
       "    </tr>\n",
       "  </tbody>\n",
       "</table>\n",
       "</div>"
      ],
      "text/plain": [
       "y_pred  1.0  2.0  3.0  4.0  5.0  NaN\n",
       "y_true                              \n",
       "1        12   10    9    8    5    6\n",
       "2        12   16    6    5    1    9\n",
       "3         8    9   12    5    1    7\n",
       "4         9    3    4    4    4    3\n",
       "5         3    4    3    2    1    2"
      ]
     },
     "execution_count": 29,
     "metadata": {},
     "output_type": "execute_result"
    }
   ],
   "source": [
    "pd.crosstab(\n",
    "    df_eval[\"y_true\"],\n",
    "    df_eval[\"y_pred\"],\n",
    "    dropna=False  # no recuperado\n",
    "\n",
    ")"
   ]
  },
  {
   "cell_type": "code",
   "execution_count": 30,
   "id": "22991b25",
   "metadata": {},
   "outputs": [
    {
     "data": {
      "text/html": [
       "<div>\n",
       "<style scoped>\n",
       "    .dataframe tbody tr th:only-of-type {\n",
       "        vertical-align: middle;\n",
       "    }\n",
       "\n",
       "    .dataframe tbody tr th {\n",
       "        vertical-align: top;\n",
       "    }\n",
       "\n",
       "    .dataframe thead th {\n",
       "        text-align: right;\n",
       "    }\n",
       "</style>\n",
       "<table border=\"1\" class=\"dataframe\">\n",
       "  <thead>\n",
       "    <tr style=\"text-align: right;\">\n",
       "      <th></th>\n",
       "      <th>y_true</th>\n",
       "      <th>y_pred</th>\n",
       "      <th>len_y_trues</th>\n",
       "    </tr>\n",
       "    <tr>\n",
       "      <th>index</th>\n",
       "      <th></th>\n",
       "      <th></th>\n",
       "      <th></th>\n",
       "    </tr>\n",
       "  </thead>\n",
       "  <tbody>\n",
       "    <tr>\n",
       "      <th>0</th>\n",
       "      <td>[1, 2, 3]</td>\n",
       "      <td>[2, 1, 3]</td>\n",
       "      <td>3</td>\n",
       "    </tr>\n",
       "    <tr>\n",
       "      <th>5</th>\n",
       "      <td>[1, 2, 3]</td>\n",
       "      <td>[4, 99, 2]</td>\n",
       "      <td>3</td>\n",
       "    </tr>\n",
       "    <tr>\n",
       "      <th>8</th>\n",
       "      <td>[1, 2, 3]</td>\n",
       "      <td>[99, 99, 99]</td>\n",
       "      <td>3</td>\n",
       "    </tr>\n",
       "    <tr>\n",
       "      <th>12</th>\n",
       "      <td>[1, 2, 3]</td>\n",
       "      <td>[4, 2, 1]</td>\n",
       "      <td>3</td>\n",
       "    </tr>\n",
       "    <tr>\n",
       "      <th>16</th>\n",
       "      <td>[1, 2, 3]</td>\n",
       "      <td>[3, 2, 1]</td>\n",
       "      <td>3</td>\n",
       "    </tr>\n",
       "  </tbody>\n",
       "</table>\n",
       "</div>"
      ],
      "text/plain": [
       "          y_true        y_pred  len_y_trues\n",
       "index                                      \n",
       "0      [1, 2, 3]     [2, 1, 3]            3\n",
       "5      [1, 2, 3]    [4, 99, 2]            3\n",
       "8      [1, 2, 3]  [99, 99, 99]            3\n",
       "12     [1, 2, 3]     [4, 2, 1]            3\n",
       "16     [1, 2, 3]     [3, 2, 1]            3"
      ]
     },
     "execution_count": 30,
     "metadata": {},
     "output_type": "execute_result"
    }
   ],
   "source": [
    "import numpy as np\n",
    "from sklearn.metrics import ndcg_score\n",
    "\n",
    "df_eval_ndcg = df_eval[[\"uuid\", \"index\", \"y_true\", \"y_pred\"]].fillna(99)   # si no se recupera, se le da un número muy grande\n",
    "df_eval_ndcg['y_pred'] = df_eval_ndcg['y_pred'].astype(int)  # casteado a float por los nan\n",
    "\n",
    "# Colapsar todas las y_trues e y_pred de una question en una sola fila,\n",
    "# de tal forma que las celdas sean listas, pero del un tamaño `EVAL_K`\n",
    "df_eval_ndcg_agg = (df_eval_ndcg\n",
    "                    .groupby(\"index\")[[\"y_true\", \"y_pred\"]]\n",
    "                    .agg(lambda grp: list(grp[:EVAL_K]))\n",
    "                    )\n",
    "\n",
    "# Eliminar las filas que tengan un rank real menor al esperado\n",
    "df_eval_ndcg_agg['len_y_trues'] = df_eval_ndcg_agg['y_true'].apply(len)\n",
    "df_eval_ndcg_agg = df_eval_ndcg_agg.loc[\n",
    "    df_eval_ndcg_agg['len_y_trues'] >= EVAL_K\n",
    "]\n",
    "\n",
    "\n",
    "df_eval_ndcg_agg.head()"
   ]
  },
  {
   "cell_type": "markdown",
   "id": "cf78decf",
   "metadata": {},
   "source": [
    "## Compute nDCG score"
   ]
  },
  {
   "cell_type": "code",
   "execution_count": 31,
   "id": "dfadfbd3",
   "metadata": {},
   "outputs": [
    {
     "data": {
      "text/plain": [
       "0.8882721820339696"
      ]
     },
     "execution_count": 31,
     "metadata": {},
     "output_type": "execute_result"
    }
   ],
   "source": [
    "y_trues = np.array(df_eval_ndcg_agg[\"y_true\"].tolist())\n",
    "y_pred = np.array(df_eval_ndcg_agg[\"y_pred\"].tolist())\n",
    "\n",
    "ndcg_score(\n",
    "    y_trues,\n",
    "    y_pred,\n",
    "    k=RETRIEVE_K)"
   ]
  },
  {
   "cell_type": "code",
   "execution_count": null,
   "id": "dc6d4528",
   "metadata": {},
   "outputs": [],
   "source": []
  }
 ],
 "metadata": {
  "kernelspec": {
   "display_name": ".venv",
   "language": "python",
   "name": "python3"
  },
  "language_info": {
   "codemirror_mode": {
    "name": "ipython",
    "version": 3
   },
   "file_extension": ".py",
   "mimetype": "text/x-python",
   "name": "python",
   "nbconvert_exporter": "python",
   "pygments_lexer": "ipython3",
   "version": "3.11.9"
  }
 },
 "nbformat": 4,
 "nbformat_minor": 5
}
