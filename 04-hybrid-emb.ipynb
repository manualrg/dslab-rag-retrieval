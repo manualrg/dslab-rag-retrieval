{
 "cells": [
  {
   "cell_type": "markdown",
   "id": "6bee68bf",
   "metadata": {},
   "source": [
    "# Hybrid Embeddings"
   ]
  },
  {
   "cell_type": "code",
   "execution_count": 32,
   "id": "d80ab1d5",
   "metadata": {},
   "outputs": [
    {
     "name": "stdout",
     "output_type": "stream",
     "text": [
      "The autoreload extension is already loaded. To reload it, use:\n",
      "  %reload_ext autoreload\n"
     ]
    }
   ],
   "source": [
    "%load_ext autoreload\n",
    "%autoreload 2"
   ]
  },
  {
   "cell_type": "code",
   "execution_count": 33,
   "id": "8c0e5386",
   "metadata": {},
   "outputs": [],
   "source": [
    "import os\n",
    "from dotenv import load_dotenv\n",
    "import pandas as pd\n",
    "from datasets import load_dataset\n",
    "from qdrant_client import models, QdrantClient\n",
    "from fastembed import SparseTextEmbedding, TextEmbedding\n",
    "\n",
    "from src import load_data, embeddings\n"
   ]
  },
  {
   "cell_type": "markdown",
   "id": "5bbc9ac7",
   "metadata": {},
   "source": [
    "# Params"
   ]
  },
  {
   "cell_type": "code",
   "execution_count": null,
   "id": "2a92dcd2",
   "metadata": {},
   "outputs": [],
   "source": [
    "INDEX = \"ragquas-hybrid-01\"\n",
    "RETRIEVE_K=5\n",
    "SMPL_SIZE = 25  # int or None"
   ]
  },
  {
   "cell_type": "markdown",
   "id": "5320c420",
   "metadata": {},
   "source": [
    "# Environment variables"
   ]
  },
  {
   "cell_type": "code",
   "execution_count": 35,
   "id": "086f2414",
   "metadata": {},
   "outputs": [
    {
     "data": {
      "text/plain": [
       "True"
      ]
     },
     "execution_count": 35,
     "metadata": {},
     "output_type": "execute_result"
    }
   ],
   "source": [
    "load_dotenv()\n"
   ]
  },
  {
   "cell_type": "markdown",
   "id": "24dd54ed",
   "metadata": {},
   "source": [
    "# Clients"
   ]
  },
  {
   "cell_type": "code",
   "execution_count": 36,
   "id": "d23e1d98",
   "metadata": {},
   "outputs": [],
   "source": [
    "client_qdrant = QdrantClient(\":memory:\") \n"
   ]
  },
  {
   "cell_type": "markdown",
   "id": "64054a22",
   "metadata": {},
   "source": [
    "# Load Data"
   ]
  },
  {
   "cell_type": "code",
   "execution_count": 37,
   "id": "722b9759",
   "metadata": {},
   "outputs": [
    {
     "data": {
      "text/html": [
       "<div>\n",
       "<style scoped>\n",
       "    .dataframe tbody tr th:only-of-type {\n",
       "        vertical-align: middle;\n",
       "    }\n",
       "\n",
       "    .dataframe tbody tr th {\n",
       "        vertical-align: top;\n",
       "    }\n",
       "\n",
       "    .dataframe thead th {\n",
       "        text-align: right;\n",
       "    }\n",
       "</style>\n",
       "<table border=\"1\" class=\"dataframe\">\n",
       "  <thead>\n",
       "    <tr style=\"text-align: right;\">\n",
       "      <th></th>\n",
       "      <th>topic</th>\n",
       "      <th>answer</th>\n",
       "      <th>question</th>\n",
       "      <th>variant</th>\n",
       "      <th>context_1</th>\n",
       "      <th>context_2</th>\n",
       "      <th>context_3</th>\n",
       "      <th>context_4</th>\n",
       "      <th>context_5</th>\n",
       "      <th>link_1</th>\n",
       "      <th>link_2</th>\n",
       "      <th>link_3</th>\n",
       "      <th>link_4</th>\n",
       "      <th>link_5</th>\n",
       "      <th>text_1</th>\n",
       "      <th>text_2</th>\n",
       "      <th>text_3</th>\n",
       "      <th>text_4</th>\n",
       "      <th>text_5</th>\n",
       "    </tr>\n",
       "  </thead>\n",
       "  <tbody>\n",
       "    <tr>\n",
       "      <th>0</th>\n",
       "      <td>reclamaciones</td>\n",
       "      <td>La opción más fácil y eficaz para reclamar una...</td>\n",
       "      <td>¿Cuál es la forma más fácil de reclamar cuando...</td>\n",
       "      <td>question_1</td>\n",
       "      <td>#1. Airhelp\\n\\nLa empresa Airhelp fue fundada ...</td>\n",
       "      <td>En AirHelp hemos ayudado a más de 16 millones ...</td>\n",
       "      <td>MYFLYRIGHT, expertos en derechos de los viajer...</td>\n",
       "      <td></td>\n",
       "      <td></td>\n",
       "      <td>https://www.businessinsider.es/mejores-paginas...</td>\n",
       "      <td>https://www.airhelp.com/es/retrasos-de-vuelos/</td>\n",
       "      <td>https://myflyright.com/es/servicios/vuelo-retr...</td>\n",
       "      <td></td>\n",
       "      <td></td>\n",
       "      <td>5 páginas donde poder reclamar tus vuelos por ...</td>\n",
       "      <td>Conoce las compensaciones cuando se retrasa tu...</td>\n",
       "      <td>Indemnización retraso vuelo\\n\\nNavegación por ...</td>\n",
       "      <td></td>\n",
       "      <td></td>\n",
       "    </tr>\n",
       "    <tr>\n",
       "      <th>1</th>\n",
       "      <td>reclamaciones</td>\n",
       "      <td>La opción más fácil y eficaz para reclamar una...</td>\n",
       "      <td>hola mi vuelo a Alemania se ha retrasado mucho...</td>\n",
       "      <td>question_2</td>\n",
       "      <td>#1. Airhelp\\n\\nLa empresa Airhelp fue fundada ...</td>\n",
       "      <td>En AirHelp hemos ayudado a más de 16 millones ...</td>\n",
       "      <td>MYFLYRIGHT, expertos en derechos de los viajer...</td>\n",
       "      <td></td>\n",
       "      <td></td>\n",
       "      <td>https://www.businessinsider.es/mejores-paginas...</td>\n",
       "      <td>https://www.airhelp.com/es/retrasos-de-vuelos/</td>\n",
       "      <td>https://myflyright.com/es/servicios/vuelo-retr...</td>\n",
       "      <td></td>\n",
       "      <td></td>\n",
       "      <td>5 páginas donde poder reclamar tus vuelos por ...</td>\n",
       "      <td>Conoce las compensaciones cuando se retrasa tu...</td>\n",
       "      <td>Indemnización retraso vuelo\\n\\nNavegación por ...</td>\n",
       "      <td></td>\n",
       "      <td></td>\n",
       "    </tr>\n",
       "  </tbody>\n",
       "</table>\n",
       "</div>"
      ],
      "text/plain": [
       "           topic                                             answer  \\\n",
       "0  reclamaciones  La opción más fácil y eficaz para reclamar una...   \n",
       "1  reclamaciones  La opción más fácil y eficaz para reclamar una...   \n",
       "\n",
       "                                            question     variant  \\\n",
       "0  ¿Cuál es la forma más fácil de reclamar cuando...  question_1   \n",
       "1  hola mi vuelo a Alemania se ha retrasado mucho...  question_2   \n",
       "\n",
       "                                           context_1  \\\n",
       "0  #1. Airhelp\\n\\nLa empresa Airhelp fue fundada ...   \n",
       "1  #1. Airhelp\\n\\nLa empresa Airhelp fue fundada ...   \n",
       "\n",
       "                                           context_2  \\\n",
       "0  En AirHelp hemos ayudado a más de 16 millones ...   \n",
       "1  En AirHelp hemos ayudado a más de 16 millones ...   \n",
       "\n",
       "                                           context_3 context_4 context_5  \\\n",
       "0  MYFLYRIGHT, expertos en derechos de los viajer...                       \n",
       "1  MYFLYRIGHT, expertos en derechos de los viajer...                       \n",
       "\n",
       "                                              link_1  \\\n",
       "0  https://www.businessinsider.es/mejores-paginas...   \n",
       "1  https://www.businessinsider.es/mejores-paginas...   \n",
       "\n",
       "                                           link_2  \\\n",
       "0  https://www.airhelp.com/es/retrasos-de-vuelos/   \n",
       "1  https://www.airhelp.com/es/retrasos-de-vuelos/   \n",
       "\n",
       "                                              link_3 link_4 link_5  \\\n",
       "0  https://myflyright.com/es/servicios/vuelo-retr...                 \n",
       "1  https://myflyright.com/es/servicios/vuelo-retr...                 \n",
       "\n",
       "                                              text_1  \\\n",
       "0  5 páginas donde poder reclamar tus vuelos por ...   \n",
       "1  5 páginas donde poder reclamar tus vuelos por ...   \n",
       "\n",
       "                                              text_2  \\\n",
       "0  Conoce las compensaciones cuando se retrasa tu...   \n",
       "1  Conoce las compensaciones cuando se retrasa tu...   \n",
       "\n",
       "                                              text_3 text_4 text_5  \n",
       "0  Indemnización retraso vuelo\\n\\nNavegación por ...                \n",
       "1  Indemnización retraso vuelo\\n\\nNavegación por ...                "
      ]
     },
     "execution_count": 37,
     "metadata": {},
     "output_type": "execute_result"
    }
   ],
   "source": [
    "df_ragquas = load_data.ragquas()\n",
    "df_ragquas.head(2)"
   ]
  },
  {
   "cell_type": "code",
   "execution_count": 38,
   "id": "77be9640",
   "metadata": {},
   "outputs": [
    {
     "name": "stdout",
     "output_type": "stream",
     "text": [
      "Raw shape: (250, 3)\n",
      "<class 'pandas.core.frame.DataFrame'>\n",
      "RangeIndex: 183 entries, 0 to 182\n",
      "Data columns (total 10 columns):\n",
      " #   Column    Non-Null Count  Dtype \n",
      "---  ------    --------------  ----- \n",
      " 0   index     183 non-null    int64 \n",
      " 1   topic     183 non-null    object\n",
      " 2   variant   183 non-null    object\n",
      " 3   question  183 non-null    object\n",
      " 4   answer    183 non-null    object\n",
      " 5   j         183 non-null    int64 \n",
      " 6   context_  183 non-null    object\n",
      " 7   text_     183 non-null    object\n",
      " 8   link_     183 non-null    object\n",
      " 9   uuid      183 non-null    object\n",
      "dtypes: int64(2), object(8)\n",
      "memory usage: 14.4+ KB\n"
     ]
    }
   ],
   "source": [
    "df_docs = load_data.prepare_ragquas(df_ragquas)\n",
    "df_docs.info()"
   ]
  },
  {
   "cell_type": "code",
   "execution_count": 39,
   "id": "e6344a97",
   "metadata": {},
   "outputs": [],
   "source": [
    "if SMPL_SIZE:\n",
    "    df_docs_smpl = df_docs.iloc[:SMPL_SIZE]\n",
    "else:\n",
    "    df_docs_smpl = df_docs"
   ]
  },
  {
   "cell_type": "markdown",
   "id": "34643b38",
   "metadata": {},
   "source": [
    "[FastEmbed Supported models](sentence-transformers/paraphrase-multilingual-mpnet-base-v2)"
   ]
  },
  {
   "cell_type": "code",
   "execution_count": 40,
   "id": "c7fed6d5",
   "metadata": {},
   "outputs": [
    {
     "name": "stdout",
     "output_type": "stream",
     "text": [
      "sp_embeddings[0].values=array([1.67868852, 1.67868852, 1.67868852])\n",
      "sp_embeddings[0].indices=array([1881538586,  150760872, 1932363795])\n"
     ]
    },
    {
     "name": "stderr",
     "output_type": "stream",
     "text": [
      "C:\\Users\\manua\\AppData\\Local\\Temp\\ipykernel_13040\\3171690876.py:13: UserWarning: The model sentence-transformers/paraphrase-multilingual-mpnet-base-v2 now uses mean pooling instead of CLS embedding. In order to preserve the previous behaviour, consider either pinning fastembed version to 0.5.1 or using `add_custom_model` functionality.\n",
      "  encoder_dn = TextEmbedding(model_name=\"sentence-transformers/paraphrase-multilingual-mpnet-base-v2\")\n"
     ]
    },
    {
     "name": "stdout",
     "output_type": "stream",
     "text": [
      "len(dn_embeddings)=2\n",
      "len(dn_embeddings[0])=768\n"
     ]
    }
   ],
   "source": [
    "\n",
    "documents = [\n",
    "    \"You should stay, study and sprint.\",\n",
    "    \"History can only prepare us to be surprised yet again.\",\n",
    "]\n",
    "\n",
    "encoder_sp = SparseTextEmbedding(model_name=\"Qdrant/bm25\")\n",
    "sp_embeddings = list(encoder_sp.embed(documents))\n",
    "\n",
    "\n",
    "print(f\"{sp_embeddings[0].values=}\")\n",
    "print(f\"{sp_embeddings[0].indices=}\")\n",
    "\n",
    "encoder_dn = TextEmbedding(model_name=\"sentence-transformers/paraphrase-multilingual-mpnet-base-v2\")\n",
    "dn_embeddings = list(encoder_dn.embed(documents))\n",
    "\n",
    "print(f\"{len(dn_embeddings)=}\")\n",
    "print(f\"{len(dn_embeddings[0])=}\")"
   ]
  },
  {
   "cell_type": "code",
   "execution_count": 41,
   "id": "3f1f9d14",
   "metadata": {},
   "outputs": [
    {
     "name": "stdout",
     "output_type": "stream",
     "text": [
      "len(lst_qdrant_pts)=25\n"
     ]
    }
   ],
   "source": [
    "lst_embeddings_hyb = []\n",
    "\n",
    "corpus_encoded_sp = list(encoder_sp.embed(df_docs_smpl['text_']))\n",
    "corpus_encoded_dn = list(encoder_dn.embed(df_docs_smpl['text_']))\n",
    "\n",
    "for idx in range(len(corpus_encoded_sp)):\n",
    "    sp_vec = corpus_encoded_sp[idx]\n",
    "    dn_vec = corpus_encoded_dn[idx]\n",
    "\n",
    "    lst_embeddings_hyb.append({\n",
    "        \"sparse\": models.SparseVector(\n",
    "            indices=sp_vec.indices,\n",
    "            values=sp_vec.values\n",
    "            ),\n",
    "        \"dense\": dn_vec.tolist()\n",
    "        }\n",
    "    )\n",
    "\n",
    "lst_pts_hyb = embeddings.create_index_points(\n",
    "    lst_embeddings_hyb,\n",
    "    df_docs_smpl,\n",
    ")\n",
    "\n",
    "lst_qdrant_pts = embeddings.convert_to_qdrant_points(lst_pts_hyb)\n",
    "\n",
    "print(f\"{len(lst_qdrant_pts)=}\")"
   ]
  },
  {
   "cell_type": "code",
   "execution_count": 42,
   "id": "66525791",
   "metadata": {},
   "outputs": [
    {
     "data": {
      "text/plain": [
       "UpdateResult(operation_id=0, status=<UpdateStatus.COMPLETED: 'completed'>)"
      ]
     },
     "execution_count": 42,
     "metadata": {},
     "output_type": "execute_result"
    }
   ],
   "source": [
    "client_qdrant.create_collection(\n",
    "    collection_name=INDEX,\n",
    "    vectors_config={\n",
    "        \"dense\": models.VectorParams(\n",
    "            size=encoder_dn.embedding_size, \n",
    "            distance=models.Distance.COSINE,\n",
    "        )\n",
    "    },\n",
    "    sparse_vectors_config={\n",
    "        \"sparse\": models.SparseVectorParams(),\n",
    "        }\n",
    ")\n",
    "\n",
    "client_qdrant.upsert(\n",
    "    collection_name=INDEX,\n",
    "    points=lst_qdrant_pts\n",
    ")"
   ]
  },
  {
   "cell_type": "code",
   "execution_count": 43,
   "id": "91bf38be",
   "metadata": {},
   "outputs": [
    {
     "name": "stdout",
     "output_type": "stream",
     "text": [
      "Question: 0    ¿Cuál es la forma más fácil de reclamar cuando...\n",
      "Name: question, dtype: object\n",
      "point.id='34d85fd1-d0ba-46a7-afe5-37174f2b514f'\n",
      "point.score=0.49639524378939925\n",
      "Doc: 5 páginas donde poder reclamar tus vuelos por retraso o cancelación de manera gratuita\n",
      "Irina Pérez\n",
      "\n",
      "    En muchas ocasiones no se realiza la reclamación de un vuelo por retraso o cancelación, porque se desconocen los derechos como pasajeros y la manera de realizar el trámite. \n",
      "    Por ello, aquí van 5 reclamadores online que te ayudarán a conseguir una indemnización por tu vuelo, sin que tengas que desplazarte ni hacer papeleos.\n",
      "    Descubre más historias en Business Insider España.\n",
      "\n",
      "Volar es si...\n",
      "idx: 0, j: 1\n",
      "------------------------------\n"
     ]
    }
   ],
   "source": [
    "_q_text = df_docs.iloc[0:1]['question']\n",
    "\n",
    "_q_vec_dn = next(encoder_dn.embed(_q_text))\n",
    "\n",
    "print(f\"Question: {_q_text}\")\n",
    "embeddings.check_query_qdrant(\n",
    "        client_qdrant,\n",
    "        INDEX,\n",
    "        _q_vec_dn,\n",
    "        retrieve_k=1,\n",
    "        using='dense'  # Name in StructPoint and Collection\n",
    ")\n",
    "\n"
   ]
  },
  {
   "cell_type": "markdown",
   "id": "605b25bd",
   "metadata": {},
   "source": [
    "[Hybrid Queries](https://qdrant.tech/documentation/concepts/hybrid-queries/)\n",
    "\n",
    "Prefecth is a component that allows to run multiple queries in parallel and then combine the results using a fusion algorithm.\n",
    "\n",
    "Reciprocal Rank Fusion\n",
    "![RRF](https://qdrant.tech/docs/fusion-idea.png)"
   ]
  },
  {
   "cell_type": "code",
   "execution_count": null,
   "id": "61621689",
   "metadata": {},
   "outputs": [
    {
     "name": "stdout",
     "output_type": "stream",
     "text": [
      "point.id='34d85fd1-d0ba-46a7-afe5-37174f2b514f'\n",
      "point.score=0.8333333333333333\n",
      "Doc: 5 páginas donde poder reclamar tus vuelos por retraso o cancelación de manera gratuita\n",
      "Irina Pérez\n",
      "\n",
      "    En muchas ocasiones no se realiza la reclamación de un vuelo por retraso o cancelación, porque se desconocen los derechos como pasajeros y la manera de realizar el trámite. \n",
      "    Por ello, aquí van 5 reclamadores online que te ayudarán a conseguir una indemnización por tu vuelo, sin que tengas que desplazarte ni hacer papeleos.\n",
      "    Descubre más historias en Business Insider España.\n",
      "\n",
      "Volar es si...\n",
      "idx: 0, j: 1\n",
      "------------------------------\n",
      "point.id='cb0ad692-7bf8-433d-a72a-a7980461423b'\n",
      "point.score=0.75\n",
      "Doc: Conoce las compensaciones cuando se retrasa tu vuelo\n",
      "\n",
      "Llegas al aeropuerto y tu vuelo va con retraso, ¿conoces cuáles son tus derechos y si puedes pedir reclamar una compensación? Desde AirHelp te ayudamos con los trámites para que tu viaje no se convierta en una pesadilla y puedas conocer todos los casos en los que puedes hacer una reclamación y el plazo para realizar los reclamos. ¡Te ayudaremos a reclamar tu indemnización por si tu vuelo se retrasa!\n",
      "\n",
      "Desplazarse en avión es para muchas person...\n",
      "idx: 0, j: 2\n",
      "------------------------------\n",
      "point.id='ee0bc75a-d0df-4fea-9748-f1685a7fd6ab'\n",
      "point.score=0.5833333333333333\n",
      "Doc: Indemnización retraso vuelo\n",
      "\n",
      "Navegación por el Retraso en el vuelo\n",
      "\n",
      "    La indemnización por retraso de vuelo y los derechos en breve\n",
      "    ¿Tu vuelo se ha retrasado? Condiciones de indemnización\n",
      "    Indemnización por retraso de vuelo: Derechos de los pasajeros de la UE\n",
      "    Indemnización por retraso de vuelo: Paquete y viaje de negocios\n",
      "    Retraso del vuelo: Cómo reclamar una indemnización\n",
      "    Estado de los vuelos: Estadísticas de la UE sobre retrasos\n",
      "\n",
      "Indemnizaciones y derechos en caso de retras...\n",
      "idx: 0, j: 3\n",
      "------------------------------\n"
     ]
    }
   ],
   "source": [
    "_q_text = df_docs_smpl.iloc[0:1]['question']\n",
    "\n",
    "# Get Dense and sparse Vector\n",
    "_q_vec_dn = next(encoder_dn.embed(_q_text))\n",
    "_q_encoded_sp = next(encoder_sp.embed(_q_text))\n",
    "_q_vec_sp = models.SparseVector(\n",
    "    indices=_q_encoded_sp.indices,\n",
    "    values=_q_encoded_sp.values\n",
    "    )\n",
    "\n",
    "prefetch = [\n",
    "        models.Prefetch(\n",
    "            query=_q_vec_dn,\n",
    "            using=\"dense\",\n",
    "            limit=3,\n",
    "        ),\n",
    "        models.Prefetch(\n",
    "            query=_q_vec_sp,\n",
    "            using=\"sparse\",\n",
    "            limit=3,\n",
    "        ),\n",
    "    ]\n",
    "_q_rrf = models.FusionQuery(\n",
    "            fusion=models.Fusion.RRF,\n",
    "        )\n",
    "results = client_qdrant.query_points(\n",
    "        INDEX,\n",
    "        prefetch=prefetch,\n",
    "        query=models.FusionQuery(\n",
    "            fusion=models.Fusion.RRF,\n",
    "        ),\n",
    "        with_payload=True,\n",
    "        limit=3,\n",
    "    )\n",
    "\n",
    "for point in results.points:\n",
    "    doc_retrieved = point.payload['text']\n",
    "    print(f\"{point.id=}\")\n",
    "    print(f\"{point.score=}\")\n",
    "    print(f\"Doc: {doc_retrieved[:500]}...\")\n",
    "    print(f\"idx: {point.payload['index']}, j: {point.payload['text_j']}\")\n",
    "    print(\"-\"*30)\n"
   ]
  },
  {
   "cell_type": "code",
   "execution_count": null,
   "id": "6a26511a",
   "metadata": {},
   "outputs": [],
   "source": []
  }
 ],
 "metadata": {
  "kernelspec": {
   "display_name": ".venv",
   "language": "python",
   "name": "python3"
  },
  "language_info": {
   "codemirror_mode": {
    "name": "ipython",
    "version": 3
   },
   "file_extension": ".py",
   "mimetype": "text/x-python",
   "name": "python",
   "nbconvert_exporter": "python",
   "pygments_lexer": "ipython3",
   "version": "3.11.9"
  }
 },
 "nbformat": 4,
 "nbformat_minor": 5
}
