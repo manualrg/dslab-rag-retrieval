{
 "cells": [
  {
   "cell_type": "code",
   "execution_count": 1,
   "id": "d80ab1d5",
   "metadata": {},
   "outputs": [],
   "source": [
    "%load_ext autoreload\n",
    "%autoreload 2"
   ]
  },
  {
   "cell_type": "code",
   "execution_count": null,
   "id": "8c0e5386",
   "metadata": {},
   "outputs": [
    {
     "name": "stderr",
     "output_type": "stream",
     "text": [
      "c:\\Users\\manuelalberto.romero\\Documents\\repos\\dslabs\\dslab-rag-retrieval\\.venv\\lib\\site-packages\\tqdm\\auto.py:21: TqdmWarning: IProgress not found. Please update jupyter and ipywidgets. See https://ipywidgets.readthedocs.io/en/stable/user_install.html\n",
      "  from .autonotebook import tqdm as notebook_tqdm\n"
     ]
    }
   ],
   "source": [
    "import os\n",
    "from dotenv import load_dotenv\n",
    "import pandas as pd\n",
    "import tiktoken\n",
    "from openai import OpenAI\n",
    "from qdrant_client import models, QdrantClient\n",
    "\n",
    "\n",
    "from src import load_data, embeddings\n"
   ]
  },
  {
   "cell_type": "markdown",
   "id": "5bbc9ac7",
   "metadata": {},
   "source": [
    "# Params"
   ]
  },
  {
   "cell_type": "code",
   "execution_count": 3,
   "id": "2a92dcd2",
   "metadata": {},
   "outputs": [],
   "source": [
    "INDEX = \"ragquas-openai-01\"\n",
    "EMB_MODEL = \"text-embedding-3-small\"\n",
    "EMB_DIM = 1536\n",
    "RETRIEVE_K=5\n",
    "\n",
    "LEN_MAX_TOKENS = 2048\n",
    "SMPL_SIZE = 25  # int or None"
   ]
  },
  {
   "cell_type": "markdown",
   "id": "5320c420",
   "metadata": {},
   "source": [
    "# Environment variables"
   ]
  },
  {
   "cell_type": "code",
   "execution_count": 4,
   "id": "086f2414",
   "metadata": {},
   "outputs": [],
   "source": [
    "load_dotenv()\n",
    "\n",
    "OPENAI_API_KEY = os.environ['OPENAI_API_KEY']\n"
   ]
  },
  {
   "cell_type": "markdown",
   "id": "24dd54ed",
   "metadata": {},
   "source": [
    "# Clients"
   ]
  },
  {
   "cell_type": "code",
   "execution_count": 5,
   "id": "d23e1d98",
   "metadata": {},
   "outputs": [],
   "source": [
    "client_openai = OpenAI(\n",
    "    api_key=OPENAI_API_KEY\n",
    ")\n",
    "\n",
    "client_qdrant = QdrantClient(\":memory:\") \n"
   ]
  },
  {
   "cell_type": "markdown",
   "id": "64054a22",
   "metadata": {},
   "source": [
    "# Load Data"
   ]
  },
  {
   "cell_type": "code",
   "execution_count": 7,
   "id": "722b9759",
   "metadata": {},
   "outputs": [
    {
     "data": {
      "text/html": [
       "<div>\n",
       "<style scoped>\n",
       "    .dataframe tbody tr th:only-of-type {\n",
       "        vertical-align: middle;\n",
       "    }\n",
       "\n",
       "    .dataframe tbody tr th {\n",
       "        vertical-align: top;\n",
       "    }\n",
       "\n",
       "    .dataframe thead th {\n",
       "        text-align: right;\n",
       "    }\n",
       "</style>\n",
       "<table border=\"1\" class=\"dataframe\">\n",
       "  <thead>\n",
       "    <tr style=\"text-align: right;\">\n",
       "      <th></th>\n",
       "      <th>topic</th>\n",
       "      <th>answer</th>\n",
       "      <th>question</th>\n",
       "      <th>variant</th>\n",
       "      <th>context_1</th>\n",
       "      <th>context_2</th>\n",
       "      <th>context_3</th>\n",
       "      <th>context_4</th>\n",
       "      <th>context_5</th>\n",
       "      <th>link_1</th>\n",
       "      <th>link_2</th>\n",
       "      <th>link_3</th>\n",
       "      <th>link_4</th>\n",
       "      <th>link_5</th>\n",
       "      <th>text_1</th>\n",
       "      <th>text_2</th>\n",
       "      <th>text_3</th>\n",
       "      <th>text_4</th>\n",
       "      <th>text_5</th>\n",
       "    </tr>\n",
       "  </thead>\n",
       "  <tbody>\n",
       "    <tr>\n",
       "      <th>0</th>\n",
       "      <td>reclamaciones</td>\n",
       "      <td>La opción más fácil y eficaz para reclamar una...</td>\n",
       "      <td>¿Cuál es la forma más fácil de reclamar cuando...</td>\n",
       "      <td>question_1</td>\n",
       "      <td>#1. Airhelp\\n\\nLa empresa Airhelp fue fundada ...</td>\n",
       "      <td>En AirHelp hemos ayudado a más de 16 millones ...</td>\n",
       "      <td>MYFLYRIGHT, expertos en derechos de los viajer...</td>\n",
       "      <td></td>\n",
       "      <td></td>\n",
       "      <td>https://www.businessinsider.es/mejores-paginas...</td>\n",
       "      <td>https://www.airhelp.com/es/retrasos-de-vuelos/</td>\n",
       "      <td>https://myflyright.com/es/servicios/vuelo-retr...</td>\n",
       "      <td></td>\n",
       "      <td></td>\n",
       "      <td>5 páginas donde poder reclamar tus vuelos por ...</td>\n",
       "      <td>Conoce las compensaciones cuando se retrasa tu...</td>\n",
       "      <td>Indemnización retraso vuelo\\n\\nNavegación por ...</td>\n",
       "      <td></td>\n",
       "      <td></td>\n",
       "    </tr>\n",
       "    <tr>\n",
       "      <th>1</th>\n",
       "      <td>reclamaciones</td>\n",
       "      <td>La opción más fácil y eficaz para reclamar una...</td>\n",
       "      <td>hola mi vuelo a Alemania se ha retrasado mucho...</td>\n",
       "      <td>question_2</td>\n",
       "      <td>#1. Airhelp\\n\\nLa empresa Airhelp fue fundada ...</td>\n",
       "      <td>En AirHelp hemos ayudado a más de 16 millones ...</td>\n",
       "      <td>MYFLYRIGHT, expertos en derechos de los viajer...</td>\n",
       "      <td></td>\n",
       "      <td></td>\n",
       "      <td>https://www.businessinsider.es/mejores-paginas...</td>\n",
       "      <td>https://www.airhelp.com/es/retrasos-de-vuelos/</td>\n",
       "      <td>https://myflyright.com/es/servicios/vuelo-retr...</td>\n",
       "      <td></td>\n",
       "      <td></td>\n",
       "      <td>5 páginas donde poder reclamar tus vuelos por ...</td>\n",
       "      <td>Conoce las compensaciones cuando se retrasa tu...</td>\n",
       "      <td>Indemnización retraso vuelo\\n\\nNavegación por ...</td>\n",
       "      <td></td>\n",
       "      <td></td>\n",
       "    </tr>\n",
       "  </tbody>\n",
       "</table>\n",
       "</div>"
      ],
      "text/plain": [
       "           topic                                             answer  \\\n",
       "0  reclamaciones  La opción más fácil y eficaz para reclamar una...   \n",
       "1  reclamaciones  La opción más fácil y eficaz para reclamar una...   \n",
       "\n",
       "                                            question     variant  \\\n",
       "0  ¿Cuál es la forma más fácil de reclamar cuando...  question_1   \n",
       "1  hola mi vuelo a Alemania se ha retrasado mucho...  question_2   \n",
       "\n",
       "                                           context_1  \\\n",
       "0  #1. Airhelp\\n\\nLa empresa Airhelp fue fundada ...   \n",
       "1  #1. Airhelp\\n\\nLa empresa Airhelp fue fundada ...   \n",
       "\n",
       "                                           context_2  \\\n",
       "0  En AirHelp hemos ayudado a más de 16 millones ...   \n",
       "1  En AirHelp hemos ayudado a más de 16 millones ...   \n",
       "\n",
       "                                           context_3 context_4 context_5  \\\n",
       "0  MYFLYRIGHT, expertos en derechos de los viajer...                       \n",
       "1  MYFLYRIGHT, expertos en derechos de los viajer...                       \n",
       "\n",
       "                                              link_1  \\\n",
       "0  https://www.businessinsider.es/mejores-paginas...   \n",
       "1  https://www.businessinsider.es/mejores-paginas...   \n",
       "\n",
       "                                           link_2  \\\n",
       "0  https://www.airhelp.com/es/retrasos-de-vuelos/   \n",
       "1  https://www.airhelp.com/es/retrasos-de-vuelos/   \n",
       "\n",
       "                                              link_3 link_4 link_5  \\\n",
       "0  https://myflyright.com/es/servicios/vuelo-retr...                 \n",
       "1  https://myflyright.com/es/servicios/vuelo-retr...                 \n",
       "\n",
       "                                              text_1  \\\n",
       "0  5 páginas donde poder reclamar tus vuelos por ...   \n",
       "1  5 páginas donde poder reclamar tus vuelos por ...   \n",
       "\n",
       "                                              text_2  \\\n",
       "0  Conoce las compensaciones cuando se retrasa tu...   \n",
       "1  Conoce las compensaciones cuando se retrasa tu...   \n",
       "\n",
       "                                              text_3 text_4 text_5  \n",
       "0  Indemnización retraso vuelo\\n\\nNavegación por ...                \n",
       "1  Indemnización retraso vuelo\\n\\nNavegación por ...                "
      ]
     },
     "execution_count": 7,
     "metadata": {},
     "output_type": "execute_result"
    }
   ],
   "source": [
    "df_ragquas = load_data.ragquas()\n",
    "df_ragquas.head(2)"
   ]
  },
  {
   "cell_type": "code",
   "execution_count": 8,
   "id": "77be9640",
   "metadata": {},
   "outputs": [
    {
     "name": "stdout",
     "output_type": "stream",
     "text": [
      "Raw shape: (250, 3)\n",
      "<class 'pandas.core.frame.DataFrame'>\n",
      "RangeIndex: 183 entries, 0 to 182\n",
      "Data columns (total 10 columns):\n",
      " #   Column    Non-Null Count  Dtype \n",
      "---  ------    --------------  ----- \n",
      " 0   index     183 non-null    int64 \n",
      " 1   topic     183 non-null    object\n",
      " 2   variant   183 non-null    object\n",
      " 3   question  183 non-null    object\n",
      " 4   answer    183 non-null    object\n",
      " 5   j         183 non-null    int64 \n",
      " 6   context_  183 non-null    object\n",
      " 7   text_     183 non-null    object\n",
      " 8   link_     183 non-null    object\n",
      " 9   uuid      183 non-null    object\n",
      "dtypes: int64(2), object(8)\n",
      "memory usage: 14.4+ KB\n"
     ]
    }
   ],
   "source": [
    "df_docs = load_data.prepare_ragquas(df_ragquas)\n",
    "df_docs.info()"
   ]
  },
  {
   "cell_type": "code",
   "execution_count": null,
   "id": "056026d3",
   "metadata": {},
   "outputs": [
    {
     "data": {
      "text/plain": [
       "886"
      ]
     },
     "execution_count": 9,
     "metadata": {},
     "output_type": "execute_result"
    }
   ],
   "source": [
    "\n",
    "\n",
    "if SMPL_SIZE:\n",
    "    df_docs_smpl = df_docs.iloc[:SMPL_SIZE]\n",
    "else:\n",
    "    df_docs_smpl = df_docs\n",
    "    \n",
    "lst_texts = df_docs_smpl[\"text_\"].tolist()\n",
    "\n",
    "encoding = tiktoken.get_encoding(\"cl100k_base\")\n",
    "encoding = tiktoken.encoding_for_model(EMB_MODEL)\n",
    "len(encoding.encode(lst_texts[0]))\n"
   ]
  },
  {
   "cell_type": "code",
   "execution_count": null,
   "id": "c5bd68a1",
   "metadata": {},
   "outputs": [
    {
     "data": {
      "text/plain": [
       "count      25.000000\n",
       "mean     3115.960000\n",
       "std      2496.030423\n",
       "min       542.000000\n",
       "25%      1472.000000\n",
       "50%      2339.000000\n",
       "75%      3780.000000\n",
       "max      8768.000000\n",
       "dtype: float64"
      ]
     },
     "execution_count": 10,
     "metadata": {},
     "output_type": "execute_result"
    }
   ],
   "source": [
    "lst_texts_tkns_len = []\n",
    "lst_texts_tkns = []\n",
    "\n",
    "for text in lst_texts:\n",
    "    text_tkns = encoding.encode(text)\n",
    "    ntokens = len(text_tkns)\n",
    "    lst_texts_tkns.append(text_tkns)\n",
    "    lst_texts_tkns_len.append(ntokens)\n",
    "\n",
    "\n",
    "pd.Series(lst_texts_tkns_len).describe()\n"
   ]
  },
  {
   "cell_type": "code",
   "execution_count": 11,
   "id": "541e4a85",
   "metadata": {},
   "outputs": [],
   "source": [
    "lst_texts_tkns_trunc = []\n",
    "\n",
    "for text in lst_texts_tkns:\n",
    "    lst_texts_tkns_trunc.append(text[:LEN_MAX_TOKENS])"
   ]
  },
  {
   "cell_type": "code",
   "execution_count": 12,
   "id": "edc492bc",
   "metadata": {},
   "outputs": [],
   "source": [
    "response = client_openai.embeddings.create(\n",
    "    input=lst_texts_tkns_trunc,\n",
    "    model=EMB_MODEL\n",
    ")\n",
    "\n"
   ]
  },
  {
   "cell_type": "code",
   "execution_count": 13,
   "id": "2fdcf3ac",
   "metadata": {},
   "outputs": [
    {
     "name": "stdout",
     "output_type": "stream",
     "text": [
      "25\n",
      "1536\n"
     ]
    }
   ],
   "source": [
    "lst_embeddings = []\n",
    "\n",
    "for vec in response.data:\n",
    "    lst_embeddings.append(vec.embedding)\n",
    "\n",
    "\n",
    "print(f\"{len(lst_embeddings)}\")\n",
    "print(f\"{len(lst_embeddings[0])}\")  # embeddings dimension"
   ]
  },
  {
   "cell_type": "code",
   "execution_count": 14,
   "id": "3fc2c86b",
   "metadata": {},
   "outputs": [
    {
     "name": "stdout",
     "output_type": "stream",
     "text": [
      "len(lst_pts)=25\n"
     ]
    }
   ],
   "source": [
    "lst_pts = embeddings.create_index_points(\n",
    "    lst_embeddings,\n",
    "    df_docs_smpl,\n",
    ")\n",
    "print(f\"{len(lst_pts)=}\")"
   ]
  },
  {
   "cell_type": "code",
   "execution_count": 15,
   "id": "dc6d4528",
   "metadata": {},
   "outputs": [
    {
     "name": "stdout",
     "output_type": "stream",
     "text": [
      "len(lst_qdrant_pts)=25\n"
     ]
    }
   ],
   "source": [
    "lst_qdrant_pts = embeddings.convert_to_qdrant_points(lst_pts)\n",
    "print(f\"{len(lst_qdrant_pts)=}\")"
   ]
  },
  {
   "cell_type": "code",
   "execution_count": 16,
   "id": "66525791",
   "metadata": {},
   "outputs": [
    {
     "data": {
      "text/plain": [
       "UpdateResult(operation_id=0, status=<UpdateStatus.COMPLETED: 'completed'>)"
      ]
     },
     "execution_count": 16,
     "metadata": {},
     "output_type": "execute_result"
    }
   ],
   "source": [
    "client_qdrant.create_collection(\n",
    "    collection_name=INDEX,\n",
    "    vectors_config=models.VectorParams(\n",
    "        size=EMB_DIM,\n",
    "        distance=models.Distance.COSINE,\n",
    "    ),\n",
    ")\n",
    "\n",
    "client_qdrant.upsert(\n",
    "    collection_name=INDEX,\n",
    "    points=lst_qdrant_pts\n",
    ")"
   ]
  },
  {
   "cell_type": "code",
   "execution_count": 18,
   "id": "91bf38be",
   "metadata": {},
   "outputs": [
    {
     "name": "stdout",
     "output_type": "stream",
     "text": [
      "Question: ¿Cuál es la forma más fácil de reclamar cuando un vuelo que sale de España se ha retrasado?\n",
      "point.id='d5079284-f1f0-49e5-9cab-d1857f470bef'\n",
      "point.score=0.6702019857238788\n",
      "Doc: 5 páginas donde poder reclamar tus vuelos por retraso o cancelación de manera gratuita\n",
      "Irina Pérez\n",
      "\n",
      "    En muchas ocasiones no se realiza la reclamación de un vuelo por retraso o cancelación, porque se desconocen los derechos como pasajeros y la manera de realizar el trámite. \n",
      "    Por ello, aquí van 5 reclamadores online que te ayudarán a conseguir una indemnización por tu vuelo, sin que tengas que desplazarte ni hacer papeleos.\n",
      "    Descubre más historias en Business Insider España.\n",
      "\n",
      "Volar es si...\n",
      "idx: 0, j: 1\n",
      "------------------------------\n",
      "point.id='b9aefee9-8635-4fb7-b42e-6a70bd8d085a'\n",
      "point.score=0.6507552540036746\n",
      "Doc: Conoce las compensaciones cuando se retrasa tu vuelo\n",
      "\n",
      "Llegas al aeropuerto y tu vuelo va con retraso, ¿conoces cuáles son tus derechos y si puedes pedir reclamar una compensación? Desde AirHelp te ayudamos con los trámites para que tu viaje no se convierta en una pesadilla y puedas conocer todos los casos en los que puedes hacer una reclamación y el plazo para realizar los reclamos. ¡Te ayudaremos a reclamar tu indemnización por si tu vuelo se retrasa!\n",
      "\n",
      "Desplazarse en avión es para muchas person...\n",
      "idx: 0, j: 2\n",
      "------------------------------\n",
      "point.id='b13de933-fab6-4ee6-b645-9afdfe40c97d'\n",
      "point.score=0.6437423319501371\n",
      "Doc: Indemnización retraso vuelo\n",
      "\n",
      "Navegación por el Retraso en el vuelo\n",
      "\n",
      "    La indemnización por retraso de vuelo y los derechos en breve\n",
      "    ¿Tu vuelo se ha retrasado? Condiciones de indemnización\n",
      "    Indemnización por retraso de vuelo: Derechos de los pasajeros de la UE\n",
      "    Indemnización por retraso de vuelo: Paquete y viaje de negocios\n",
      "    Retraso del vuelo: Cómo reclamar una indemnización\n",
      "    Estado de los vuelos: Estadísticas de la UE sobre retrasos\n",
      "\n",
      "Indemnizaciones y derechos en caso de retras...\n",
      "idx: 0, j: 3\n",
      "------------------------------\n"
     ]
    }
   ],
   "source": [
    "_q_text = df_docs_smpl.iloc[0]['question']\n",
    "\n",
    "response = client_openai.embeddings.create(\n",
    "    input=_q_text,\n",
    "    model=EMB_MODEL\n",
    ")\n",
    "\n",
    "_q_vec = response.data[0].embedding\n",
    "\n",
    "print(f\"Question: {_q_text}\")\n",
    "embeddings.check_query_qdrant(\n",
    "        client_qdrant,\n",
    "        INDEX,\n",
    "        _q_vec,\n",
    "        retrieve_k=3\n",
    ")\n",
    "\n"
   ]
  },
  {
   "cell_type": "code",
   "execution_count": null,
   "id": "cf7e86a6",
   "metadata": {},
   "outputs": [],
   "source": []
  }
 ],
 "metadata": {
  "kernelspec": {
   "display_name": ".venv",
   "language": "python",
   "name": "python3"
  },
  "language_info": {
   "codemirror_mode": {
    "name": "ipython",
    "version": 3
   },
   "file_extension": ".py",
   "mimetype": "text/x-python",
   "name": "python",
   "nbconvert_exporter": "python",
   "pygments_lexer": "ipython3",
   "version": "3.10.9"
  }
 },
 "nbformat": 4,
 "nbformat_minor": 5
}
